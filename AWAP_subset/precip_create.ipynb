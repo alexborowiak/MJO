{
 "cells": [
  {
   "cell_type": "markdown",
   "metadata": {
    "toc": true
   },
   "source": [
    "<h1>Table of Contents<span class=\"tocSkip\"></span></h1>\n",
    "<div class=\"toc\"><ul class=\"toc-item\"><li><span><a href=\"#Preamble\" data-toc-modified-id=\"Preamble-1\"><span class=\"toc-item-num\">1&nbsp;&nbsp;</span>Preamble</a></span></li><li><span><a href=\"#Loading-in-AWAP\" data-toc-modified-id=\"Loading-in-AWAP-2\"><span class=\"toc-item-num\">2&nbsp;&nbsp;</span>Loading in AWAP</a></span></li><li><span><a href=\"#Applying--a-Mask\" data-toc-modified-id=\"Applying--a-Mask-3\"><span class=\"toc-item-num\">3&nbsp;&nbsp;</span>Applying  a Mask</a></span></li><li><span><a href=\"#Just-North-and-Raindays\" data-toc-modified-id=\"Just-North-and-Raindays-4\"><span class=\"toc-item-num\">4&nbsp;&nbsp;</span>Just North and Raindays</a></span></li><li><span><a href=\"#The-RMM\" data-toc-modified-id=\"The-RMM-5\"><span class=\"toc-item-num\">5&nbsp;&nbsp;</span>The RMM</a></span><ul class=\"toc-item\"><li><span><a href=\"#Reading-In\" data-toc-modified-id=\"Reading-In-5.1\"><span class=\"toc-item-num\">5.1&nbsp;&nbsp;</span>Reading In</a></span></li><li><span><a href=\"#Adding-to-AWAP-and-Removing-Errors\" data-toc-modified-id=\"Adding-to-AWAP-and-Removing-Errors-5.2\"><span class=\"toc-item-num\">5.2&nbsp;&nbsp;</span>Adding to AWAP and Removing Errors</a></span></li></ul></li><li><span><a href=\"#Percentiles\" data-toc-modified-id=\"Percentiles-6\"><span class=\"toc-item-num\">6&nbsp;&nbsp;</span>Percentiles</a></span><ul class=\"toc-item\"><li><span><a href=\"#Climatology\" data-toc-modified-id=\"Climatology-6.1\"><span class=\"toc-item-num\">6.1&nbsp;&nbsp;</span>Climatology</a></span><ul class=\"toc-item\"><li><span><a href=\"#90th\" data-toc-modified-id=\"90th-6.1.1\"><span class=\"toc-item-num\">6.1.1&nbsp;&nbsp;</span>90th</a></span></li><li><span><a href=\"#95th\" data-toc-modified-id=\"95th-6.1.2\"><span class=\"toc-item-num\">6.1.2&nbsp;&nbsp;</span>95th</a></span></li></ul></li><li><span><a href=\"#AWAP\" data-toc-modified-id=\"AWAP-6.2\"><span class=\"toc-item-num\">6.2&nbsp;&nbsp;</span>AWAP</a></span><ul class=\"toc-item\"><li><span><a href=\"#Functions\" data-toc-modified-id=\"Functions-6.2.1\"><span class=\"toc-item-num\">6.2.1&nbsp;&nbsp;</span>Functions</a></span></li><li><span><a href=\"#P90\" data-toc-modified-id=\"P90-6.2.2\"><span class=\"toc-item-num\">6.2.2&nbsp;&nbsp;</span>P90</a></span></li><li><span><a href=\"#P95\" data-toc-modified-id=\"P95-6.2.3\"><span class=\"toc-item-num\">6.2.3&nbsp;&nbsp;</span>P95</a></span></li><li><span><a href=\"#Manual\" data-toc-modified-id=\"Manual-6.2.4\"><span class=\"toc-item-num\">6.2.4&nbsp;&nbsp;</span>Manual</a></span></li><li><span><a href=\"#Exporting\" data-toc-modified-id=\"Exporting-6.2.5\"><span class=\"toc-item-num\">6.2.5&nbsp;&nbsp;</span>Exporting</a></span></li></ul></li></ul></li></ul></div>"
   ]
  },
  {
   "cell_type": "markdown",
   "metadata": {},
   "source": [
    "# Preamble"
   ]
  },
  {
   "cell_type": "code",
   "execution_count": 1,
   "metadata": {
    "ExecuteTime": {
     "end_time": "2019-12-18T07:43:31.765444Z",
     "start_time": "2019-12-18T07:43:19.806969Z"
    }
   },
   "outputs": [],
   "source": [
    "import xarray as xr\n",
    "import numpy as np\n",
    "import pickle\n",
    "import pandas as pd\n",
    "import matplotlib.pyplot as plt\n",
    "import cartopy.crs as ccrs\n",
    "from dask.diagnostics import ProgressBar"
   ]
  },
  {
   "cell_type": "markdown",
   "metadata": {},
   "source": [
    "# Loading in AWAP"
   ]
  },
  {
   "cell_type": "code",
   "execution_count": 6,
   "metadata": {
    "ExecuteTime": {
     "end_time": "2019-12-18T08:01:18.712845Z",
     "start_time": "2019-12-18T08:01:18.707788Z"
    }
   },
   "outputs": [],
   "source": [
    "directory  = '/g/data/w40/ab2313/'"
   ]
  },
  {
   "cell_type": "code",
   "execution_count": 2,
   "metadata": {
    "ExecuteTime": {
     "end_time": "2019-12-18T07:50:02.743518Z",
     "start_time": "2019-12-18T07:43:31.767514Z"
    }
   },
   "outputs": [],
   "source": [
    "path = directory + 'precip_calib_0.25_1911_2017_land.nc'\n",
    "AWAP = xr.open_dataset(path, chunks={'time':1}) "
   ]
  },
  {
   "cell_type": "code",
   "execution_count": 4,
   "metadata": {
    "ExecuteTime": {
     "end_time": "2019-12-18T07:57:37.987867Z",
     "start_time": "2019-12-18T07:57:37.984340Z"
    }
   },
   "outputs": [],
   "source": [
    "AWAP.attrs = {}"
   ]
  },
  {
   "cell_type": "markdown",
   "metadata": {},
   "source": [
    "# Applying  a Mask"
   ]
  },
  {
   "cell_type": "code",
   "execution_count": 7,
   "metadata": {
    "ExecuteTime": {
     "end_time": "2019-12-18T08:01:20.508160Z",
     "start_time": "2019-12-18T08:01:20.248905Z"
    }
   },
   "outputs": [],
   "source": [
    "#This file is a mask for AWAP: The Gibson Desert Region\n",
    "\n",
    "path = directory  + 'precip_calib_0.25_maskforCAus.nc'\n",
    "mask = xr.open_dataset(path)\n",
    "mask = mask.rename({'longitude':'lon'})\n",
    "mask = mask.rename({'latitude':'lat'})\n",
    "\n",
    "AWAP = AWAP.where(mask.mask == 1)"
   ]
  },
  {
   "cell_type": "markdown",
   "metadata": {},
   "source": [
    "# Just North and Raindays"
   ]
  },
  {
   "cell_type": "code",
   "execution_count": 11,
   "metadata": {
    "ExecuteTime": {
     "end_time": "2019-12-18T08:06:47.744802Z",
     "start_time": "2019-12-18T08:02:41.683578Z"
    }
   },
   "outputs": [
    {
     "name": "stderr",
     "output_type": "stream",
     "text": [
      "/g/data3/hh5/public/apps/miniconda3/envs/analysis3-19.07/lib/python3.6/site-packages/dask/core.py:119: RuntimeWarning: invalid value encountered in greater_equal\n",
      "  return func(*args2)\n",
      "/g/data3/hh5/public/apps/miniconda3/envs/analysis3-19.07/lib/python3.6/site-packages/dask/core.py:119: RuntimeWarning: invalid value encountered in less\n",
      "  return func(*args2)\n",
      "/g/data3/hh5/public/apps/miniconda3/envs/analysis3-19.07/lib/python3.6/site-packages/dask/core.py:119: RuntimeWarning: invalid value encountered in greater_equal\n",
      "  return func(*args2)\n",
      "/g/data3/hh5/public/apps/miniconda3/envs/analysis3-19.07/lib/python3.6/site-packages/dask/core.py:119: RuntimeWarning: invalid value encountered in less\n",
      "  return func(*args2)\n"
     ]
    }
   ],
   "source": [
    " # Just the north\n",
    "AWAP = AWAP.sel(lat = slice(-23,0))\n",
    "#Rainday > 1mm\n",
    "AWAP = AWAP.where(AWAP.precip >= 1, drop = True) \n",
    " # This are unphysical\n",
    "AWAP = AWAP.where(AWAP.precip < 8000, drop = True)\n",
    "# wet season only\n",
    "AWAP = AWAP.where(AWAP.time.dt.month.isin([10,11,12,1,2,3]) , drop = True) "
   ]
  },
  {
   "cell_type": "code",
   "execution_count": 15,
   "metadata": {
    "ExecuteTime": {
     "end_time": "2019-12-18T08:09:00.628328Z",
     "start_time": "2019-12-18T08:09:00.622539Z"
    }
   },
   "outputs": [],
   "source": [
    "AWAP.attrs = ({'Information':'Only contains the wet season [10,11,12,1,2,3],'\n",
    "               + 'rainfall >= 1mm and the North of Australia'})"
   ]
  },
  {
   "cell_type": "code",
   "execution_count": 16,
   "metadata": {
    "ExecuteTime": {
     "end_time": "2019-12-18T08:09:01.291747Z",
     "start_time": "2019-12-18T08:09:01.275991Z"
    }
   },
   "outputs": [
    {
     "data": {
      "text/plain": [
       "<xarray.Dataset>\n",
       "Dimensions:  (lat: 49, lon: 149, time: 19281)\n",
       "Coordinates:\n",
       "  * lon      (lon) float64 113.8 114.0 114.2 114.5 ... 150.0 150.2 150.5 150.8\n",
       "  * lat      (lat) float64 -23.0 -22.75 -22.5 -22.25 ... -11.5 -11.25 -11.0\n",
       "  * time     (time) datetime64[ns] 1911-01-01T09:00:00 ... 2017-12-31T09:00:00\n",
       "Data variables:\n",
       "    precip   (time, lat, lon) float32 dask.array<chunksize=(1, 49, 149), meta=np.ndarray>\n",
       "Attributes:\n",
       "    Information:  Only contains the wet season [10,11,12,1,2,3],rainfall >= 1..."
      ]
     },
     "execution_count": 16,
     "metadata": {},
     "output_type": "execute_result"
    }
   ],
   "source": [
    "AWAP"
   ]
  },
  {
   "cell_type": "code",
   "execution_count": 17,
   "metadata": {
    "ExecuteTime": {
     "end_time": "2019-12-18T08:25:36.775328Z",
     "start_time": "2019-12-18T08:09:08.027386Z"
    }
   },
   "outputs": [
    {
     "name": "stdout",
     "output_type": "stream",
     "text": [
      "[                                        ] | 0% Completed | 22.2s"
     ]
    },
    {
     "name": "stderr",
     "output_type": "stream",
     "text": [
      "/g/data3/hh5/public/apps/miniconda3/envs/analysis3-19.07/lib/python3.6/site-packages/dask/core.py:119: RuntimeWarning: invalid value encountered in greater_equal\n",
      "  return func(*args2)\n",
      "/g/data3/hh5/public/apps/miniconda3/envs/analysis3-19.07/lib/python3.6/site-packages/dask/core.py:119: RuntimeWarning: invalid value encountered in less\n",
      "  return func(*args2)\n"
     ]
    },
    {
     "name": "stdout",
     "output_type": "stream",
     "text": [
      "[########################################] | 100% Completed | 14min 46.7s\n"
     ]
    }
   ],
   "source": [
    "with ProgressBar():\n",
    "    AWAP.to_netcdf('/g/data/w40/ab2313/awap_n2.nc')"
   ]
  },
  {
   "cell_type": "code",
   "execution_count": null,
   "metadata": {},
   "outputs": [],
   "source": []
  }
 ],
 "metadata": {
  "kernelspec": {
   "display_name": "Python 3",
   "language": "python",
   "name": "python3"
  },
  "language_info": {
   "codemirror_mode": {
    "name": "ipython",
    "version": 3
   },
   "file_extension": ".py",
   "mimetype": "text/x-python",
   "name": "python",
   "nbconvert_exporter": "python",
   "pygments_lexer": "ipython3",
   "version": "3.6.7"
  },
  "latex_envs": {
   "LaTeX_envs_menu_present": true,
   "autoclose": false,
   "autocomplete": true,
   "bibliofile": "biblio.bib",
   "cite_by": "apalike",
   "current_citInitial": 1,
   "eqLabelWithNumbers": true,
   "eqNumInitial": 1,
   "hotkeys": {
    "equation": "Ctrl-E",
    "itemize": "Ctrl-I"
   },
   "labels_anchors": false,
   "latex_user_defs": false,
   "report_style_numbering": false,
   "user_envs_cfg": false
  },
  "toc": {
   "base_numbering": 1,
   "nav_menu": {},
   "number_sections": true,
   "sideBar": true,
   "skip_h1_title": false,
   "title_cell": "Table of Contents",
   "title_sidebar": "Contents",
   "toc_cell": true,
   "toc_position": {},
   "toc_section_display": true,
   "toc_window_display": true
  }
 },
 "nbformat": 4,
 "nbformat_minor": 2
}
