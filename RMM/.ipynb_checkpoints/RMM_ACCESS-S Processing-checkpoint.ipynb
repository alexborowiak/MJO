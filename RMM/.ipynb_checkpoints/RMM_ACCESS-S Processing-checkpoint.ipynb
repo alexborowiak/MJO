{
 "cells": [
  {
   "cell_type": "markdown",
   "metadata": {},
   "source": [
    "<div class=\"alert alert-block alert-info\"> \n",
    "\n",
    "<b> Description </b> \n",
    "<br>\n",
    "This is the RMM from ACCESS-S calulcated by Andrew Marshal. The original files\n",
    "\t\tare found in the e-mail from Andrew King and Andrew Marshal. His format was\n",
    "\t\tquite weird and thus there is a lot of processing that needed to be done to get \t\tit into the same format as the observed RMM, in order to be used in \n",
    "\t\tpre-existing functions.\n",
    "        \n",
    " </div>"
   ]
  },
  {
   "cell_type": "code",
   "execution_count": 1,
   "metadata": {
    "ExecuteTime": {
     "end_time": "2019-11-05T05:34:53.993318Z",
     "start_time": "2019-11-05T05:34:49.435762Z"
    }
   },
   "outputs": [
    {
     "data": {
      "text/plain": [
       "'Jupyter Markdown Cheat Sheet'"
      ]
     },
     "execution_count": 1,
     "metadata": {},
     "output_type": "execute_result"
    }
   ],
   "source": [
    "\n",
    "import xarray as xr\n",
    "import numpy as np\n",
    "import pandas as pd\n",
    "import matplotlib.pyplot as plt\n",
    "import dask.array\n",
    "import cartopy.crs as ccrs\n",
    "import pickle\n",
    "import matplotlib.colors as colors\n",
    "import datetime as dt\n",
    "import pickle\n",
    "from matplotlib.colors import BoundaryNorm\n",
    "rb = plt.cm.RdBu\n",
    "bm = plt.cm.Blues\n",
    "best_blue = '#9bc2d5'\n",
    "recherche_red = '#fbc4aa'\n",
    "wondeful_white = '#f8f8f7'\n",
    "import glob\n",
    "import pdb\n",
    "\n",
    "'''Jupyter Markdown Cheat Sheet'''\n",
    "# https://medium.com/ibm-data-science-experience/markdown-for-jupyter-notebooks-cheatsheet-386c05aeebed\n",
    "# https://www.ibm.com/support/knowledgecenter/en/SSGNPV_1.1.3/dsx/markd-jupyter.html"
   ]
  },
  {
   "cell_type": "markdown",
   "metadata": {},
   "source": [
    "<div class=\"alert alert-block alert-info\"> <font size = \"+6\", color = 'black'> <center>Reading In </center></font></div>"
   ]
  },
  {
   "cell_type": "code",
   "execution_count": 2,
   "metadata": {
    "ExecuteTime": {
     "end_time": "2019-11-05T05:34:54.009405Z",
     "start_time": "2019-11-05T05:34:53.997797Z"
    }
   },
   "outputs": [
    {
     "data": {
      "text/plain": [
       "['/home/563/ab2313/MJO/RMM/RMM_access_raw/RMM12_day01_month01_1990-2012_ncep_access-s1.nc',\n",
       " '/home/563/ab2313/MJO/RMM/RMM_access_raw/RMM12_day01_month02_1990-2012_ncep_access-s1.nc',\n",
       " '/home/563/ab2313/MJO/RMM/RMM_access_raw/RMM12_day01_month03_1990-2012_ncep_access-s1.nc',\n",
       " '/home/563/ab2313/MJO/RMM/RMM_access_raw/RMM12_day01_month04_1990-2012_ncep_access-s1.nc',\n",
       " '/home/563/ab2313/MJO/RMM/RMM_access_raw/RMM12_day01_month05_1990-2012_ncep_access-s1.nc',\n",
       " '/home/563/ab2313/MJO/RMM/RMM_access_raw/RMM12_day01_month06_1990-2012_ncep_access-s1.nc',\n",
       " '/home/563/ab2313/MJO/RMM/RMM_access_raw/RMM12_day01_month09_1990-2012_ncep_access-s1.nc',\n",
       " '/home/563/ab2313/MJO/RMM/RMM_access_raw/RMM12_day01_month10_1990-2012_ncep_access-s1.nc',\n",
       " '/home/563/ab2313/MJO/RMM/RMM_access_raw/RMM12_day01_month11_1990-2012_ncep_access-s1.nc',\n",
       " '/home/563/ab2313/MJO/RMM/RMM_access_raw/RMM12_day01_month12_1990-2012_ncep_access-s1.nc',\n",
       " '/home/563/ab2313/MJO/RMM/RMM_access_raw/RMM12_day01_month07_1990-2012_ncep_access-s1.nc',\n",
       " '/home/563/ab2313/MJO/RMM/RMM_access_raw/RMM12_day01_month08_1990-2012_ncep_access-s1.nc']"
      ]
     },
     "execution_count": 2,
     "metadata": {},
     "output_type": "execute_result"
    }
   ],
   "source": [
    "'''There is a different file for every single month. Thus 12 files in total'''\n",
    "\n",
    "rmm_path = '/home/563/ab2313/MJO/RMM/RMM_access_raw/'\n",
    "rmm_files = glob.glob(rmm_path + '*.nc')\n",
    "rmm_files"
   ]
  },
  {
   "cell_type": "markdown",
   "metadata": {},
   "source": [
    "<div class=\"alert alert-block alert-success\">\n",
    "<br>\n",
    "<font size = \"+6\", color = 'black'> <center> Processing </center></font>\n",
    "<br>\n",
    "\n",
    "<font color = 'black'> <center> Changing the format so that it is useable </center></font>\n",
    "\n",
    "</div>"
   ]
  },
  {
   "cell_type": "code",
   "execution_count": 6,
   "metadata": {
    "code_folding": []
   },
   "outputs": [],
   "source": [
    "'''\n",
    "1. Looping throught all the files\n",
    "1.5 Finding the month in this file\n",
    "2. There are 11 differetn ensemble members, each one needs to be done individually.\n",
    "3. Each point is referenced by year, which marks the start of the run, and then by the days since this. \n",
    "   need to convert this into a plain time series\n",
    "4. The format that I want is datetime\n",
    "5. Gettging the actual dates that things occured at. Oringonal file has a start date, and then days since then.\n",
    "   I'm putting this as just the actual date this occured at. \n",
    "6. Storing everything as an xarray file\n",
    "7. For each file we only want a single month of the data\n",
    "8. Cominging into the one xarry file. Prior to this all of the RMM's are just for a single month\n",
    "'''\n",
    "\n",
    "\n",
    "\n",
    "total_stor = []\n",
    "\n",
    "'''1. File loop'''\n",
    "for file in rmm_files:\n",
    "    \n",
    "    '''1.5 Working out what month we are dealing with in this file. Usefule for later on'''\n",
    "    month = list(file.split('/')[-1].split('_')[2])[-2:]\n",
    "    month = month[0] + month[1]\n",
    "    month = int(month)\n",
    "\n",
    "    \n",
    "    single_file = xr.open_dataset(file) # Opening a file\n",
    "    single_file.attrs = {} # Remving all the attribues\n",
    "    \n",
    "\n",
    "    # Storage for all ensembles\n",
    "    time_ensemble = []\n",
    "    rmm1_ensemble = []\n",
    "    rmm2_ensemble = []\n",
    "    \n",
    "    \n",
    "    '''2. Ensemlbe loop'''\n",
    "    ensemble_members = single_file.nvars.values\n",
    "    for ensemble in ensemble_members:\n",
    "\n",
    "        single_ensemble =single_file.sel(nvars = ensemble).drop('nvars') # Selecting a single ensemble\n",
    "\n",
    "        \n",
    "        time_series = []\n",
    "        rmm1_series = []\n",
    "        rmm2_series = []\n",
    "        \n",
    "        '''3. Getting the start'''\n",
    "        init_years = single_ensemble.nfc.values\n",
    "        for init in init_years:\n",
    "\n",
    "            '''4. Converting everything into a datetime format. The format is YYYYMMDD'''\n",
    "            year = int(np.trunc(init/10000)) #By dividing by 10000, and then truncating this will just give the year\n",
    "            month = int(np.trunc(init/100)) - year * 100 # Same logic, but now must remove the year\n",
    "            day = int(init - month * 100 - year * 10000) # Same logica as line above\n",
    "            # Converting this into a dattime format\n",
    "            init_date = pd.to_datetime(str(year) +'-'+ str(month) +'-'+ str(day), format = '%Y-%m-%d')\n",
    "            \n",
    "\n",
    "            # All these values are in nanoseconds (can't explain why, very strange), thus they need to be converted\n",
    "            nanosecond_to_day_conversion =  10 **-9/60/60/24 \n",
    "            raw_time_deltas = single_ensemble.time.values\n",
    "            # Converting from a time_delta in nanoseconds to days. Time deltas looks like [0,1,2,3,4]\n",
    "            time_deltas = (np.array(raw_time_deltas) * nanosecond_to_day_conversion).astype(int) - 1\n",
    "\n",
    "\n",
    "            '''5. Actual Dates'''\n",
    "            # Looping throught the time_delatas, and the raw. The raw is there so I can extract\n",
    "            # the RMM1 and RMM2 values form the intial array\n",
    "            for delta, raw in zip(time_deltas, raw_time_deltas):\n",
    "                actual_date = init_date + pd.to_timedelta(str(delta) + 'D') #Shifting initial date forward\n",
    "                time_series.append(actual_date)\n",
    "                \n",
    "                # Extracting the RMM\n",
    "                RMM_val = single_ensemble.RMM12.sel(nfc = init, time = raw).values \n",
    "                rmm1_series.append(RMM_val[0])\n",
    "                rmm2_series.append(RMM_val[1])\n",
    "\n",
    "        time_ensemble.append(time_series)   \n",
    "    #     time_ensemble = np.array(time_ensemble)\n",
    "        rmm1_ensemble.append(rmm1_series)\n",
    "        rmm2_ensemble.append(rmm2_series)\n",
    "\n",
    "    '''6. Making into an xarray file'''\n",
    "    rmm_access_single_month = xr.Dataset(\n",
    "    {'rmm1':(('ensemble','time'), rmm1_ensemble), 'rmm2':(('ensemble','time'), rmm2_ensemble)},\n",
    "    {'ensemble': np.arange(12),\n",
    "     'time': time_ensemble[0]\n",
    "    }\n",
    "    )\n",
    "    \n",
    "    '''7. Single Month Select'''\n",
    "    \n",
    "    rmm_access_single_month = rmm_access_single_month.where(rmm_access_single_month.time.dt.month == month, \n",
    "                                                            drop = True)\n",
    "    \n",
    "    #########################\n",
    "    total_stor.append(rmm_access_single_month)\n",
    "     \n",
    "\n",
    "'''8. Combinging into a single file'''   \n",
    "for i,file in enumerate(total_stor):\n",
    "    if i == 0:\n",
    "        rmm_access_raw = file\n",
    "\n",
    "    else:\n",
    "        rmm_access_raw = rmm_access_raw.combine_first(file)\n",
    "            "
   ]
  },
  {
   "cell_type": "code",
   "execution_count": 19,
   "metadata": {},
   "outputs": [
    {
     "data": {
      "text/plain": [
       "<xarray.Dataset>\n",
       "Dimensions:   (ensemble: 12, time: 8401)\n",
       "Coordinates:\n",
       "  * time      (time) datetime64[ns] 1990-01-01 1990-01-02 ... 2012-12-31\n",
       "  * ensemble  (ensemble) int64 0 1 2 3 4 5 6 7 8 9 10 11\n",
       "Data variables:\n",
       "    rmm1      (ensemble, time) float32 0.058957588 0.15294036 ... 1.5933019\n",
       "    rmm2      (ensemble, time) float32 -1.9142343 -1.9791112 ... -0.6532849"
      ]
     },
     "execution_count": 19,
     "metadata": {},
     "output_type": "execute_result"
    }
   ],
   "source": [
    "rmm_access_raw"
   ]
  },
  {
   "cell_type": "markdown",
   "metadata": {},
   "source": [
    "<div class=\"alert alert-block alert-info\"> <font color = 'black'>Saving the file and creating a text file with information </font></div>"
   ]
  },
  {
   "cell_type": "code",
   "execution_count": 8,
   "metadata": {},
   "outputs": [],
   "source": [
    "rmm_access_raw.to_netcdf('rmm_access_raw.nc')"
   ]
  },
  {
   "cell_type": "code",
   "execution_count": 9,
   "metadata": {},
   "outputs": [
    {
     "name": "stdout",
     "output_type": "stream",
     "text": [
      "Overwriting rmm_access_raw.txt\n"
     ]
    }
   ],
   "source": [
    "%%writefile rmm_access_raw.txt\n",
    "The file rmm_access_raw.nc contains the RMM from Andrew Marshal. This file contains just the raw values\n",
    "of RMM1 and RMM2. They have not yet been converted into a phase of an amplitude"
   ]
  }
 ],
 "metadata": {
  "kernelspec": {
   "display_name": "Python 3",
   "language": "python",
   "name": "python3"
  },
  "language_info": {
   "codemirror_mode": {
    "name": "ipython",
    "version": 3
   },
   "file_extension": ".py",
   "mimetype": "text/x-python",
   "name": "python",
   "nbconvert_exporter": "python",
   "pygments_lexer": "ipython3",
   "version": "3.6.7"
  }
 },
 "nbformat": 4,
 "nbformat_minor": 2
}
