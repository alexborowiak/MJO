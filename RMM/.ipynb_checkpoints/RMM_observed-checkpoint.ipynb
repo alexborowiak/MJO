{
 "cells": [
  {
   "cell_type": "markdown",
   "metadata": {},
   "source": [
    "# Pre-Janesweather"
   ]
  },
  {
   "cell_type": "code",
   "execution_count": 1,
   "metadata": {
    "ExecuteTime": {
     "end_time": "2019-11-04T23:57:42.948747Z",
     "start_time": "2019-11-04T23:57:38.272894Z"
    }
   },
   "outputs": [],
   "source": [
    "import matplotlib.pyplot as plt\n",
    "import numpy as np\n",
    "import pandas as pd\n",
    "impoxrt glob\n",
    "\n",
    "import pickle\n",
    "from datetime import datetime"
   ]
  },
  {
   "cell_type": "code",
   "execution_count": 2,
   "metadata": {},
   "outputs": [],
   "source": [
    "path = '/home/student.unimelb.edu.au/aborowiak/Desktop/Code/Current Project/Stations/MJO/RMM_meta.csv'"
   ]
  },
  {
   "cell_type": "code",
   "execution_count": 141,
   "metadata": {
    "code_folding": [
     5
    ]
   },
   "outputs": [],
   "source": [
    "date_list = []\n",
    "phase_list = []\n",
    "amp_list = []\n",
    "\n",
    "\n",
    "with open(path) as RMM_meta:\n",
    "    lines = RMM_meta.readlines()\n",
    "    titles = lines[0].split()\n",
    "    for row_num in np.arange(1,len(lines)):\n",
    "        line = lines[row_num].split()\n",
    "        \n",
    "        year = line[0]\n",
    "        month = line[1]\n",
    "        day = line[2]\n",
    "\n",
    "        date = pd.to_datetime(year +'-'+ month +'-'+ day, format = '%Y-%m-%d')\n",
    "        date_list.append(date)\n",
    "\n",
    "        \n",
    "        phase = line[5]\n",
    "        phase_list.append(phase)\n",
    "        amp = line[6]\n",
    "        amp_list.append(amp)\n",
    "\n",
    "\n",
    "RMM = pd.DataFrame()\n",
    "RMM['Date'] = date_list\n",
    "RMM['Phase'] = phase_list\n",
    "RMM['Phase'] = RMM['Phase'].astype(float)\n",
    "RMM['Amplitude'] = amp_list\n",
    "RMM['Amplitude'] = RMM['Amplitude'].astype(float)\n",
    "RMM = RMM.set_index('Date')"
   ]
  },
  {
   "cell_type": "code",
   "execution_count": 142,
   "metadata": {},
   "outputs": [
    {
     "data": {
      "text/html": [
       "<div>\n",
       "<style scoped>\n",
       "    .dataframe tbody tr th:only-of-type {\n",
       "        vertical-align: middle;\n",
       "    }\n",
       "\n",
       "    .dataframe tbody tr th {\n",
       "        vertical-align: top;\n",
       "    }\n",
       "\n",
       "    .dataframe thead th {\n",
       "        text-align: right;\n",
       "    }\n",
       "</style>\n",
       "<table border=\"1\" class=\"dataframe\">\n",
       "  <thead>\n",
       "    <tr style=\"text-align: right;\">\n",
       "      <th></th>\n",
       "      <th>Phase</th>\n",
       "      <th>Amplitude</th>\n",
       "    </tr>\n",
       "    <tr>\n",
       "      <th>Date</th>\n",
       "      <th></th>\n",
       "      <th></th>\n",
       "    </tr>\n",
       "  </thead>\n",
       "  <tbody>\n",
       "    <tr>\n",
       "      <th>1974-06-01</th>\n",
       "      <td>5.0</td>\n",
       "      <td>2.02948</td>\n",
       "    </tr>\n",
       "    <tr>\n",
       "      <th>1974-06-02</th>\n",
       "      <td>5.0</td>\n",
       "      <td>1.89729</td>\n",
       "    </tr>\n",
       "    <tr>\n",
       "      <th>1974-06-03</th>\n",
       "      <td>5.0</td>\n",
       "      <td>1.86476</td>\n",
       "    </tr>\n",
       "    <tr>\n",
       "      <th>1974-06-04</th>\n",
       "      <td>5.0</td>\n",
       "      <td>1.83092</td>\n",
       "    </tr>\n",
       "    <tr>\n",
       "      <th>1974-06-05</th>\n",
       "      <td>5.0</td>\n",
       "      <td>2.03326</td>\n",
       "    </tr>\n",
       "  </tbody>\n",
       "</table>\n",
       "</div>"
      ],
      "text/plain": [
       "            Phase  Amplitude\n",
       "Date                        \n",
       "1974-06-01    5.0    2.02948\n",
       "1974-06-02    5.0    1.89729\n",
       "1974-06-03    5.0    1.86476\n",
       "1974-06-04    5.0    1.83092\n",
       "1974-06-05    5.0    2.03326"
      ]
     },
     "execution_count": 142,
     "metadata": {},
     "output_type": "execute_result"
    }
   ],
   "source": [
    "RMM.head()"
   ]
  },
  {
   "cell_type": "code",
   "execution_count": 143,
   "metadata": {},
   "outputs": [],
   "source": [
    "out_file = open('RMM.pickle', 'wb')\n",
    "pickle.dump(RMM, out_file)\n",
    "out_file.close()"
   ]
  },
  {
   "cell_type": "markdown",
   "metadata": {},
   "source": [
    "# Janesweather"
   ]
  },
  {
   "cell_type": "code",
   "execution_count": 2,
   "metadata": {
    "ExecuteTime": {
     "end_time": "2019-11-04T23:57:58.727870Z",
     "start_time": "2019-11-04T23:57:54.229772Z"
    }
   },
   "outputs": [],
   "source": [
    "\n",
    "\n",
    "\n",
    "%matplotlib inline\n",
    "import io\n",
    "import os\n",
    "import sys\n",
    "import calendar\n",
    "import numpy as np\n",
    "import pandas as pd\n",
    "import xarray as xr\n",
    "import cartopy.crs as ccrs\n",
    "import cartopy.feature as cfeature\n",
    "import urllib\n",
    "from matplotlib import pyplot as plt\n",
    "from matplotlib.ticker import (MultipleLocator, FormatStrFormatter,\n",
    "                               AutoMinorLocator)\n",
    "# import svgutils.compose as sc\n",
    "from IPython.display import SVG\n",
    "\n",
    "from datetime import datetime\n",
    "from dateutil.parser import parse as dparse\n",
    "import calendar\n",
    "from IPython.display import HTML, Image, IFrame\n",
    "\n"
   ]
  },
  {
   "cell_type": "code",
   "execution_count": 3,
   "metadata": {
    "ExecuteTime": {
     "end_time": "2019-11-04T23:57:59.423665Z",
     "start_time": "2019-11-04T23:57:58.730874Z"
    }
   },
   "outputs": [],
   "source": [
    "url = 'http://www.bom.gov.au/climate/mjo/graphics/rmm.74toRealtime.txt'\n",
    "user_agent = 'Mozilla/5.0 (X11; Linux x86_64; rv:60.0) Gecko/20100101 Firefox/60.0'\n",
    "headers={'User-Agent':user_agent}\n",
    "request=urllib.request.Request(url,None,headers)\n",
    "response = urllib.request.urlopen(request)\n",
    "data = response.read()\n",
    "csv = io.StringIO(data.decode('utf-8'))\n",
    "\n",
    "rmm_df = pd.read_csv(csv, sep=r'\\s+', header=None, skiprows=2,\n",
    "    usecols=[0,1,2,3,4,5,6,7], names=['year', 'month', 'day','RMM1','RMM2', 'phase', 'amplitude', 'origin'])"
   ]
  },
  {
   "cell_type": "code",
   "execution_count": 4,
   "metadata": {
    "ExecuteTime": {
     "end_time": "2019-11-04T23:57:59.500716Z",
     "start_time": "2019-11-04T23:57:59.425947Z"
    }
   },
   "outputs": [
    {
     "data": {
      "text/html": [
       "<div>\n",
       "<style scoped>\n",
       "    .dataframe tbody tr th:only-of-type {\n",
       "        vertical-align: middle;\n",
       "    }\n",
       "\n",
       "    .dataframe tbody tr th {\n",
       "        vertical-align: top;\n",
       "    }\n",
       "\n",
       "    .dataframe thead th {\n",
       "        text-align: right;\n",
       "    }\n",
       "</style>\n",
       "<table border=\"1\" class=\"dataframe\">\n",
       "  <thead>\n",
       "    <tr style=\"text-align: right;\">\n",
       "      <th></th>\n",
       "      <th>year</th>\n",
       "      <th>month</th>\n",
       "      <th>day</th>\n",
       "      <th>RMM1</th>\n",
       "      <th>RMM2</th>\n",
       "      <th>phase</th>\n",
       "      <th>amplitude</th>\n",
       "      <th>origin</th>\n",
       "    </tr>\n",
       "  </thead>\n",
       "  <tbody>\n",
       "    <tr>\n",
       "      <td>1974-06-01</td>\n",
       "      <td>1974</td>\n",
       "      <td>6</td>\n",
       "      <td>1</td>\n",
       "      <td>1.63447</td>\n",
       "      <td>1.20304</td>\n",
       "      <td>5</td>\n",
       "      <td>2.02948</td>\n",
       "      <td>Final_value:__OLR_&amp;_NCEP_winds</td>\n",
       "    </tr>\n",
       "    <tr>\n",
       "      <td>1974-06-02</td>\n",
       "      <td>1974</td>\n",
       "      <td>6</td>\n",
       "      <td>2</td>\n",
       "      <td>1.60289</td>\n",
       "      <td>1.01512</td>\n",
       "      <td>5</td>\n",
       "      <td>1.89729</td>\n",
       "      <td>Final_value:__OLR_&amp;_NCEP_winds</td>\n",
       "    </tr>\n",
       "    <tr>\n",
       "      <td>1974-06-03</td>\n",
       "      <td>1974</td>\n",
       "      <td>6</td>\n",
       "      <td>3</td>\n",
       "      <td>1.51625</td>\n",
       "      <td>1.08551</td>\n",
       "      <td>5</td>\n",
       "      <td>1.86476</td>\n",
       "      <td>Final_value:__OLR_&amp;_NCEP_winds</td>\n",
       "    </tr>\n",
       "    <tr>\n",
       "      <td>1974-06-04</td>\n",
       "      <td>1974</td>\n",
       "      <td>6</td>\n",
       "      <td>4</td>\n",
       "      <td>1.50981</td>\n",
       "      <td>1.03573</td>\n",
       "      <td>5</td>\n",
       "      <td>1.83092</td>\n",
       "      <td>Final_value:__OLR_&amp;_NCEP_winds</td>\n",
       "    </tr>\n",
       "    <tr>\n",
       "      <td>1974-06-05</td>\n",
       "      <td>1974</td>\n",
       "      <td>6</td>\n",
       "      <td>5</td>\n",
       "      <td>1.55906</td>\n",
       "      <td>1.30518</td>\n",
       "      <td>5</td>\n",
       "      <td>2.03326</td>\n",
       "      <td>Final_value:__OLR_&amp;_NCEP_winds</td>\n",
       "    </tr>\n",
       "  </tbody>\n",
       "</table>\n",
       "</div>"
      ],
      "text/plain": [
       "            year  month  day     RMM1     RMM2  phase  amplitude  \\\n",
       "1974-06-01  1974      6    1  1.63447  1.20304      5    2.02948   \n",
       "1974-06-02  1974      6    2  1.60289  1.01512      5    1.89729   \n",
       "1974-06-03  1974      6    3  1.51625  1.08551      5    1.86476   \n",
       "1974-06-04  1974      6    4  1.50981  1.03573      5    1.83092   \n",
       "1974-06-05  1974      6    5  1.55906  1.30518      5    2.03326   \n",
       "\n",
       "                                    origin  \n",
       "1974-06-01  Final_value:__OLR_&_NCEP_winds  \n",
       "1974-06-02  Final_value:__OLR_&_NCEP_winds  \n",
       "1974-06-03  Final_value:__OLR_&_NCEP_winds  \n",
       "1974-06-04  Final_value:__OLR_&_NCEP_winds  \n",
       "1974-06-05  Final_value:__OLR_&_NCEP_winds  "
      ]
     },
     "execution_count": 4,
     "metadata": {},
     "output_type": "execute_result"
    }
   ],
   "source": [
    "index = pd.to_datetime(rmm_df.loc[:,['year','month','day']])\n",
    "rmm_df.index = index\n",
    "rmm_df.head()"
   ]
  },
  {
   "cell_type": "code",
   "execution_count": 13,
   "metadata": {
    "ExecuteTime": {
     "end_time": "2019-11-05T00:00:18.922454Z",
     "start_time": "2019-11-05T00:00:18.900949Z"
    }
   },
   "outputs": [
    {
     "data": {
      "text/html": [
       "<div>\n",
       "<style scoped>\n",
       "    .dataframe tbody tr th:only-of-type {\n",
       "        vertical-align: middle;\n",
       "    }\n",
       "\n",
       "    .dataframe tbody tr th {\n",
       "        vertical-align: top;\n",
       "    }\n",
       "\n",
       "    .dataframe thead th {\n",
       "        text-align: right;\n",
       "    }\n",
       "</style>\n",
       "<table border=\"1\" class=\"dataframe\">\n",
       "  <thead>\n",
       "    <tr style=\"text-align: right;\">\n",
       "      <th></th>\n",
       "      <th>phase</th>\n",
       "      <th>amplitude</th>\n",
       "      <th>RMM1</th>\n",
       "      <th>RMM2</th>\n",
       "    </tr>\n",
       "  </thead>\n",
       "  <tbody>\n",
       "    <tr>\n",
       "      <td>1974-06-01</td>\n",
       "      <td>5</td>\n",
       "      <td>2.02948</td>\n",
       "      <td>1.63447</td>\n",
       "      <td>1.20304</td>\n",
       "    </tr>\n",
       "    <tr>\n",
       "      <td>1974-06-02</td>\n",
       "      <td>5</td>\n",
       "      <td>1.89729</td>\n",
       "      <td>1.60289</td>\n",
       "      <td>1.01512</td>\n",
       "    </tr>\n",
       "    <tr>\n",
       "      <td>1974-06-03</td>\n",
       "      <td>5</td>\n",
       "      <td>1.86476</td>\n",
       "      <td>1.51625</td>\n",
       "      <td>1.08551</td>\n",
       "    </tr>\n",
       "    <tr>\n",
       "      <td>1974-06-04</td>\n",
       "      <td>5</td>\n",
       "      <td>1.83092</td>\n",
       "      <td>1.50981</td>\n",
       "      <td>1.03573</td>\n",
       "    </tr>\n",
       "    <tr>\n",
       "      <td>1974-06-05</td>\n",
       "      <td>5</td>\n",
       "      <td>2.03326</td>\n",
       "      <td>1.55906</td>\n",
       "      <td>1.30518</td>\n",
       "    </tr>\n",
       "  </tbody>\n",
       "</table>\n",
       "</div>"
      ],
      "text/plain": [
       "            phase  amplitude     RMM1     RMM2\n",
       "1974-06-01      5    2.02948  1.63447  1.20304\n",
       "1974-06-02      5    1.89729  1.60289  1.01512\n",
       "1974-06-03      5    1.86476  1.51625  1.08551\n",
       "1974-06-04      5    1.83092  1.50981  1.03573\n",
       "1974-06-05      5    2.03326  1.55906  1.30518"
      ]
     },
     "execution_count": 13,
     "metadata": {},
     "output_type": "execute_result"
    }
   ],
   "source": [
    "rmm_df_2 = rmm_df.loc[:,['phase', 'amplitude','RMM1','RMM2']]\n",
    "rmm_df_2.index = rmm_df.index\n",
    "rmm_df_2.head()"
   ]
  },
  {
   "cell_type": "code",
   "execution_count": 14,
   "metadata": {
    "ExecuteTime": {
     "end_time": "2019-11-05T00:00:20.233291Z",
     "start_time": "2019-11-05T00:00:20.204095Z"
    }
   },
   "outputs": [
    {
     "data": {
      "text/plain": [
       "<xarray.Dataset>\n",
       "Dimensions:    (time: 16592)\n",
       "Coordinates:\n",
       "  * time       (time) datetime64[ns] 1974-06-01 1974-06-02 ... 2019-11-03\n",
       "Data variables:\n",
       "    phase      (time) int64 5 5 5 5 5 6 6 6 6 7 6 5 ... 2 3 3 3 3 4 4 4 5 5 5 5\n",
       "    amplitude  (time) float64 2.029 1.897 1.865 1.831 ... 1.845 2.149 2.367\n",
       "    rmm1       (time) float64 1.634 1.603 1.516 1.51 ... 1.382 1.788 1.978 2.061\n",
       "    rmm2       (time) float64 1.203 1.015 1.086 1.036 ... 0.4561 0.8404 1.165"
      ]
     },
     "execution_count": 14,
     "metadata": {},
     "output_type": "execute_result"
    }
   ],
   "source": [
    "rmm_observed = rmm_df_2.to_xarray()\n",
    "rmm_observed = rmm_observed.rename({'index':'time','RMM1':'rmm1','RMM2':'rmm2'})\n",
    "rmm_observed"
   ]
  },
  {
   "cell_type": "code",
   "execution_count": 16,
   "metadata": {
    "ExecuteTime": {
     "end_time": "2019-11-05T00:01:04.595895Z",
     "start_time": "2019-11-05T00:01:04.565158Z"
    }
   },
   "outputs": [],
   "source": [
    "rmm_observed.to_netcdf('rmm_obs.nc')"
   ]
  },
  {
   "cell_type": "code",
   "execution_count": 31,
   "metadata": {},
   "outputs": [
    {
     "name": "stdout",
     "output_type": "stream",
     "text": [
      "Overwriting rmm_observed.txt\n"
     ]
    }
   ],
   "source": [
    "%%writefile rmm_observed.txt\n",
    "\n",
    "The .nc version of the file is from the bureau of meterolgy website"
   ]
  },
  {
   "cell_type": "code",
   "execution_count": 18,
   "metadata": {
    "ExecuteTime": {
     "end_time": "2019-11-05T00:02:08.921738Z",
     "start_time": "2019-11-05T00:02:08.906457Z"
    }
   },
   "outputs": [],
   "source": [
    "out_file = open('rmm_obs.pickle', 'wb')\n",
    "pickle.dump(rmm_df_2, out_file)\n",
    "out_file.close()"
   ]
  }
 ],
 "metadata": {
  "kernelspec": {
   "display_name": "Python 3",
   "language": "python",
   "name": "python3"
  },
  "language_info": {
   "codemirror_mode": {
    "name": "ipython",
    "version": 3
   },
   "file_extension": ".py",
   "mimetype": "text/x-python",
   "name": "python",
   "nbconvert_exporter": "python",
   "pygments_lexer": "ipython3",
   "version": "3.6.7"
  }
 },
 "nbformat": 4,
 "nbformat_minor": 2
}
