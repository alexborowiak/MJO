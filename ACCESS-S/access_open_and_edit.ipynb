{
 "cells": [
  {
   "cell_type": "code",
   "execution_count": 1,
   "metadata": {},
   "outputs": [],
   "source": [
    "import xarray as xr\n",
    "import numpy as np\n",
    "import matplotlib.pyplot as plt\n",
    "import glob\n",
    "import pandas as pd\n",
    "import matplotlib.pyplot as plt\n",
    "from calendar import monthrange"
   ]
  },
  {
   "cell_type": "markdown",
   "metadata": {
    "heading_collapsed": true
   },
   "source": [
    "# Individual"
   ]
  },
  {
   "cell_type": "code",
   "execution_count": 2,
   "metadata": {
    "hidden": true
   },
   "outputs": [],
   "source": [
    "direc = '/g/data1a/w40/ab2313/ACCESS_S_ens/e01_1st/'\n",
    "\n",
    "file = xr.open_dataset(direc + 'daq5_pr_20121201_e01.nc_025_Aus.nc')\n"
   ]
  },
  {
   "cell_type": "code",
   "execution_count": 3,
   "metadata": {
    "hidden": true
   },
   "outputs": [
    {
     "data": {
      "text/plain": [
       "<xarray.Dataset>\n",
       "Dimensions:    (latitude: 139, longitude: 178, time: 217)\n",
       "Coordinates:\n",
       "  * longitude  (longitude) float32 112.0 112.25 112.5 ... 155.75 156.0 156.25\n",
       "  * latitude   (latitude) float32 -44.5 -44.25 -44.0 ... -10.5 -10.25 -10.0\n",
       "  * time       (time) datetime64[ns] 2012-12-01T12:00:00 ... 2013-07-05T12:00:00\n",
       "Data variables:\n",
       "    pr         (time, latitude, longitude) float32 ...\n",
       "Attributes:\n",
       "    CDI:                     Climate Data Interface version 1.8.0 (http://mpi...\n",
       "    Conventions:             CF-1.6\n",
       "    history:                 Mon Apr 08 14:31:41 2019: cdo ifthen precip_cali...\n",
       "    source:                  ACCESS-S1\n",
       "    institution:             Australian Bureau of Meteorology\n",
       "    acknowledgement:         Australian Bureau of Meteorology, Commonwealth o...\n",
       "    author:                  Bureau of Meteorology\n",
       "    copyright:               (C) Copyright Commonwealth of Australia (2017), ...\n",
       "    creator_email:           poama@bom.gov.au\n",
       "    creator_name:            Bureau of Meteorology\n",
       "    creator_url:             http://poama.bom.gov.au\n",
       "    disclaimer:              The data are subject to the Bureau of Meteorolog...\n",
       "    distribution_statement:  The data are subject to the distribution terms o...\n",
       "    naming_authority:        au.gov.bom\n",
       "    publisher_name:          Bureau of Meteorology\n",
       "    publisher_url:           http://poama.bom.gov.au\n",
       "    institute_id:            ABOM\n",
       "    model_id:                ACCESS-S1\n",
       "    experiment:              ACCESS-S1\n",
       "    creation_date:           2018-09-06T17:57:08Z\n",
       "    date_created:            2018-09-06T17:57:08Z\n",
       "    title:                   Calibrated data from ACCESS-S1\n",
       "    keywords:                multi-week, seasonal, hindcast, calibrated\n",
       "    id:                      access-s1-calib-v2\n",
       "    comment:                 Used code commit df04295cd from https://git.nci....\n",
       "    observations:            Calibrated to AWAP data from /g/data/rr8/OBS/cal...\n",
       "    source_data_date:        2018-08-30T11:10:00Z\n",
       "    source_data_location:    /g/data2/ub7/access-s1/hc/grid_05/v3/atmos/pr/da...\n",
       "    summary:                 Data calibrated using quantile-quantile matching\n",
       "    CDO:                     Climate Data Operators version 1.8.0 (http://mpi..."
      ]
     },
     "execution_count": 3,
     "metadata": {},
     "output_type": "execute_result"
    }
   ],
   "source": [
    "file"
   ]
  },
  {
   "cell_type": "code",
   "execution_count": 4,
   "metadata": {
    "hidden": true
   },
   "outputs": [
    {
     "data": {
      "text/plain": [
       "array(['2012-12-01T12:00:00.000000000', '2012-12-02T12:00:00.000000000',\n",
       "       '2012-12-03T12:00:00.000000000', '2012-12-04T12:00:00.000000000',\n",
       "       '2012-12-05T12:00:00.000000000', '2012-12-06T12:00:00.000000000',\n",
       "       '2012-12-07T12:00:00.000000000', '2012-12-08T12:00:00.000000000',\n",
       "       '2012-12-09T12:00:00.000000000', '2012-12-10T12:00:00.000000000',\n",
       "       '2012-12-11T12:00:00.000000000', '2012-12-12T12:00:00.000000000',\n",
       "       '2012-12-13T12:00:00.000000000', '2012-12-14T12:00:00.000000000',\n",
       "       '2012-12-15T12:00:00.000000000', '2012-12-16T12:00:00.000000000',\n",
       "       '2012-12-17T12:00:00.000000000', '2012-12-18T12:00:00.000000000',\n",
       "       '2012-12-19T12:00:00.000000000', '2012-12-20T12:00:00.000000000',\n",
       "       '2012-12-21T12:00:00.000000000', '2012-12-22T12:00:00.000000000',\n",
       "       '2012-12-23T12:00:00.000000000', '2012-12-24T12:00:00.000000000',\n",
       "       '2012-12-25T12:00:00.000000000', '2012-12-26T12:00:00.000000000',\n",
       "       '2012-12-27T12:00:00.000000000', '2012-12-28T12:00:00.000000000',\n",
       "       '2012-12-29T12:00:00.000000000', '2012-12-30T12:00:00.000000000',\n",
       "       '2012-12-31T12:00:00.000000000', '2013-01-01T12:00:00.000000000',\n",
       "       '2013-01-02T12:00:00.000000000', '2013-01-03T12:00:00.000000000',\n",
       "       '2013-01-04T12:00:00.000000000', '2013-01-05T12:00:00.000000000',\n",
       "       '2013-01-06T12:00:00.000000000', '2013-01-07T12:00:00.000000000',\n",
       "       '2013-01-08T12:00:00.000000000', '2013-01-09T12:00:00.000000000',\n",
       "       '2013-01-10T12:00:00.000000000', '2013-01-11T12:00:00.000000000',\n",
       "       '2013-01-12T12:00:00.000000000', '2013-01-13T12:00:00.000000000',\n",
       "       '2013-01-14T12:00:00.000000000', '2013-01-15T12:00:00.000000000',\n",
       "       '2013-01-16T12:00:00.000000000', '2013-01-17T12:00:00.000000000',\n",
       "       '2013-01-18T12:00:00.000000000', '2013-01-19T12:00:00.000000000',\n",
       "       '2013-01-20T12:00:00.000000000', '2013-01-21T12:00:00.000000000',\n",
       "       '2013-01-22T12:00:00.000000000', '2013-01-23T12:00:00.000000000',\n",
       "       '2013-01-24T12:00:00.000000000', '2013-01-25T12:00:00.000000000',\n",
       "       '2013-01-26T12:00:00.000000000', '2013-01-27T12:00:00.000000000',\n",
       "       '2013-01-28T12:00:00.000000000', '2013-01-29T12:00:00.000000000',\n",
       "       '2013-01-30T12:00:00.000000000', '2013-01-31T12:00:00.000000000',\n",
       "       '2013-02-01T12:00:00.000000000', '2013-02-02T12:00:00.000000000',\n",
       "       '2013-02-03T12:00:00.000000000', '2013-02-04T12:00:00.000000000',\n",
       "       '2013-02-05T12:00:00.000000000', '2013-02-06T12:00:00.000000000',\n",
       "       '2013-02-07T12:00:00.000000000', '2013-02-08T12:00:00.000000000',\n",
       "       '2013-02-09T12:00:00.000000000', '2013-02-10T12:00:00.000000000',\n",
       "       '2013-02-11T12:00:00.000000000', '2013-02-12T12:00:00.000000000',\n",
       "       '2013-02-13T12:00:00.000000000', '2013-02-14T12:00:00.000000000',\n",
       "       '2013-02-15T12:00:00.000000000', '2013-02-16T12:00:00.000000000',\n",
       "       '2013-02-17T12:00:00.000000000', '2013-02-18T12:00:00.000000000',\n",
       "       '2013-02-19T12:00:00.000000000', '2013-02-20T12:00:00.000000000',\n",
       "       '2013-02-21T12:00:00.000000000', '2013-02-22T12:00:00.000000000',\n",
       "       '2013-02-23T12:00:00.000000000', '2013-02-24T12:00:00.000000000',\n",
       "       '2013-02-25T12:00:00.000000000', '2013-02-26T12:00:00.000000000',\n",
       "       '2013-02-27T12:00:00.000000000', '2013-02-28T12:00:00.000000000',\n",
       "       '2013-03-01T12:00:00.000000000', '2013-03-02T12:00:00.000000000',\n",
       "       '2013-03-03T12:00:00.000000000', '2013-03-04T12:00:00.000000000',\n",
       "       '2013-03-05T12:00:00.000000000', '2013-03-06T12:00:00.000000000',\n",
       "       '2013-03-07T12:00:00.000000000', '2013-03-08T12:00:00.000000000',\n",
       "       '2013-03-09T12:00:00.000000000', '2013-03-10T12:00:00.000000000',\n",
       "       '2013-03-11T12:00:00.000000000', '2013-03-12T12:00:00.000000000',\n",
       "       '2013-03-13T12:00:00.000000000', '2013-03-14T12:00:00.000000000',\n",
       "       '2013-03-15T12:00:00.000000000', '2013-03-16T12:00:00.000000000',\n",
       "       '2013-03-17T12:00:00.000000000', '2013-03-18T12:00:00.000000000',\n",
       "       '2013-03-19T12:00:00.000000000', '2013-03-20T12:00:00.000000000',\n",
       "       '2013-03-21T12:00:00.000000000', '2013-03-22T12:00:00.000000000',\n",
       "       '2013-03-23T12:00:00.000000000', '2013-03-24T12:00:00.000000000',\n",
       "       '2013-03-25T12:00:00.000000000', '2013-03-26T12:00:00.000000000',\n",
       "       '2013-03-27T12:00:00.000000000', '2013-03-28T12:00:00.000000000',\n",
       "       '2013-03-29T12:00:00.000000000', '2013-03-30T12:00:00.000000000',\n",
       "       '2013-03-31T12:00:00.000000000', '2013-04-01T12:00:00.000000000',\n",
       "       '2013-04-02T12:00:00.000000000', '2013-04-03T12:00:00.000000000',\n",
       "       '2013-04-04T12:00:00.000000000', '2013-04-05T12:00:00.000000000',\n",
       "       '2013-04-06T12:00:00.000000000', '2013-04-07T12:00:00.000000000',\n",
       "       '2013-04-08T12:00:00.000000000', '2013-04-09T12:00:00.000000000',\n",
       "       '2013-04-10T12:00:00.000000000', '2013-04-11T12:00:00.000000000',\n",
       "       '2013-04-12T12:00:00.000000000', '2013-04-13T12:00:00.000000000',\n",
       "       '2013-04-14T12:00:00.000000000', '2013-04-15T12:00:00.000000000',\n",
       "       '2013-04-16T12:00:00.000000000', '2013-04-17T12:00:00.000000000',\n",
       "       '2013-04-18T12:00:00.000000000', '2013-04-19T12:00:00.000000000',\n",
       "       '2013-04-20T12:00:00.000000000', '2013-04-21T12:00:00.000000000',\n",
       "       '2013-04-22T12:00:00.000000000', '2013-04-23T12:00:00.000000000',\n",
       "       '2013-04-24T12:00:00.000000000', '2013-04-25T12:00:00.000000000',\n",
       "       '2013-04-26T12:00:00.000000000', '2013-04-27T12:00:00.000000000',\n",
       "       '2013-04-28T12:00:00.000000000', '2013-04-29T12:00:00.000000000',\n",
       "       '2013-04-30T12:00:00.000000000', '2013-05-01T12:00:00.000000000',\n",
       "       '2013-05-02T12:00:00.000000000', '2013-05-03T12:00:00.000000000',\n",
       "       '2013-05-04T12:00:00.000000000', '2013-05-05T12:00:00.000000000',\n",
       "       '2013-05-06T12:00:00.000000000', '2013-05-07T12:00:00.000000000',\n",
       "       '2013-05-08T12:00:00.000000000', '2013-05-09T12:00:00.000000000',\n",
       "       '2013-05-10T12:00:00.000000000', '2013-05-11T12:00:00.000000000',\n",
       "       '2013-05-12T12:00:00.000000000', '2013-05-13T12:00:00.000000000',\n",
       "       '2013-05-14T12:00:00.000000000', '2013-05-15T12:00:00.000000000',\n",
       "       '2013-05-16T12:00:00.000000000', '2013-05-17T12:00:00.000000000',\n",
       "       '2013-05-18T12:00:00.000000000', '2013-05-19T12:00:00.000000000',\n",
       "       '2013-05-20T12:00:00.000000000', '2013-05-21T12:00:00.000000000',\n",
       "       '2013-05-22T12:00:00.000000000', '2013-05-23T12:00:00.000000000',\n",
       "       '2013-05-24T12:00:00.000000000', '2013-05-25T12:00:00.000000000',\n",
       "       '2013-05-26T12:00:00.000000000', '2013-05-27T12:00:00.000000000',\n",
       "       '2013-05-28T12:00:00.000000000', '2013-05-29T12:00:00.000000000',\n",
       "       '2013-05-30T12:00:00.000000000', '2013-05-31T12:00:00.000000000',\n",
       "       '2013-06-01T12:00:00.000000000', '2013-06-02T12:00:00.000000000',\n",
       "       '2013-06-03T12:00:00.000000000', '2013-06-04T12:00:00.000000000',\n",
       "       '2013-06-05T12:00:00.000000000', '2013-06-06T12:00:00.000000000',\n",
       "       '2013-06-07T12:00:00.000000000', '2013-06-08T12:00:00.000000000',\n",
       "       '2013-06-09T12:00:00.000000000', '2013-06-10T12:00:00.000000000',\n",
       "       '2013-06-11T12:00:00.000000000', '2013-06-12T12:00:00.000000000',\n",
       "       '2013-06-13T12:00:00.000000000', '2013-06-14T12:00:00.000000000',\n",
       "       '2013-06-15T12:00:00.000000000', '2013-06-16T12:00:00.000000000',\n",
       "       '2013-06-17T12:00:00.000000000', '2013-06-18T12:00:00.000000000',\n",
       "       '2013-06-19T12:00:00.000000000', '2013-06-20T12:00:00.000000000',\n",
       "       '2013-06-21T12:00:00.000000000', '2013-06-22T12:00:00.000000000',\n",
       "       '2013-06-23T12:00:00.000000000', '2013-06-24T12:00:00.000000000',\n",
       "       '2013-06-25T12:00:00.000000000', '2013-06-26T12:00:00.000000000',\n",
       "       '2013-06-27T12:00:00.000000000', '2013-06-28T12:00:00.000000000',\n",
       "       '2013-06-29T12:00:00.000000000', '2013-06-30T12:00:00.000000000',\n",
       "       '2013-07-01T12:00:00.000000000', '2013-07-02T12:00:00.000000000',\n",
       "       '2013-07-03T12:00:00.000000000', '2013-07-04T12:00:00.000000000',\n",
       "       '2013-07-05T12:00:00.000000000'], dtype='datetime64[ns]')"
      ]
     },
     "execution_count": 4,
     "metadata": {},
     "output_type": "execute_result"
    }
   ],
   "source": [
    "file.time.values"
   ]
  },
  {
   "cell_type": "code",
   "execution_count": 5,
   "metadata": {
    "hidden": true
   },
   "outputs": [
    {
     "data": {
      "text/plain": [
       "<matplotlib.collections.QuadMesh at 0x7fbf57f29f60>"
      ]
     },
     "execution_count": 5,
     "metadata": {},
     "output_type": "execute_result"
    },
    {
     "data": {
      "image/png": "[encoded data removed]",
      "text/plain": [
       "<Figure size 432x288 with 2 Axes>"
      ]
     },
     "metadata": {
      "needs_background": "light"
     },
     "output_type": "display_data"
    }
   ],
   "source": [
    "fig = plt.figure()\n",
    "\n",
    "file.isel(time = 1).pr.plot()"
   ]
  },
  {
   "cell_type": "markdown",
   "metadata": {},
   "source": [
    "# Multiple For Loop (Final Product)"
   ]
  },
  {
   "cell_type": "code",
   "execution_count": 6,
   "metadata": {},
   "outputs": [],
   "source": [
    "ensemble_members = ['e01_1st',  'e03_1st',  'e05_1st',  'e07_1st',  'e09_1st' , 'e11_1st ',     \n",
    "'e02_1st' , 'e04_1st' , 'e06_1st' , 'e08_1st' , 'e10_1st' ]\n"
   ]
  },
  {
   "cell_type": "code",
   "execution_count": 7,
   "metadata": {},
   "outputs": [],
   "source": [
    "'''Steps:\n",
    "0. There are 12 different ensemble members that need to be looped through\n",
    "1. Opening the names of all the files\n",
    "2. Looping through all of the names and then reading the file in\n",
    "3. Each of the runs is 7 months long, and they happen for each month. So there is no over\n",
    "    lap I am just getting the first month from each run\n",
    "4. Combing into 1 file'''\n",
    "\n",
    "access_stor = []\n",
    "\n",
    "\n",
    "for ensemble_number, ensemble in enumerate(ensemble_members):\n",
    "\n",
    "    \n",
    "    directory = '/g/data1a/w40/ab2313/ACCESS_S_ens/' + ensemble + '/'\n",
    "\n",
    "    '''1. Name of all the file in the directory'''\n",
    "    file_list = glob.glob(directory + '*Aus.nc')\n",
    "\n",
    "\n",
    "    '''2. Looping through all of the individual files'''\n",
    "    for i,file in enumerate(file_list):\n",
    "\n",
    "        one_file = xr.open_dataset(file)\n",
    "\n",
    "        '''3. The number of days in each month, then slicing'''\n",
    "        month = int(one_file.time.values[0].astype('str').split('-')[1])\n",
    "        year = int(one_file.time.values[0].astype('str').split('-')[0])\n",
    "        num_days = monthrange(year, month)[1]\n",
    "\n",
    "\n",
    "        one_file = one_file.isel(time = slice(0, num_days))\n",
    "\n",
    "        '''4. Combining into 1 file'''\n",
    "        if i == 0:\n",
    "            access = one_file\n",
    "        else:\n",
    "            access = access.combine_first(one_file)\n",
    "        \n",
    "#         # Renaming the dimension after the ensemble member\n",
    "#         access = access.rename({'pr': ensemble.split('_')[0]})\n",
    "        \n",
    "    access_stor.append(access)\n",
    "    \n",
    "'''The Final Product'''\n",
    "\n",
    "access = xr.concat(access_stor, pd.Index(np.arange(1, ensemble_number + 2), name = 'ensemble'))"
   ]
  },
  {
   "cell_type": "code",
   "execution_count": 8,
   "metadata": {},
   "outputs": [
    {
     "data": {
      "text/plain": [
       "11"
      ]
     },
     "execution_count": 8,
     "metadata": {},
     "output_type": "execute_result"
    }
   ],
   "source": [
    "len(access_stor)"
   ]
  },
  {
   "cell_type": "code",
   "execution_count": 11,
   "metadata": {},
   "outputs": [],
   "source": [
    "# import os\n",
    "# statinfo = os.stat('access.nc')\n",
    "# print('access is ' + str(np.round(statinfo.st_size * 10 ** -9,2)) + 'GB')"
   ]
  },
  {
   "cell_type": "markdown",
   "metadata": {},
   "source": [
    "<font size = \"+2\" color = \"green\"> Note: The access file is not saving as one piece. Therefore I am going to save a new netcdf for each ensemble</font>"
   ]
  },
  {
   "cell_type": "markdown",
   "metadata": {},
   "source": [
    "<font size = \"+0\"> The files are saved in the /g/data/... directory </font>"
   ]
  },
  {
   "cell_type": "code",
   "execution_count": 12,
   "metadata": {},
   "outputs": [],
   "source": [
    "save_directory = '/g/data/w40/ab2313/ACCESS_S_1ST_1M_ensembles/'"
   ]
  },
  {
   "cell_type": "code",
   "execution_count": 15,
   "metadata": {},
   "outputs": [
    {
     "name": "stdout",
     "output_type": "stream",
     "text": [
      "e01\n",
      "e02\n",
      "e03\n",
      "e04\n",
      "e05\n",
      "e06\n",
      "e07\n",
      "e08\n",
      "e09\n",
      "e10\n",
      "e11\n"
     ]
    }
   ],
   "source": [
    "\n",
    "for ensemble_num, esemble_data in enumerate(access_stor,1):\n",
    "    '''Selecting single ensemble member'''\n",
    "    \n",
    "    if ensemble_num < 10:\n",
    "        name = 'e0' + str(ensemble_num)\n",
    "    else:\n",
    "        name = 'e' + str(ensemble_num)\n",
    "    print(name)\n",
    "    \n",
    "    esemble_data.to_netcdf(save_directory  + name + '.nc')\n",
    "    \n",
    "    \n",
    "    "
   ]
  },
  {
   "cell_type": "code",
   "execution_count": 16,
   "metadata": {},
   "outputs": [],
   "source": [
    "# This is creating an information file in the directory\n",
    "\n",
    "text = ('The files in this folder are the ensemble member of ACCESS-S. There are 11 ensemble memebers and they'\n",
    "       +' are run for 1 month after the start date. In the future there will be the second month after'\n",
    "        + 'initilisation')"
   ]
  }
 ],
 "metadata": {
  "kernelspec": {
   "display_name": "Python 3",
   "language": "python",
   "name": "python3"
  },
  "language_info": {
   "codemirror_mode": {
    "name": "ipython",
    "version": 3
   },
   "file_extension": ".py",
   "mimetype": "text/x-python",
   "name": "python",
   "nbconvert_exporter": "python",
   "pygments_lexer": "ipython3",
   "version": "3.6.7"
  }
 },
 "nbformat": 4,
 "nbformat_minor": 2
}
