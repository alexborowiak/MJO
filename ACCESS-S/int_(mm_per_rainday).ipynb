{
 "cells": [
  {
   "cell_type": "markdown",
   "metadata": {},
   "source": [
    "# Preamble"
   ]
  },
  {
   "cell_type": "code",
   "execution_count": 1,
   "metadata": {
    "ExecuteTime": {
     "end_time": "2020-05-04T08:11:58.049398Z",
     "start_time": "2020-05-04T08:11:52.835537Z"
    }
   },
   "outputs": [],
   "source": [
    "import xarray as xr\n",
    "import numpy as np\n",
    "import pandas as pd\n",
    "import matplotlib.pyplot as plt\n",
    "import dask.array\n",
    "import cartopy.crs as ccrs\n",
    "import pickle\n",
    "import matplotlib.colors as colors\n",
    "import datetime as dt\n",
    "import pickle\n",
    "from matplotlib.colors import BoundaryNorm\n",
    "import glob\n",
    "import pdb\n",
    "import matplotlib.gridspec as gridspec\n",
    "import warnings\n",
    "warnings.filterwarnings('ignore')\n",
    "\n",
    "import calendar\n",
    "import sys\n",
    "sys.path.append('/home/563/ab2313/MJO/functions')\n",
    "import access_functions as af\n",
    "import subphase_calc_functions as subphase_calc\n",
    "import access_plot_functions as apf\n",
    "import load_dataset as load\n",
    "import phase_calc_functions as phase_calc\n",
    "from importlib import reload\n",
    "\n",
    "import subphase_calc_2 as sub2"
   ]
  },
  {
   "cell_type": "code",
   "execution_count": 2,
   "metadata": {
    "ExecuteTime": {
     "end_time": "2020-05-04T08:11:58.059344Z",
     "start_time": "2020-05-04T08:11:58.055236Z"
    }
   },
   "outputs": [],
   "source": [
    "from importlib import reload"
   ]
  },
  {
   "cell_type": "code",
   "execution_count": 3,
   "metadata": {
    "ExecuteTime": {
     "end_time": "2020-05-04T08:14:30.159391Z",
     "start_time": "2020-05-04T08:11:58.062301Z"
    }
   },
   "outputs": [
    {
     "name": "stdout",
     "output_type": "stream",
     "text": [
      "4159 4159\n",
      "4159 4159\n"
     ]
    }
   ],
   "source": [
    "load = reload(load)\n",
    "awap, access, rmm_obs, rmm_access = load.load_accessifies_variables()"
   ]
  },
  {
   "cell_type": "code",
   "execution_count": 4,
   "metadata": {
    "ExecuteTime": {
     "end_time": "2020-05-04T08:14:30.689712Z",
     "start_time": "2020-05-04T08:14:30.161819Z"
    }
   },
   "outputs": [],
   "source": [
    "# This way you don't have to reload all of the datasets if you want to reset them\n",
    "awap_init = awap.copy(deep = True)\n",
    "access_init = access.copy(deep = True)"
   ]
  },
  {
   "cell_type": "markdown",
   "metadata": {},
   "source": [
    "# Raintype"
   ]
  },
  {
   "cell_type": "code",
   "execution_count": 5,
   "metadata": {
    "ExecuteTime": {
     "end_time": "2020-05-04T08:14:30.700533Z",
     "start_time": "2020-05-04T08:14:30.693079Z"
    }
   },
   "outputs": [],
   "source": [
    "awap = awap_init\n",
    "access = access_init"
   ]
  },
  {
   "cell_type": "code",
   "execution_count": 6,
   "metadata": {
    "ExecuteTime": {
     "end_time": "2020-05-04T08:14:30.774846Z",
     "start_time": "2020-05-04T08:14:30.703317Z"
    }
   },
   "outputs": [
    {
     "data": {
      "text/html": [
       "<div><svg style=\"position: absolute; width: 0; height: 0; overflow: hidden\">\n",
       "<defs>\n",
       "<symbol id=\"icon-database\" viewBox=\"0 0 32 32\">\n",
       "<title>Show/Hide data repr</title>\n",
       "<path d=\"M16 0c-8.837 0-16 2.239-16 5v4c0 2.761 7.163 5 16 5s16-2.239 16-5v-4c0-2.761-7.163-5-16-5z\"></path>\n",
       "<path d=\"M16 17c-8.837 0-16-2.239-16-5v6c0 2.761 7.163 5 16 5s16-2.239 16-5v-6c0 2.761-7.163 5-16 5z\"></path>\n",
       "<path d=\"M16 26c-8.837 0-16-2.239-16-5v6c0 2.761 7.163 5 16 5s16-2.239 16-5v-6c0 2.761-7.163 5-16 5z\"></path>\n",
       "</symbol>\n",
       "<symbol id=\"icon-file-text2\" viewBox=\"0 0 32 32\">\n",
       "<title>Show/Hide attributes</title>\n",
       "<path d=\"M28.681 7.159c-0.694-0.947-1.662-2.053-2.724-3.116s-2.169-2.030-3.116-2.724c-1.612-1.182-2.393-1.319-2.841-1.319h-15.5c-1.378 0-2.5 1.121-2.5 2.5v27c0 1.378 1.122 2.5 2.5 2.5h23c1.378 0 2.5-1.122 2.5-2.5v-19.5c0-0.448-0.137-1.23-1.319-2.841zM24.543 5.457c0.959 0.959 1.712 1.825 2.268 2.543h-4.811v-4.811c0.718 0.556 1.584 1.309 2.543 2.268zM28 29.5c0 0.271-0.229 0.5-0.5 0.5h-23c-0.271 0-0.5-0.229-0.5-0.5v-27c0-0.271 0.229-0.5 0.5-0.5 0 0 15.499-0 15.5 0v7c0 0.552 0.448 1 1 1h7v19.5z\"></path>\n",
       "<path d=\"M23 26h-14c-0.552 0-1-0.448-1-1s0.448-1 1-1h14c0.552 0 1 0.448 1 1s-0.448 1-1 1z\"></path>\n",
       "<path d=\"M23 22h-14c-0.552 0-1-0.448-1-1s0.448-1 1-1h14c0.552 0 1 0.448 1 1s-0.448 1-1 1z\"></path>\n",
       "<path d=\"M23 18h-14c-0.552 0-1-0.448-1-1s0.448-1 1-1h14c0.552 0 1 0.448 1 1s-0.448 1-1 1z\"></path>\n",
       "</symbol>\n",
       "</defs>\n",
       "</svg>\n",
       "<style>/* CSS stylesheet for displaying xarray objects in jupyterlab.\n",
       " *\n",
       " */\n",
       "\n",
       ":root {\n",
       "  --xr-font-color0: var(--jp-content-font-color0, rgba(0, 0, 0, 1));\n",
       "  --xr-font-color2: var(--jp-content-font-color2, rgba(0, 0, 0, 0.54));\n",
       "  --xr-font-color3: var(--jp-content-font-color3, rgba(0, 0, 0, 0.38));\n",
       "  --xr-border-color: var(--jp-border-color2, #e0e0e0);\n",
       "  --xr-disabled-color: var(--jp-layout-color3, #bdbdbd);\n",
       "  --xr-background-color: var(--jp-layout-color0, white);\n",
       "  --xr-background-color-row-even: var(--jp-layout-color1, white);\n",
       "  --xr-background-color-row-odd: var(--jp-layout-color2, #eeeeee);\n",
       "}\n",
       "\n",
       ".xr-wrap {\n",
       "  min-width: 300px;\n",
       "  max-width: 700px;\n",
       "}\n",
       "\n",
       ".xr-header {\n",
       "  padding-top: 6px;\n",
       "  padding-bottom: 6px;\n",
       "  margin-bottom: 4px;\n",
       "  border-bottom: solid 1px var(--xr-border-color);\n",
       "}\n",
       "\n",
       ".xr-header > div,\n",
       ".xr-header > ul {\n",
       "  display: inline;\n",
       "  margin-top: 0;\n",
       "  margin-bottom: 0;\n",
       "}\n",
       "\n",
       ".xr-obj-type,\n",
       ".xr-array-name {\n",
       "  margin-left: 2px;\n",
       "  margin-right: 10px;\n",
       "}\n",
       "\n",
       ".xr-obj-type {\n",
       "  color: var(--xr-font-color2);\n",
       "}\n",
       "\n",
       ".xr-sections {\n",
       "  padding-left: 0 !important;\n",
       "  display: grid;\n",
       "  grid-template-columns: 150px auto auto 1fr 20px 20px;\n",
       "}\n",
       "\n",
       ".xr-section-item {\n",
       "  display: contents;\n",
       "}\n",
       "\n",
       ".xr-section-item input {\n",
       "  display: none;\n",
       "}\n",
       "\n",
       ".xr-section-item input + label {\n",
       "  color: var(--xr-disabled-color);\n",
       "}\n",
       "\n",
       ".xr-section-item input:enabled + label {\n",
       "  cursor: pointer;\n",
       "  color: var(--xr-font-color2);\n",
       "}\n",
       "\n",
       ".xr-section-item input:enabled + label:hover {\n",
       "  color: var(--xr-font-color0);\n",
       "}\n",
       "\n",
       ".xr-section-summary {\n",
       "  grid-column: 1;\n",
       "  color: var(--xr-font-color2);\n",
       "  font-weight: 500;\n",
       "}\n",
       "\n",
       ".xr-section-summary > span {\n",
       "  display: inline-block;\n",
       "  padding-left: 0.5em;\n",
       "}\n",
       "\n",
       ".xr-section-summary-in:disabled + label {\n",
       "  color: var(--xr-font-color2);\n",
       "}\n",
       "\n",
       ".xr-section-summary-in + label:before {\n",
       "  display: inline-block;\n",
       "  content: '►';\n",
       "  font-size: 11px;\n",
       "  width: 15px;\n",
       "  text-align: center;\n",
       "}\n",
       "\n",
       ".xr-section-summary-in:disabled + label:before {\n",
       "  color: var(--xr-disabled-color);\n",
       "}\n",
       "\n",
       ".xr-section-summary-in:checked + label:before {\n",
       "  content: '▼';\n",
       "}\n",
       "\n",
       ".xr-section-summary-in:checked + label > span {\n",
       "  display: none;\n",
       "}\n",
       "\n",
       ".xr-section-summary,\n",
       ".xr-section-inline-details {\n",
       "  padding-top: 4px;\n",
       "  padding-bottom: 4px;\n",
       "}\n",
       "\n",
       ".xr-section-inline-details {\n",
       "  grid-column: 2 / -1;\n",
       "}\n",
       "\n",
       ".xr-section-details {\n",
       "  display: none;\n",
       "  grid-column: 1 / -1;\n",
       "  margin-bottom: 5px;\n",
       "}\n",
       "\n",
       ".xr-section-summary-in:checked ~ .xr-section-details {\n",
       "  display: contents;\n",
       "}\n",
       "\n",
       ".xr-array-wrap {\n",
       "  grid-column: 1 / -1;\n",
       "  display: grid;\n",
       "  grid-template-columns: 20px auto;\n",
       "}\n",
       "\n",
       ".xr-array-wrap > label {\n",
       "  grid-column: 1;\n",
       "  vertical-align: top;\n",
       "}\n",
       "\n",
       ".xr-preview {\n",
       "  color: var(--xr-font-color3);\n",
       "}\n",
       "\n",
       ".xr-array-preview,\n",
       ".xr-array-data {\n",
       "  padding: 0 5px !important;\n",
       "  grid-column: 2;\n",
       "}\n",
       "\n",
       ".xr-array-data,\n",
       ".xr-array-in:checked ~ .xr-array-preview {\n",
       "  display: none;\n",
       "}\n",
       "\n",
       ".xr-array-in:checked ~ .xr-array-data,\n",
       ".xr-array-preview {\n",
       "  display: inline-block;\n",
       "}\n",
       "\n",
       ".xr-dim-list {\n",
       "  display: inline-block !important;\n",
       "  list-style: none;\n",
       "  padding: 0 !important;\n",
       "  margin: 0;\n",
       "}\n",
       "\n",
       ".xr-dim-list li {\n",
       "  display: inline-block;\n",
       "  padding: 0;\n",
       "  margin: 0;\n",
       "}\n",
       "\n",
       ".xr-dim-list:before {\n",
       "  content: '(';\n",
       "}\n",
       "\n",
       ".xr-dim-list:after {\n",
       "  content: ')';\n",
       "}\n",
       "\n",
       ".xr-dim-list li:not(:last-child):after {\n",
       "  content: ',';\n",
       "  padding-right: 5px;\n",
       "}\n",
       "\n",
       ".xr-has-index {\n",
       "  font-weight: bold;\n",
       "}\n",
       "\n",
       ".xr-var-list,\n",
       ".xr-var-item {\n",
       "  display: contents;\n",
       "}\n",
       "\n",
       ".xr-var-item > div,\n",
       ".xr-var-item label,\n",
       ".xr-var-item > .xr-var-name span {\n",
       "  background-color: var(--xr-background-color-row-even);\n",
       "  margin-bottom: 0;\n",
       "}\n",
       "\n",
       ".xr-var-item > .xr-var-name:hover span {\n",
       "  padding-right: 5px;\n",
       "}\n",
       "\n",
       ".xr-var-list > li:nth-child(odd) > div,\n",
       ".xr-var-list > li:nth-child(odd) > label,\n",
       ".xr-var-list > li:nth-child(odd) > .xr-var-name span {\n",
       "  background-color: var(--xr-background-color-row-odd);\n",
       "}\n",
       "\n",
       ".xr-var-name {\n",
       "  grid-column: 1;\n",
       "}\n",
       "\n",
       ".xr-var-dims {\n",
       "  grid-column: 2;\n",
       "}\n",
       "\n",
       ".xr-var-dtype {\n",
       "  grid-column: 3;\n",
       "  text-align: right;\n",
       "  color: var(--xr-font-color2);\n",
       "}\n",
       "\n",
       ".xr-var-preview {\n",
       "  grid-column: 4;\n",
       "}\n",
       "\n",
       ".xr-var-name,\n",
       ".xr-var-dims,\n",
       ".xr-var-dtype,\n",
       ".xr-preview,\n",
       ".xr-attrs dt {\n",
       "  white-space: nowrap;\n",
       "  overflow: hidden;\n",
       "  text-overflow: ellipsis;\n",
       "  padding-right: 10px;\n",
       "}\n",
       "\n",
       ".xr-var-name:hover,\n",
       ".xr-var-dims:hover,\n",
       ".xr-var-dtype:hover,\n",
       ".xr-attrs dt:hover {\n",
       "  overflow: visible;\n",
       "  width: auto;\n",
       "  z-index: 1;\n",
       "}\n",
       "\n",
       ".xr-var-attrs,\n",
       ".xr-var-data {\n",
       "  display: none;\n",
       "  background-color: var(--xr-background-color) !important;\n",
       "  padding-bottom: 5px !important;\n",
       "}\n",
       "\n",
       ".xr-var-attrs-in:checked ~ .xr-var-attrs,\n",
       ".xr-var-data-in:checked ~ .xr-var-data {\n",
       "  display: block;\n",
       "}\n",
       "\n",
       ".xr-var-data > table {\n",
       "  float: right;\n",
       "}\n",
       "\n",
       ".xr-var-name span,\n",
       ".xr-var-data,\n",
       ".xr-attrs {\n",
       "  padding-left: 25px !important;\n",
       "}\n",
       "\n",
       ".xr-attrs,\n",
       ".xr-var-attrs,\n",
       ".xr-var-data {\n",
       "  grid-column: 1 / -1;\n",
       "}\n",
       "\n",
       "dl.xr-attrs {\n",
       "  padding: 0;\n",
       "  margin: 0;\n",
       "  display: grid;\n",
       "  grid-template-columns: 125px auto;\n",
       "}\n",
       "\n",
       ".xr-attrs dt, dd {\n",
       "  padding: 0;\n",
       "  margin: 0;\n",
       "  float: left;\n",
       "  padding-right: 10px;\n",
       "  width: auto;\n",
       "}\n",
       "\n",
       ".xr-attrs dt {\n",
       "  font-weight: normal;\n",
       "  grid-column: 1;\n",
       "}\n",
       "\n",
       ".xr-attrs dt:hover span {\n",
       "  display: inline-block;\n",
       "  background: var(--xr-background-color);\n",
       "  padding-right: 10px;\n",
       "}\n",
       "\n",
       ".xr-attrs dd {\n",
       "  grid-column: 2;\n",
       "  white-space: pre-wrap;\n",
       "  word-break: break-all;\n",
       "}\n",
       "\n",
       ".xr-icon-database,\n",
       ".xr-icon-file-text2 {\n",
       "  display: inline-block;\n",
       "  vertical-align: middle;\n",
       "  width: 1em;\n",
       "  height: 1.5em !important;\n",
       "  stroke-width: 0;\n",
       "  stroke: currentColor;\n",
       "  fill: currentColor;\n",
       "}\n",
       "</style><div class='xr-wrap'><div class='xr-header'><div class='xr-obj-type'>xarray.Dataset</div></div><ul class='xr-sections'><li class='xr-section-item'><input id='section-ccf56780-f4af-4e80-bdd6-2216bf6174fe' class='xr-section-summary-in' type='checkbox' disabled ><label for='section-ccf56780-f4af-4e80-bdd6-2216bf6174fe' class='xr-section-summary'  title='Expand/collapse section'>Dimensions:</label><div class='xr-section-inline-details'><ul class='xr-dim-list'><li><span class='xr-has-index'>ensemble</span>: 11</li><li><span class='xr-has-index'>lat</span>: 49</li><li><span class='xr-has-index'>lon</span>: 149</li><li><span class='xr-has-index'>time</span>: 4159</li></ul></div><div class='xr-section-details'></div></li><li class='xr-section-item'><input id='section-3a4773e1-95fe-4077-ba1f-ec254f38e358' class='xr-section-summary-in' type='checkbox'  checked><label for='section-3a4773e1-95fe-4077-ba1f-ec254f38e358' class='xr-section-summary' >Coordinates: <span>(4)</span></label><div class='xr-section-inline-details'></div><div class='xr-section-details'><ul class='xr-var-list'><li class='xr-var-item'><div class='xr-var-name'><span class='xr-has-index'>lat</span></div><div class='xr-var-dims'>(lat)</div><div class='xr-var-dtype'>float32</div><div class='xr-var-preview xr-preview'>-23.0 -22.75 -22.5 ... -11.25 -11.0</div><input id='attrs-5fcc76bf-48dc-4d52-9809-e6f140a2f5ef' class='xr-var-attrs-in' type='checkbox' ><label for='attrs-5fcc76bf-48dc-4d52-9809-e6f140a2f5ef' title='Show/Hide attributes'><svg class='icon xr-icon-file-text2'><use xlink:href='#icon-file-text2'></use></svg></label><input id='data-59304afb-7564-42fa-8b3f-f83a1475492d' class='xr-var-data-in' type='checkbox'><label for='data-59304afb-7564-42fa-8b3f-f83a1475492d' title='Show/Hide data repr'><svg class='icon xr-icon-database'><use xlink:href='#icon-database'></use></svg></label><div class='xr-var-attrs'><dl class='xr-attrs'><dt><span>standard_name :</span></dt><dd>latitude</dd><dt><span>long_name :</span></dt><dd>latitude</dd><dt><span>units :</span></dt><dd>degrees_north</dd><dt><span>axis :</span></dt><dd>Y</dd></dl></div><pre class='xr-var-data'>array([-23.  , -22.75, -22.5 , -22.25, -22.  , -21.75, -21.5 , -21.25, -21.  ,\n",
       "       -20.75, -20.5 , -20.25, -20.  , -19.75, -19.5 , -19.25, -19.  , -18.75,\n",
       "       -18.5 , -18.25, -18.  , -17.75, -17.5 , -17.25, -17.  , -16.75, -16.5 ,\n",
       "       -16.25, -16.  , -15.75, -15.5 , -15.25, -15.  , -14.75, -14.5 , -14.25,\n",
       "       -14.  , -13.75, -13.5 , -13.25, -13.  , -12.75, -12.5 , -12.25, -12.  ,\n",
       "       -11.75, -11.5 , -11.25, -11.  ], dtype=float32)</pre></li><li class='xr-var-item'><div class='xr-var-name'><span class='xr-has-index'>lon</span></div><div class='xr-var-dims'>(lon)</div><div class='xr-var-dtype'>float32</div><div class='xr-var-preview xr-preview'>113.75 114.0 ... 150.5 150.75</div><input id='attrs-f07633ad-6571-4552-9a90-2adb461bcf00' class='xr-var-attrs-in' type='checkbox' ><label for='attrs-f07633ad-6571-4552-9a90-2adb461bcf00' title='Show/Hide attributes'><svg class='icon xr-icon-file-text2'><use xlink:href='#icon-file-text2'></use></svg></label><input id='data-96a005fe-cf2f-4ee6-adc7-af90ec4adc85' class='xr-var-data-in' type='checkbox'><label for='data-96a005fe-cf2f-4ee6-adc7-af90ec4adc85' title='Show/Hide data repr'><svg class='icon xr-icon-database'><use xlink:href='#icon-database'></use></svg></label><div class='xr-var-attrs'><dl class='xr-attrs'><dt><span>standard_name :</span></dt><dd>longitude</dd><dt><span>long_name :</span></dt><dd>longitude</dd><dt><span>units :</span></dt><dd>degrees_east</dd><dt><span>axis :</span></dt><dd>X</dd></dl></div><pre class='xr-var-data'>array([113.75, 114.  , 114.25, 114.5 , 114.75, 115.  , 115.25, 115.5 , 115.75,\n",
       "       116.  , 116.25, 116.5 , 116.75, 117.  , 117.25, 117.5 , 117.75, 118.  ,\n",
       "       118.25, 118.5 , 118.75, 119.  , 119.25, 119.5 , 119.75, 120.  , 120.25,\n",
       "       120.5 , 120.75, 121.  , 121.25, 121.5 , 121.75, 122.  , 122.25, 122.5 ,\n",
       "       122.75, 123.  , 123.25, 123.5 , 123.75, 124.  , 124.25, 124.5 , 124.75,\n",
       "       125.  , 125.25, 125.5 , 125.75, 126.  , 126.25, 126.5 , 126.75, 127.  ,\n",
       "       127.25, 127.5 , 127.75, 128.  , 128.25, 128.5 , 128.75, 129.  , 129.25,\n",
       "       129.5 , 129.75, 130.  , 130.25, 130.5 , 130.75, 131.  , 131.25, 131.5 ,\n",
       "       131.75, 132.  , 132.25, 132.5 , 132.75, 133.  , 133.25, 133.5 , 133.75,\n",
       "       134.  , 134.25, 134.5 , 134.75, 135.  , 135.25, 135.5 , 135.75, 136.  ,\n",
       "       136.25, 136.5 , 136.75, 137.  , 137.25, 137.5 , 137.75, 138.  , 138.25,\n",
       "       138.5 , 138.75, 139.  , 139.25, 139.5 , 139.75, 140.  , 140.25, 140.5 ,\n",
       "       140.75, 141.  , 141.25, 141.5 , 141.75, 142.  , 142.25, 142.5 , 142.75,\n",
       "       143.  , 143.25, 143.5 , 143.75, 144.  , 144.25, 144.5 , 144.75, 145.  ,\n",
       "       145.25, 145.5 , 145.75, 146.  , 146.25, 146.5 , 146.75, 147.  , 147.25,\n",
       "       147.5 , 147.75, 148.  , 148.25, 148.5 , 148.75, 149.  , 149.25, 149.5 ,\n",
       "       149.75, 150.  , 150.25, 150.5 , 150.75], dtype=float32)</pre></li><li class='xr-var-item'><div class='xr-var-name'><span class='xr-has-index'>time</span></div><div class='xr-var-dims'>(time)</div><div class='xr-var-dtype'>datetime64[ns]</div><div class='xr-var-preview xr-preview'>1990-01-01 ... 2012-12-31</div><input id='attrs-d30718fb-72e2-4931-be70-3d16e8ed8731' class='xr-var-attrs-in' type='checkbox' disabled><label for='attrs-d30718fb-72e2-4931-be70-3d16e8ed8731' title='Show/Hide attributes'><svg class='icon xr-icon-file-text2'><use xlink:href='#icon-file-text2'></use></svg></label><input id='data-d8f80a94-c286-4ac6-b97d-1a0c763cb5a7' class='xr-var-data-in' type='checkbox'><label for='data-d8f80a94-c286-4ac6-b97d-1a0c763cb5a7' title='Show/Hide data repr'><svg class='icon xr-icon-database'><use xlink:href='#icon-database'></use></svg></label><div class='xr-var-attrs'><dl class='xr-attrs'></dl></div><pre class='xr-var-data'>array([&#x27;1990-01-01T00:00:00.000000000&#x27;, &#x27;1990-01-02T00:00:00.000000000&#x27;,\n",
       "       &#x27;1990-01-03T00:00:00.000000000&#x27;, ..., &#x27;2012-12-29T00:00:00.000000000&#x27;,\n",
       "       &#x27;2012-12-30T00:00:00.000000000&#x27;, &#x27;2012-12-31T00:00:00.000000000&#x27;],\n",
       "      dtype=&#x27;datetime64[ns]&#x27;)</pre></li><li class='xr-var-item'><div class='xr-var-name'><span class='xr-has-index'>ensemble</span></div><div class='xr-var-dims'>(ensemble)</div><div class='xr-var-dtype'>int64</div><div class='xr-var-preview xr-preview'>1 2 3 4 5 6 7 8 9 10 11</div><input id='attrs-4df06f89-4e4c-4938-8e0e-464b09391cf9' class='xr-var-attrs-in' type='checkbox' disabled><label for='attrs-4df06f89-4e4c-4938-8e0e-464b09391cf9' title='Show/Hide attributes'><svg class='icon xr-icon-file-text2'><use xlink:href='#icon-file-text2'></use></svg></label><input id='data-dc21dde0-b841-4587-9cdf-bdee1f628716' class='xr-var-data-in' type='checkbox'><label for='data-dc21dde0-b841-4587-9cdf-bdee1f628716' title='Show/Hide data repr'><svg class='icon xr-icon-database'><use xlink:href='#icon-database'></use></svg></label><div class='xr-var-attrs'><dl class='xr-attrs'></dl></div><pre class='xr-var-data'>array([ 1,  2,  3,  4,  5,  6,  7,  8,  9, 10, 11])</pre></li></ul></div></li><li class='xr-section-item'><input id='section-b7169ff1-165b-43f0-8666-e684a99c381b' class='xr-section-summary-in' type='checkbox'  checked><label for='section-b7169ff1-165b-43f0-8666-e684a99c381b' class='xr-section-summary' >Data variables: <span>(1)</span></label><div class='xr-section-inline-details'></div><div class='xr-section-details'><ul class='xr-var-list'><li class='xr-var-item'><div class='xr-var-name'><span>precip</span></div><div class='xr-var-dims'>(ensemble, time, lat, lon)</div><div class='xr-var-dtype'>float32</div><div class='xr-var-preview xr-preview'>nan nan nan nan ... nan nan nan nan</div><input id='attrs-ae1a3c67-e449-4413-972f-c1b1531cfd7f' class='xr-var-attrs-in' type='checkbox' ><label for='attrs-ae1a3c67-e449-4413-972f-c1b1531cfd7f' title='Show/Hide attributes'><svg class='icon xr-icon-file-text2'><use xlink:href='#icon-file-text2'></use></svg></label><input id='data-a312a724-b6f6-4dca-b3f9-4f69b98133c0' class='xr-var-data-in' type='checkbox'><label for='data-a312a724-b6f6-4dca-b3f9-4f69b98133c0' title='Show/Hide data repr'><svg class='icon xr-icon-database'><use xlink:href='#icon-database'></use></svg></label><div class='xr-var-attrs'><dl class='xr-attrs'><dt><span>long_name :</span></dt><dd>precipition</dd><dt><span>units :</span></dt><dd>mm/day</dd><dt><span>cell_methods :</span></dt><dd>time0: mean</dd></dl></div><pre class='xr-var-data'>array([[[[  nan,   nan,   nan, ...,   nan,   nan,   nan],\n",
       "         [  nan,   nan,   nan, ...,   nan,   nan,   nan],\n",
       "         [  nan,   nan,   nan, ...,   nan,   nan,   nan],\n",
       "         ...,\n",
       "         [  nan,   nan,   nan, ...,   nan,   nan,   nan],\n",
       "         [  nan,   nan,   nan, ...,   nan,   nan,   nan],\n",
       "         [  nan,   nan,   nan, ...,   nan,   nan,   nan]],\n",
       "\n",
       "        [[  nan,   nan,   nan, ...,   nan,   nan,   nan],\n",
       "         [  nan,   nan,   nan, ...,   nan,   nan,   nan],\n",
       "         [  nan,   nan,   nan, ...,   nan,   nan,   nan],\n",
       "         ...,\n",
       "         [  nan,   nan,   nan, ...,   nan,   nan,   nan],\n",
       "         [  nan,   nan,   nan, ...,   nan,   nan,   nan],\n",
       "         [  nan,   nan,   nan, ...,   nan,   nan,   nan]],\n",
       "\n",
       "        [[  nan,   nan,   nan, ...,   nan,   nan,   nan],\n",
       "         [  nan,   nan,   nan, ...,   nan,   nan,   nan],\n",
       "         [  nan,   nan,   nan, ...,   nan,   nan,   nan],\n",
       "         ...,\n",
       "         [  nan,   nan,   nan, ...,   nan,   nan,   nan],\n",
       "         [  nan,   nan,   nan, ...,   nan,   nan,   nan],\n",
       "         [  nan,   nan,   nan, ...,   nan,   nan,   nan]],\n",
       "\n",
       "        ...,\n",
       "\n",
       "        [[  nan,   nan,   nan, ...,  8.12,  7.16,  7.99],\n",
       "         [  nan,   nan,   nan, ...,  8.76,  8.46,  9.44],\n",
       "         [  nan,   nan,   nan, ...,  8.87,  8.23,   nan],\n",
       "         ...,\n",
       "         [  nan,   nan,   nan, ...,   nan,   nan,   nan],\n",
       "         [  nan,   nan,   nan, ...,   nan,   nan,   nan],\n",
       "         [  nan,   nan,   nan, ...,   nan,   nan,   nan]],\n",
       "\n",
       "        [[  nan,   nan,   nan, ..., 21.35, 30.2 , 35.49],\n",
       "         [  nan,   nan,   nan, ..., 31.79, 46.67, 51.18],\n",
       "         [  nan,   nan,   nan, ..., 38.76, 45.33,   nan],\n",
       "         ...,\n",
       "         [  nan,   nan,   nan, ...,   nan,   nan,   nan],\n",
       "         [  nan,   nan,   nan, ...,   nan,   nan,   nan],\n",
       "         [  nan,   nan,   nan, ...,   nan,   nan,   nan]],\n",
       "\n",
       "        [[  nan,   nan,   nan, ..., 44.41, 54.16, 55.72],\n",
       "         [  nan,   nan,   nan, ..., 44.84, 62.58, 61.89],\n",
       "         [  nan,   nan,   nan, ..., 45.52, 47.2 ,   nan],\n",
       "         ...,\n",
       "         [  nan,   nan,   nan, ...,   nan,   nan,   nan],\n",
       "         [  nan,   nan,   nan, ...,   nan,   nan,   nan],\n",
       "         [  nan,   nan,   nan, ...,   nan,   nan,   nan]]],\n",
       "\n",
       "\n",
       "       [[[  nan,   nan,   nan, ...,   nan,   nan,   nan],\n",
       "         [  nan,   nan,   nan, ...,   nan,   nan,   nan],\n",
       "         [  nan,   nan,   nan, ...,   nan,   nan,   nan],\n",
       "         ...,\n",
       "         [  nan,   nan,   nan, ...,   nan,   nan,   nan],\n",
       "         [  nan,   nan,   nan, ...,   nan,   nan,   nan],\n",
       "         [  nan,   nan,   nan, ...,   nan,   nan,   nan]],\n",
       "\n",
       "        [[  nan,   nan,   nan, ...,   nan,   nan,   nan],\n",
       "         [  nan,   nan,   nan, ...,   nan,   nan,   nan],\n",
       "         [  nan,   nan,   nan, ...,   nan,   nan,   nan],\n",
       "         ...,\n",
       "         [  nan,   nan,   nan, ...,   nan,   nan,   nan],\n",
       "         [  nan,   nan,   nan, ...,   nan,   nan,   nan],\n",
       "         [  nan,   nan,   nan, ...,   nan,   nan,   nan]],\n",
       "\n",
       "        [[  nan,   nan,   nan, ...,   nan,   nan,   nan],\n",
       "         [  nan,   nan,   nan, ...,   nan,   nan,   nan],\n",
       "         [  nan,   nan,   nan, ...,   nan,   nan,   nan],\n",
       "         ...,\n",
       "         [  nan,   nan,   nan, ...,   nan,   nan,   nan],\n",
       "         [  nan,   nan,   nan, ...,   nan,   nan,   nan],\n",
       "         [  nan,   nan,   nan, ...,   nan,   nan,   nan]],\n",
       "\n",
       "        ...,\n",
       "\n",
       "        [[  nan,   nan,   nan, ...,   nan,   nan,   nan],\n",
       "         [  nan,   nan,   nan, ...,   nan,   nan,   nan],\n",
       "         [  nan,   nan,   nan, ...,   nan,   nan,   nan],\n",
       "         ...,\n",
       "         [  nan,   nan,   nan, ...,   nan,   nan,   nan],\n",
       "         [  nan,   nan,   nan, ...,   nan,   nan,   nan],\n",
       "         [  nan,   nan,   nan, ...,   nan,   nan,   nan]],\n",
       "\n",
       "        [[  nan, 20.04, 25.17, ...,   nan,   nan,   nan],\n",
       "         [  nan, 13.92, 18.66, ...,   nan,   nan,   nan],\n",
       "         [10.34, 11.54, 12.08, ...,   nan,   nan,   nan],\n",
       "         ...,\n",
       "         [  nan,   nan,   nan, ...,   nan,   nan,   nan],\n",
       "         [  nan,   nan,   nan, ...,   nan,   nan,   nan],\n",
       "         [  nan,   nan,   nan, ...,   nan,   nan,   nan]],\n",
       "\n",
       "        [[  nan,   nan,   nan, ...,   nan,   nan,   nan],\n",
       "         [  nan,   nan,   nan, ...,   nan,   nan,   nan],\n",
       "         [  nan,   nan,   nan, ...,   nan,   nan,   nan],\n",
       "         ...,\n",
       "         [  nan,   nan,   nan, ...,   nan,   nan,   nan],\n",
       "         [  nan,   nan,   nan, ...,   nan,   nan,   nan],\n",
       "         [  nan,   nan,   nan, ...,   nan,   nan,   nan]]],\n",
       "\n",
       "\n",
       "       [[[  nan,   nan,   nan, ...,   nan,   nan,   nan],\n",
       "         [  nan,   nan,   nan, ...,   nan,   nan,   nan],\n",
       "         [  nan,   nan,   nan, ...,   nan,   nan,   nan],\n",
       "         ...,\n",
       "         [  nan,   nan,   nan, ...,   nan,   nan,   nan],\n",
       "         [  nan,   nan,   nan, ...,   nan,   nan,   nan],\n",
       "         [  nan,   nan,   nan, ...,   nan,   nan,   nan]],\n",
       "\n",
       "        [[  nan,   nan,   nan, ...,   nan,   nan,   nan],\n",
       "         [  nan,   nan,   nan, ...,   nan,   nan,   nan],\n",
       "         [  nan,   nan,   nan, ...,   nan,   nan,   nan],\n",
       "         ...,\n",
       "         [  nan,   nan,   nan, ...,   nan,   nan,   nan],\n",
       "         [  nan,   nan,   nan, ...,   nan,   nan,   nan],\n",
       "         [  nan,   nan,   nan, ...,   nan,   nan,   nan]],\n",
       "\n",
       "        [[  nan,   nan,   nan, ...,   nan,   nan,   nan],\n",
       "         [  nan,   nan,   nan, ...,   nan,   nan,   nan],\n",
       "         [  nan,   nan,   nan, ...,   nan,   nan,   nan],\n",
       "         ...,\n",
       "         [  nan,   nan,   nan, ...,   nan,   nan,   nan],\n",
       "         [  nan,   nan,   nan, ...,   nan,   nan,   nan],\n",
       "         [  nan,   nan,   nan, ...,   nan,   nan,   nan]],\n",
       "\n",
       "        ...,\n",
       "\n",
       "        [[  nan,   nan,   nan, ...,   nan,   nan,   nan],\n",
       "         [  nan,   nan,   nan, ...,   nan,   nan,   nan],\n",
       "         [  nan,   nan,   nan, ...,   nan,   nan,   nan],\n",
       "         ...,\n",
       "         [  nan,   nan,   nan, ...,   nan,   nan,   nan],\n",
       "         [  nan,   nan,   nan, ...,   nan,   nan,   nan],\n",
       "         [  nan,   nan,   nan, ...,   nan,   nan,   nan]],\n",
       "\n",
       "        [[  nan,   nan,   nan, ...,   nan,   nan,   nan],\n",
       "         [  nan,   nan,   nan, ...,   nan,   nan,   nan],\n",
       "         [  nan,   nan,   nan, ...,   nan,   nan,   nan],\n",
       "         ...,\n",
       "         [  nan,   nan,   nan, ...,   nan,   nan,   nan],\n",
       "         [  nan,   nan,   nan, ...,   nan,   nan,   nan],\n",
       "         [  nan,   nan,   nan, ...,   nan,   nan,   nan]],\n",
       "\n",
       "        [[  nan,   nan,   nan, ...,   nan,   nan,   nan],\n",
       "         [  nan,   nan,   nan, ...,   nan,   nan,   nan],\n",
       "         [  nan,   nan,   nan, ...,   nan,   nan,   nan],\n",
       "         ...,\n",
       "         [  nan,   nan,   nan, ...,   nan,   nan,   nan],\n",
       "         [  nan,   nan,   nan, ...,   nan,   nan,   nan],\n",
       "         [  nan,   nan,   nan, ...,   nan,   nan,   nan]]],\n",
       "\n",
       "\n",
       "       ...,\n",
       "\n",
       "\n",
       "       [[[  nan,   nan,   nan, ...,   nan,   nan,   nan],\n",
       "         [  nan,   nan,   nan, ...,   nan,   nan,   nan],\n",
       "         [  nan,   nan,   nan, ...,   nan,   nan,   nan],\n",
       "         ...,\n",
       "         [  nan,   nan,   nan, ...,   nan,   nan,   nan],\n",
       "         [  nan,   nan,   nan, ...,   nan,   nan,   nan],\n",
       "         [  nan,   nan,   nan, ...,   nan,   nan,   nan]],\n",
       "\n",
       "        [[  nan,   nan,   nan, ...,   nan,   nan,   nan],\n",
       "         [  nan,   nan,   nan, ...,   nan,   nan,   nan],\n",
       "         [  nan,   nan,   nan, ...,   nan,   nan,   nan],\n",
       "         ...,\n",
       "         [  nan,   nan,   nan, ...,   nan,   nan,   nan],\n",
       "         [  nan,   nan,   nan, ...,   nan,   nan,   nan],\n",
       "         [  nan,   nan,   nan, ...,   nan,   nan,   nan]],\n",
       "\n",
       "        [[  nan,   nan,   nan, ...,   nan,   nan,   nan],\n",
       "         [  nan,   nan,   nan, ...,   nan,   nan,   nan],\n",
       "         [  nan,   nan,   nan, ...,   nan,   nan,   nan],\n",
       "         ...,\n",
       "         [  nan,   nan,   nan, ...,   nan,   nan,   nan],\n",
       "         [  nan,   nan,   nan, ...,   nan,   nan,   nan],\n",
       "         [  nan,   nan,   nan, ...,   nan,   nan,   nan]],\n",
       "\n",
       "        ...,\n",
       "\n",
       "        [[  nan,   nan,   nan, ...,  3.32,  2.22,  1.73],\n",
       "         [  nan,   nan,   nan, ...,  1.92,  2.45,  1.95],\n",
       "         [  nan,   nan,   nan, ...,  2.06,  2.27,   nan],\n",
       "         ...,\n",
       "         [  nan,   nan,   nan, ...,   nan,   nan,   nan],\n",
       "         [  nan,   nan,   nan, ...,   nan,   nan,   nan],\n",
       "         [  nan,   nan,   nan, ...,   nan,   nan,   nan]],\n",
       "\n",
       "        [[  nan,   nan,   nan, ...,   nan,  1.61,  1.82],\n",
       "         [  nan,   nan,   nan, ...,   nan,  2.16,  1.88],\n",
       "         [  nan,   nan,   nan, ...,  1.09,  1.64,   nan],\n",
       "         ...,\n",
       "         [  nan,   nan,   nan, ...,   nan,   nan,   nan],\n",
       "         [  nan,   nan,   nan, ...,   nan,   nan,   nan],\n",
       "         [  nan,   nan,   nan, ...,   nan,   nan,   nan]],\n",
       "\n",
       "        [[  nan,   nan,   nan, ...,  9.78, 14.2 , 15.22],\n",
       "         [  nan,   nan,   nan, ...,  7.03, 11.27, 10.55],\n",
       "         [  nan,   nan,   nan, ...,  4.74,  5.88,   nan],\n",
       "         ...,\n",
       "         [  nan,   nan,   nan, ...,   nan,   nan,   nan],\n",
       "         [  nan,   nan,   nan, ...,   nan,   nan,   nan],\n",
       "         [  nan,   nan,   nan, ...,   nan,   nan,   nan]]],\n",
       "\n",
       "\n",
       "       [[[  nan,   nan,   nan, ...,   nan,   nan,   nan],\n",
       "         [  nan,   nan,   nan, ...,   nan,   nan,   nan],\n",
       "         [  nan,   nan,   nan, ...,   nan,   nan,   nan],\n",
       "         ...,\n",
       "         [  nan,   nan,   nan, ...,   nan,   nan,   nan],\n",
       "         [  nan,   nan,   nan, ...,   nan,   nan,   nan],\n",
       "         [  nan,   nan,   nan, ...,   nan,   nan,   nan]],\n",
       "\n",
       "        [[  nan,   nan,   nan, ...,   nan,   nan,   nan],\n",
       "         [  nan,   nan,   nan, ...,   nan,   nan,   nan],\n",
       "         [  nan,   nan,   nan, ...,   nan,   nan,   nan],\n",
       "         ...,\n",
       "         [  nan,   nan,   nan, ...,   nan,   nan,   nan],\n",
       "         [  nan,   nan,   nan, ...,   nan,   nan,   nan],\n",
       "         [  nan,   nan,   nan, ...,   nan,   nan,   nan]],\n",
       "\n",
       "        [[  nan,   nan,   nan, ...,   nan,   nan,   nan],\n",
       "         [  nan,   nan,   nan, ...,   nan,   nan,   nan],\n",
       "         [  nan,   nan,   nan, ...,   nan,   nan,   nan],\n",
       "         ...,\n",
       "         [  nan,   nan,   nan, ...,   nan,   nan,   nan],\n",
       "         [  nan,   nan,   nan, ...,   nan,   nan,   nan],\n",
       "         [  nan,   nan,   nan, ...,   nan,   nan,   nan]],\n",
       "\n",
       "        ...,\n",
       "\n",
       "        [[  nan,   nan,   nan, ...,   nan,   nan,   nan],\n",
       "         [  nan,   nan,   nan, ...,   nan,   nan,   nan],\n",
       "         [  nan,   nan,   nan, ...,   nan,   nan,   nan],\n",
       "         ...,\n",
       "         [  nan,   nan,   nan, ...,   nan,   nan,   nan],\n",
       "         [  nan,   nan,   nan, ...,   nan,   nan,   nan],\n",
       "         [  nan,   nan,   nan, ...,   nan,   nan,   nan]],\n",
       "\n",
       "        [[  nan,   nan,   nan, ...,   nan,   nan,   nan],\n",
       "         [  nan,   nan,   nan, ...,   nan,   nan,   nan],\n",
       "         [  nan,   nan,   nan, ...,   nan,   nan,   nan],\n",
       "         ...,\n",
       "         [  nan,   nan,   nan, ...,   nan,   nan,   nan],\n",
       "         [  nan,   nan,   nan, ...,   nan,   nan,   nan],\n",
       "         [  nan,   nan,   nan, ...,   nan,   nan,   nan]],\n",
       "\n",
       "        [[  nan,   nan,   nan, ...,   nan,   nan,   nan],\n",
       "         [  nan,   nan,   nan, ...,   nan,   nan,   nan],\n",
       "         [  nan,   nan,   nan, ...,   nan,   nan,   nan],\n",
       "         ...,\n",
       "         [  nan,   nan,   nan, ...,   nan,   nan,   nan],\n",
       "         [  nan,   nan,   nan, ...,   nan,   nan,   nan],\n",
       "         [  nan,   nan,   nan, ...,   nan,   nan,   nan]]],\n",
       "\n",
       "\n",
       "       [[[  nan,   nan,   nan, ...,   nan,   nan,   nan],\n",
       "         [  nan,   nan,   nan, ...,   nan,   nan,   nan],\n",
       "         [  nan,   nan,   nan, ...,   nan,   nan,   nan],\n",
       "         ...,\n",
       "         [  nan,   nan,   nan, ...,   nan,   nan,   nan],\n",
       "         [  nan,   nan,   nan, ...,   nan,   nan,   nan],\n",
       "         [  nan,   nan,   nan, ...,   nan,   nan,   nan]],\n",
       "\n",
       "        [[  nan,   nan,   nan, ...,   nan,   nan,   nan],\n",
       "         [  nan,   nan,   nan, ...,   nan,   nan,   nan],\n",
       "         [  nan,   nan,   nan, ...,   nan,   nan,   nan],\n",
       "         ...,\n",
       "         [  nan,   nan,   nan, ...,   nan,   nan,   nan],\n",
       "         [  nan,   nan,   nan, ...,   nan,   nan,   nan],\n",
       "         [  nan,   nan,   nan, ...,   nan,   nan,   nan]],\n",
       "\n",
       "        [[  nan,   nan,   nan, ...,   nan,   nan,   nan],\n",
       "         [  nan,   nan,   nan, ...,   nan,   nan,   nan],\n",
       "         [  nan,   nan,   nan, ...,   nan,   nan,   nan],\n",
       "         ...,\n",
       "         [  nan,   nan,   nan, ...,   nan,   nan,   nan],\n",
       "         [  nan,   nan,   nan, ...,   nan,   nan,   nan],\n",
       "         [  nan,   nan,   nan, ...,   nan,   nan,   nan]],\n",
       "\n",
       "        ...,\n",
       "\n",
       "        [[  nan,   nan,   nan, ...,  7.02,  9.92,  8.84],\n",
       "         [  nan,   nan,   nan, ...,  6.41,  7.68,  7.2 ],\n",
       "         [  nan,   nan,   nan, ...,  5.55,  5.26,   nan],\n",
       "         ...,\n",
       "         [  nan,   nan,   nan, ...,   nan,   nan,   nan],\n",
       "         [  nan,   nan,   nan, ...,   nan,   nan,   nan],\n",
       "         [  nan,   nan,   nan, ...,   nan,   nan,   nan]],\n",
       "\n",
       "        [[  nan,   nan,   nan, ..., 18.45, 24.75, 32.3 ],\n",
       "         [  nan,   nan,   nan, ..., 25.79, 39.59, 40.16],\n",
       "         [  nan,   nan,   nan, ..., 33.92, 37.14,   nan],\n",
       "         ...,\n",
       "         [  nan,   nan,   nan, ...,   nan,   nan,   nan],\n",
       "         [  nan,   nan,   nan, ...,   nan,   nan,   nan],\n",
       "         [  nan,   nan,   nan, ...,   nan,   nan,   nan]],\n",
       "\n",
       "        [[  nan,   nan,   nan, ...,   nan,   nan,   nan],\n",
       "         [  nan,   nan,   nan, ...,   nan,   nan,   nan],\n",
       "         [  nan,   nan,   nan, ...,   nan,   nan,   nan],\n",
       "         ...,\n",
       "         [  nan,   nan,   nan, ...,   nan,   nan,   nan],\n",
       "         [  nan,   nan,   nan, ...,   nan,   nan,   nan],\n",
       "         [  nan,   nan,   nan, ...,   nan,   nan,   nan]]]], dtype=float32)</pre></li></ul></div></li><li class='xr-section-item'><input id='section-e88cfce3-0313-4469-ac49-6daa0ebc2090' class='xr-section-summary-in' type='checkbox'  checked><label for='section-e88cfce3-0313-4469-ac49-6daa0ebc2090' class='xr-section-summary' >Attributes: <span>(2)</span></label><div class='xr-section-inline-details'></div><div class='xr-section-details'><dl class='xr-attrs'><dt><span>Information :</span></dt><dd>Only contains the wet season [10,11,12,1,2,3],rainfall &gt;= 1mm and the North of Australia</dd><dt><span>Time :</span></dt><dd>Only for the wet-season</dd></dl></div></li></ul></div></div>"
      ],
      "text/plain": [
       "<xarray.Dataset>\n",
       "Dimensions:   (ensemble: 11, lat: 49, lon: 149, time: 4159)\n",
       "Coordinates:\n",
       "  * lat       (lat) float32 -23.0 -22.75 -22.5 -22.25 ... -11.5 -11.25 -11.0\n",
       "  * lon       (lon) float32 113.75 114.0 114.25 114.5 ... 150.25 150.5 150.75\n",
       "  * time      (time) datetime64[ns] 1990-01-01 1990-01-02 ... 2012-12-31\n",
       "  * ensemble  (ensemble) int64 1 2 3 4 5 6 7 8 9 10 11\n",
       "Data variables:\n",
       "    precip    (ensemble, time, lat, lon) float32 nan nan nan nan ... nan nan nan\n",
       "Attributes:\n",
       "    Information:  Only contains the wet season [10,11,12,1,2,3],rainfall >= 1...\n",
       "    Time:         Only for the wet-season"
      ]
     },
     "execution_count": 6,
     "metadata": {},
     "output_type": "execute_result"
    }
   ],
   "source": [
    "access"
   ]
  },
  {
   "cell_type": "code",
   "execution_count": 28,
   "metadata": {
    "ExecuteTime": {
     "end_time": "2020-05-04T08:24:35.421225Z",
     "start_time": "2020-05-04T08:23:22.459376Z"
    }
   },
   "outputs": [],
   "source": [
    "q = 90\n",
    "\n",
    "# If q > 0, then awap will be the events above a certian percentile\n",
    "if q:\n",
    "    awap = scf.unsplit_find_events_above_q(awap, q)\n",
    "    \n",
    "    # Looping through ensemble\n",
    "    ex_stor = []\n",
    "    for ensemble in access.ensemble.values:  \n",
    "        # Selecting a single ensemble\n",
    "        access_single = access.sel(ensemble = ensemble)\n",
    "        # Getting extrreme events\n",
    "        access_90_single = scf.unsplit_find_events_above_q(access_single, q)\n",
    "        \n",
    "        ex_stor.append(access_90_single)\n",
    "    access = xr.concat(ex_stor, pd.Index(access.ensemble.values, name = 'ensemble'))\n",
    "    \n",
    "else:\n",
    "    q = 'all'"
   ]
  },
  {
   "cell_type": "markdown",
   "metadata": {},
   "source": [
    "# Calculations"
   ]
  },
  {
   "cell_type": "markdown",
   "metadata": {},
   "source": [
    "Splitting the normal events"
   ]
  },
  {
   "cell_type": "code",
   "execution_count": 29,
   "metadata": {
    "ExecuteTime": {
     "end_time": "2020-05-04T08:24:36.347664Z",
     "start_time": "2020-05-04T08:24:35.423452Z"
    }
   },
   "outputs": [],
   "source": [
    "subphase_calc = reload(subphase_calc)\n",
    "# Split AWAP into the subphases: enhanced, suppressed, transition and inactive.\n",
    "awap_split = subphase_calc.split_into_subphase(awap, rmm_obs)"
   ]
  },
  {
   "cell_type": "code",
   "execution_count": 30,
   "metadata": {
    "ExecuteTime": {
     "end_time": "2020-05-04T08:24:36.355278Z",
     "start_time": "2020-05-04T08:24:36.351435Z"
    }
   },
   "outputs": [],
   "source": [
    "import subphase_calc_functions as scf\n",
    "import access_anomalies"
   ]
  },
  {
   "cell_type": "code",
   "execution_count": 31,
   "metadata": {
    "ExecuteTime": {
     "end_time": "2020-05-04T08:24:38.919747Z",
     "start_time": "2020-05-04T08:24:36.357855Z"
    }
   },
   "outputs": [],
   "source": [
    "access_anomalies = reload(access_anomalies)\n",
    "import access_anomalies\n",
    "awap_mean, awap_anomaly = access_anomalies.mean_and_anomly_month_subphase(awap_split, awap)"
   ]
  },
  {
   "cell_type": "code",
   "execution_count": null,
   "metadata": {
    "ExecuteTime": {
     "start_time": "2020-05-04T08:23:26.135Z"
    }
   },
   "outputs": [],
   "source": [
    "sub2 = reload(sub2)\n",
    "af = reload(af)\n",
    "\n",
    "mean_stor = []\n",
    "anom_stor = []\n",
    "    \n",
    "# Looping through ensemble\n",
    "for ensemble in access.ensemble.values:\n",
    "    \n",
    "    # Selecting a single ensemble\n",
    "    access_single = access.sel(ensemble = ensemble)\n",
    "    rmm_single = rmm_access.sel(ensemble = ensemble)\n",
    "    \n",
    "    # Splitting the rainfall in to the 9 mjo phases\n",
    "    access_split = subphase_calc.split_into_subphase(access_single, rmm_single)\n",
    "    \n",
    "    # Calculating the index for a single ensemble\n",
    "    access_mean_norm_single, access_anomaly_norm_single = \\\n",
    "                access_anomalies.mean_and_anomly_month_subphase(access_split, access_single)\n",
    "    \n",
    "    \n",
    "    mean_stor.append(access_mean_norm_single)\n",
    "    \n",
    "    # For some reason the 11th ensebmle maintain the ensemble dimensin (???)\n",
    "#     if ensemble == 11:\n",
    "#         access_anomaly_norm_single = access_anomaly_norm_single.drop('ensemble')\n",
    "    \n",
    "    anom_stor.append(access_anomaly_norm_single)\n",
    "\n",
    "    \n",
    "    \n",
    "# Storing all the results in a xarray files.\n",
    "access_mean_total = xr.concat(mean_stor, dim = 'ensemble')\n",
    "access_anom_total = xr.concat(anom_stor, dim = 'ensemble')\n",
    "\n",
    "# Taking the mean across all ensembles\n",
    "\n",
    "access_mean_mean = access_mean_total.mean(dim = 'ensemble').compute()\n",
    "\n",
    "access_anom_mean = access_anom_total.mean(dim = 'ensemble').compute()"
   ]
  },
  {
   "cell_type": "markdown",
   "metadata": {},
   "source": [
    "# Plots"
   ]
  },
  {
   "cell_type": "code",
   "execution_count": null,
   "metadata": {
    "ExecuteTime": {
     "start_time": "2020-05-04T08:23:26.139Z"
    }
   },
   "outputs": [],
   "source": [
    "savedir = '../images/access/pattern_correlation/'"
   ]
  },
  {
   "cell_type": "markdown",
   "metadata": {},
   "source": [
    "## Map Plots"
   ]
  },
  {
   "cell_type": "markdown",
   "metadata": {
    "heading_collapsed": true
   },
   "source": [
    "### Climatology"
   ]
  },
  {
   "cell_type": "code",
   "execution_count": null,
   "metadata": {
    "ExecuteTime": {
     "start_time": "2020-05-04T08:23:26.143Z"
    },
    "hidden": true
   },
   "outputs": [],
   "source": [
    "apf = reload(apf) \n",
    "apf.comparison_plot(awap_count, access_count_mean, month = 1,\n",
    "                    plot_max = 90,  vmax = 2, add_white = 0,\n",
    "                    rain_type = 'Percent of Days as Rainday',\n",
    "                   cbar1_title = 'Percent of Days as Raindays', cbar2_title = 'ACCESS/AWAP Ratio',\n",
    "                    savedir = savedir, savefig = 0\n",
    "                  )"
   ]
  },
  {
   "cell_type": "code",
   "execution_count": null,
   "metadata": {
    "ExecuteTime": {
     "start_time": "2020-05-04T08:23:26.145Z"
    },
    "hidden": true
   },
   "outputs": [],
   "source": [
    "apf = reload(apf) \n",
    "\n",
    "for month in [10,11,12,1,2,3]:\n",
    "    apf.comparison_plot(awap_count, access_count_mean, month = month,\n",
    "                        plot_max = 90,  vmax = 2, add_white = 0,\n",
    "                        rain_type = 'Percent of Days as Rainday',\n",
    "                       cbar1_title = 'Percent of Days as Raindays', cbar2_title = 'ACCESS/AWAP Ratio',\n",
    "                        savedir = savedir, savefig = 1\n",
    "                      )"
   ]
  },
  {
   "cell_type": "markdown",
   "metadata": {},
   "source": [
    "### Anomaly"
   ]
  },
  {
   "cell_type": "code",
   "execution_count": null,
   "metadata": {
    "ExecuteTime": {
     "start_time": "2020-05-04T08:23:26.148Z"
    }
   },
   "outputs": [],
   "source": [
    "apf = reload(apf)\n",
    "month = 1\n",
    "apf.anomaly_plot_subphases(awap_anomaly,access_anom_mean , month = month\n",
    "                          ,vmax = 2.1, cbar_title = 'Enhanced/Reduced Probability Factor',\n",
    "                          savename = f'mean_{q}_{month}')"
   ]
  },
  {
   "cell_type": "code",
   "execution_count": null,
   "metadata": {
    "ExecuteTime": {
     "start_time": "2020-05-04T08:23:26.153Z"
    }
   },
   "outputs": [],
   "source": [
    "apf = reload(apf)\n",
    "\n",
    "for month in [10,11,12,1,2,3]:\n",
    "\n",
    "    apf.anomaly_plot_subphases(awap_anomaly,access_anom_mean , month = month\n",
    "                              ,vmax = 2.1, cbar_title = 'Enhanced/Reduced Probability Factor',\n",
    "                              savename = f'mean_{q}_{month}', savedir =  savedir)\n"
   ]
  },
  {
   "cell_type": "markdown",
   "metadata": {},
   "source": [
    "## Timeseries Correlations"
   ]
  },
  {
   "cell_type": "markdown",
   "metadata": {
    "heading_collapsed": true
   },
   "source": [
    "### Climatology"
   ]
  },
  {
   "cell_type": "code",
   "execution_count": null,
   "metadata": {
    "ExecuteTime": {
     "start_time": "2020-05-04T08:23:26.157Z"
    },
    "hidden": true
   },
   "outputs": [],
   "source": [
    "af = reload(af)\n",
    "pattern_correlation = af.month_pattern_correlations(awap_count, access_count_mean)"
   ]
  },
  {
   "cell_type": "code",
   "execution_count": null,
   "metadata": {
    "ExecuteTime": {
     "start_time": "2020-05-04T08:23:26.161Z"
    },
    "hidden": true
   },
   "outputs": [],
   "source": [
    "apf = reload(apf)\n",
    "\n",
    "title = 'Monthly Pattern Colleration\\nfor Percent of Days as Raindays'\n",
    "\n",
    "apf.timeseries_pattern_correlation_plot(pattern_correlation,title = title, custom = 0, savefig = 1, savedir = savedir)"
   ]
  },
  {
   "cell_type": "code",
   "execution_count": null,
   "metadata": {
    "ExecuteTime": {
     "start_time": "2020-05-04T08:23:26.164Z"
    },
    "hidden": true
   },
   "outputs": [],
   "source": [
    "af = reload(af)\n",
    "ensemble_raw_correlation = af. list_pattern_correlation(awap_count, count_stor)"
   ]
  },
  {
   "cell_type": "code",
   "execution_count": null,
   "metadata": {
    "ExecuteTime": {
     "start_time": "2020-05-04T08:23:26.169Z"
    },
    "hidden": true
   },
   "outputs": [],
   "source": [
    "afp2 = reload(afp2)\n",
    "\n",
    "\n",
    "title = 'All Ensmeble Monthly Pattern Colleration\\nfor Percent of Days as Raindays'\n",
    "afp2.stacked_patter_correlation_timeseries(ensemble_raw_correlation, title = title, savefig = 1, savedir = savedir)"
   ]
  },
  {
   "cell_type": "markdown",
   "metadata": {},
   "source": [
    "### Anomalies"
   ]
  },
  {
   "cell_type": "code",
   "execution_count": null,
   "metadata": {
    "ExecuteTime": {
     "start_time": "2020-05-04T08:23:26.171Z"
    }
   },
   "outputs": [],
   "source": [
    "af = reload(af)\n",
    "anomaly_patterns = af.month_pattern_correlations(awap_anomaly,access_anom_mean)"
   ]
  },
  {
   "cell_type": "code",
   "execution_count": null,
   "metadata": {
    "ExecuteTime": {
     "start_time": "2020-05-04T08:23:26.174Z"
    }
   },
   "outputs": [],
   "source": [
    "apf = reload(apf)\n",
    "\n",
    "savename = f'mean_{q}_monthly'\n",
    "\n",
    "apf.timeseries_pattern_correlation_plot(anomaly_patterns,\n",
    "                                        custom  = 0, \n",
    "                                        savename = savename, savedir = savedir)"
   ]
  },
  {
   "cell_type": "markdown",
   "metadata": {},
   "source": [
    "<br>\n",
    "Correlation of the raw count index with awap\n",
    "<br> <br>\n",
    "<br>\n"
   ]
  },
  {
   "cell_type": "code",
   "execution_count": null,
   "metadata": {
    "ExecuteTime": {
     "start_time": "2020-05-04T08:23:26.177Z"
    }
   },
   "outputs": [],
   "source": [
    "af = reload(af)\n",
    "ensemble_anom_correlation = af. list_pattern_correlation(awap_anomaly, anom_stor)"
   ]
  },
  {
   "cell_type": "code",
   "execution_count": null,
   "metadata": {
    "ExecuteTime": {
     "start_time": "2020-05-04T08:23:26.180Z"
    }
   },
   "outputs": [],
   "source": [
    "import access_plot_functions_2 as afp2"
   ]
  },
  {
   "cell_type": "code",
   "execution_count": null,
   "metadata": {
    "ExecuteTime": {
     "start_time": "2020-05-04T08:23:26.183Z"
    }
   },
   "outputs": [],
   "source": [
    "afp2 = reload(afp2)\n",
    "savename = f'mean_{q}_monthly_stacked'\n",
    "\n",
    "afp2.stacked_patter_correlation_timeseries(ensemble_anom_correlation, savename = savename,\n",
    "                                        savedir = savedir)"
   ]
  },
  {
   "cell_type": "markdown",
   "metadata": {},
   "source": [
    "### Heatmaps"
   ]
  },
  {
   "cell_type": "code",
   "execution_count": null,
   "metadata": {
    "ExecuteTime": {
     "start_time": "2020-05-04T08:23:26.185Z"
    }
   },
   "outputs": [],
   "source": [
    "import access_heatmaps_corr as heat_corr"
   ]
  },
  {
   "cell_type": "code",
   "execution_count": null,
   "metadata": {
    "ExecuteTime": {
     "start_time": "2020-05-04T08:23:26.189Z"
    }
   },
   "outputs": [],
   "source": [
    "heat_corr = reload(heat_corr)\n",
    "\n",
    "count_pcorr_all_state = heat_corr.pattern_corr_state(awap_anomaly,access_anom_mean)"
   ]
  },
  {
   "cell_type": "code",
   "execution_count": null,
   "metadata": {
    "ExecuteTime": {
     "start_time": "2020-05-04T08:23:26.192Z"
    }
   },
   "outputs": [],
   "source": [
    "heat_corr = reload(heat_corr)\n",
    "heat_corr.corr_heatmap_state_group(count_pcorr_all_state.correlation.transpose(), month_reverse = 0\n",
    "                 , vmax = 0.7,step = 0.1, add_white = 1,\n",
    "                 savename = f'mean_{q}_state_heat'\n",
    "                                   , savedir = savedir)"
   ]
  },
  {
   "cell_type": "code",
   "execution_count": null,
   "metadata": {
    "ExecuteTime": {
     "start_time": "2020-05-04T08:23:26.196Z"
    }
   },
   "outputs": [],
   "source": [
    "heat_corr = reload(heat_corr)\n",
    "heat_corr.corr_heatmap_phase_group(count_pcorr_all_state.correlation.transpose(), month_reverse = 0\n",
    "                 , vmax = 0.7,step = 0.1, add_white = 1,\n",
    "                 savename = f'mean_{q}_phase_heat'\n",
    "                                   , savedir = savedir)"
   ]
  }
 ],
 "metadata": {
  "kernelspec": {
   "display_name": "Python 3",
   "language": "python",
   "name": "python3"
  },
  "language_info": {
   "codemirror_mode": {
    "name": "ipython",
    "version": 3
   },
   "file_extension": ".py",
   "mimetype": "text/x-python",
   "name": "python",
   "nbconvert_exporter": "python",
   "pygments_lexer": "ipython3",
   "version": "3.7.6"
  }
 },
 "nbformat": 4,
 "nbformat_minor": 2
}
