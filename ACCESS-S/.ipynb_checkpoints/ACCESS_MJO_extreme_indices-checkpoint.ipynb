{
 "cells": [
  {
   "cell_type": "markdown",
   "metadata": {},
   "source": [
    "# Preamble"
   ]
  },
  {
   "cell_type": "code",
   "execution_count": 1,
   "metadata": {
    "ExecuteTime": {
     "end_time": "2020-02-12T00:50:56.699770Z",
     "start_time": "2020-02-12T00:50:49.262983Z"
    }
   },
   "outputs": [],
   "source": [
    "import xarray as xr\n",
    "import numpy as np\n",
    "import pandas as pd\n",
    "import matplotlib.pyplot as plt\n",
    "import dask.array\n",
    "import cartopy.crs as ccrs\n",
    "import pickle\n",
    "import matplotlib.colors as colors\n",
    "import datetime as dt\n",
    "import pickle\n",
    "from matplotlib.colors import BoundaryNorm\n",
    "import glob\n",
    "import pdb\n",
    "import matplotlib.gridspec as gridspec\n",
    "import warnings\n",
    "warnings.filterwarnings('ignore')\n",
    "\n",
    "import calendar\n",
    "import sys\n",
    "sys.path.append('/home/563/ab2313/MJO/functions')\n",
    "import access_functions as af\n",
    "import subphase_calc_functions as subphase_calc\n",
    "import access_plot_functions as apf\n",
    "\n",
    "from importlib import reload"
   ]
  },
  {
   "cell_type": "markdown",
   "metadata": {},
   "source": [
    "# Proccessing"
   ]
  },
  {
   "cell_type": "markdown",
   "metadata": {},
   "source": [
    "## Reading in files"
   ]
  },
  {
   "cell_type": "code",
   "execution_count": 2,
   "metadata": {
    "ExecuteTime": {
     "end_time": "2020-02-12T00:50:57.317534Z",
     "start_time": "2020-02-12T00:50:56.704420Z"
    }
   },
   "outputs": [
    {
     "data": {
      "text/html": [
       "<pre>&lt;xarray.Dataset&gt;\n",
       "Dimensions:    (time: 8334)\n",
       "Coordinates:\n",
       "  * time       (time) datetime64[ns] 1974-10-01 1974-10-02 ... 2020-02-10\n",
       "Data variables:\n",
       "    RMM1       (time) float64 0.5789 0.7589 0.8966 0.6736 ... 1.621 1.683 1.383\n",
       "    RMM2       (time) float64 -0.9097 -0.9504 -0.5804 ... 0.0425 0.4262 0.6615\n",
       "    phase      (time) float64 3.0 3.0 4.0 4.0 4.0 5.0 ... 4.0 4.0 5.0 5.0 5.0\n",
       "    amplitude  (time) float64 1.078 1.216 1.068 0.7765 ... 1.622 1.736 1.533\n",
       "Attributes:\n",
       "    Months:   Values are only for the wet-season [10,11,12,1,2,3]</pre>"
      ],
      "text/plain": [
       "<xarray.Dataset>\n",
       "Dimensions:    (time: 8334)\n",
       "Coordinates:\n",
       "  * time       (time) datetime64[ns] 1974-10-01 1974-10-02 ... 2020-02-10\n",
       "Data variables:\n",
       "    RMM1       (time) float64 0.5789 0.7589 0.8966 0.6736 ... 1.621 1.683 1.383\n",
       "    RMM2       (time) float64 -0.9097 -0.9504 -0.5804 ... 0.0425 0.4262 0.6615\n",
       "    phase      (time) float64 3.0 3.0 4.0 4.0 4.0 5.0 ... 4.0 4.0 5.0 5.0 5.0\n",
       "    amplitude  (time) float64 1.078 1.216 1.068 0.7765 ... 1.622 1.736 1.533\n",
       "Attributes:\n",
       "    Months:   Values are only for the wet-season [10,11,12,1,2,3]"
      ]
     },
     "execution_count": 2,
     "metadata": {},
     "output_type": "execute_result"
    }
   ],
   "source": [
    "# This is the observed rmm\n",
    "subphase_calc = reload(subphase_calc)\n",
    "rmm_obs = subphase_calc.load_rmm()\n",
    "rmm_obs"
   ]
  },
  {
   "cell_type": "code",
   "execution_count": 3,
   "metadata": {
    "ExecuteTime": {
     "end_time": "2020-02-12T00:50:57.411653Z",
     "start_time": "2020-02-12T00:50:57.323680Z"
    }
   },
   "outputs": [
    {
     "data": {
      "text/html": [
       "<pre>&lt;xarray.Dataset&gt;\n",
       "Dimensions:    (ensemble: 11, time: 4192)\n",
       "Coordinates:\n",
       "  * ensemble   (ensemble) int64 1 2 3 4 5 6 7 8 9 10 11\n",
       "  * time       (time) datetime64[ns] 1990-01-01 1990-01-02 ... 2012-12-31\n",
       "Data variables:\n",
       "    phase      (ensemble, time) float32 3.0 3.0 3.0 3.0 3.0 ... 7.0 7.0 7.0 7.0\n",
       "    amplitude  (ensemble, time) float32 1.9151419 1.9850118 ... 1.3954009\n",
       "Attributes:\n",
       "    Info:     this is the 3rd version with atan2(rmm2, rmm2) (with no + 180)</pre>"
      ],
      "text/plain": [
       "<xarray.Dataset>\n",
       "Dimensions:    (ensemble: 11, time: 4192)\n",
       "Coordinates:\n",
       "  * ensemble   (ensemble) int64 1 2 3 4 5 6 7 8 9 10 11\n",
       "  * time       (time) datetime64[ns] 1990-01-01 1990-01-02 ... 2012-12-31\n",
       "Data variables:\n",
       "    phase      (ensemble, time) float32 3.0 3.0 3.0 3.0 3.0 ... 7.0 7.0 7.0 7.0\n",
       "    amplitude  (ensemble, time) float32 1.9151419 1.9850118 ... 1.3954009\n",
       "Attributes:\n",
       "    Info:     this is the 3rd version with atan2(rmm2, rmm2) (with no + 180)"
      ]
     },
     "execution_count": 3,
     "metadata": {},
     "output_type": "execute_result"
    }
   ],
   "source": [
    "af = reload(af)\n",
    "rmm_access = af.load_rmm_access()\n",
    "rmm_access"
   ]
  },
  {
   "cell_type": "code",
   "execution_count": 4,
   "metadata": {
    "ExecuteTime": {
     "end_time": "2020-02-12T00:51:52.764973Z",
     "start_time": "2020-02-12T00:50:57.414613Z"
    }
   },
   "outputs": [],
   "source": [
    "af = reload(af)\n",
    "awap = af.load_awap()"
   ]
  },
  {
   "cell_type": "code",
   "execution_count": 5,
   "metadata": {
    "ExecuteTime": {
     "end_time": "2020-02-12T00:51:52.786104Z",
     "start_time": "2020-02-12T00:51:52.767259Z"
    }
   },
   "outputs": [
    {
     "data": {
      "text/html": [
       "<pre>&lt;xarray.Dataset&gt;\n",
       "Dimensions:  (lat: 49, lon: 149, time: 19280)\n",
       "Coordinates:\n",
       "  * lon      (lon) float64 113.8 114.0 114.2 114.5 ... 150.0 150.2 150.5 150.8\n",
       "  * lat      (lat) float64 -23.0 -22.75 -22.5 -22.25 ... -11.5 -11.25 -11.0\n",
       "  * time     (time) datetime64[ns] 1911-01-01 1911-01-02 ... 2017-12-31\n",
       "Data variables:\n",
       "    precip   (time, lat, lon) float32 nan 2.7694564 4.730564 ... nan nan nan\n",
       "Attributes:\n",
       "    Information:  Only contains the wet season [10,11,12,1,2,3],rainfall &gt;= 1...</pre>"
      ],
      "text/plain": [
       "<xarray.Dataset>\n",
       "Dimensions:  (lat: 49, lon: 149, time: 19280)\n",
       "Coordinates:\n",
       "  * lon      (lon) float64 113.8 114.0 114.2 114.5 ... 150.0 150.2 150.5 150.8\n",
       "  * lat      (lat) float64 -23.0 -22.75 -22.5 -22.25 ... -11.5 -11.25 -11.0\n",
       "  * time     (time) datetime64[ns] 1911-01-01 1911-01-02 ... 2017-12-31\n",
       "Data variables:\n",
       "    precip   (time, lat, lon) float32 nan 2.7694564 4.730564 ... nan nan nan\n",
       "Attributes:\n",
       "    Information:  Only contains the wet season [10,11,12,1,2,3],rainfall >= 1..."
      ]
     },
     "execution_count": 5,
     "metadata": {},
     "output_type": "execute_result"
    }
   ],
   "source": [
    "awap"
   ]
  },
  {
   "cell_type": "code",
   "execution_count": 6,
   "metadata": {
    "ExecuteTime": {
     "end_time": "2020-02-12T00:51:52.789865Z",
     "start_time": "2020-02-12T00:51:52.787608Z"
    }
   },
   "outputs": [],
   "source": [
    "# # This version of AWAP is just for the north, wet-season and for raindays\n",
    "# awap_dir = '/g/data/w40/ab2313/awap_n2.nc'\n",
    "# awap = xr.open_dataset(awap_dir)\n",
    "# awap"
   ]
  },
  {
   "cell_type": "code",
   "execution_count": 7,
   "metadata": {
    "ExecuteTime": {
     "end_time": "2020-02-12T00:53:35.534368Z",
     "start_time": "2020-02-12T00:51:52.791256Z"
    }
   },
   "outputs": [],
   "source": [
    "af = reload(af)\n",
    "access_directory = '/g/data/w40/ab2313/ACCESS_S_1ST_1M_ensembles/'\n",
    "access = af.load_access(access_directory)"
   ]
  },
  {
   "cell_type": "code",
   "execution_count": 8,
   "metadata": {
    "ExecuteTime": {
     "end_time": "2020-02-12T00:53:35.559120Z",
     "start_time": "2020-02-12T00:53:35.537862Z"
    }
   },
   "outputs": [
    {
     "data": {
      "text/html": [
       "<pre>&lt;xarray.Dataset&gt;\n",
       "Dimensions:   (ensemble: 11, lat: 49, lon: 149, time: 8362)\n",
       "Coordinates:\n",
       "  * lon       (lon) float32 113.75 114.0 114.25 114.5 ... 150.25 150.5 150.75\n",
       "  * time      (time) datetime64[ns] 1990-01-01 1990-01-02 ... 2012-12-31\n",
       "  * lat       (lat) float32 -23.0 -22.75 -22.5 -22.25 ... -11.5 -11.25 -11.0\n",
       "  * ensemble  (ensemble) int64 1 2 3 4 5 6 7 8 9 10 11\n",
       "Data variables:\n",
       "    precip    (ensemble, time, lat, lon) float32 nan nan nan nan ... nan nan nan\n",
       "Attributes:\n",
       "    Information:  Only contains the wet season [10,11,12,1,2,3],rainfall &gt;= 1...\n",
       "    Time:         Only for the wet-season</pre>"
      ],
      "text/plain": [
       "<xarray.Dataset>\n",
       "Dimensions:   (ensemble: 11, lat: 49, lon: 149, time: 8362)\n",
       "Coordinates:\n",
       "  * lon       (lon) float32 113.75 114.0 114.25 114.5 ... 150.25 150.5 150.75\n",
       "  * time      (time) datetime64[ns] 1990-01-01 1990-01-02 ... 2012-12-31\n",
       "  * lat       (lat) float32 -23.0 -22.75 -22.5 -22.25 ... -11.5 -11.25 -11.0\n",
       "  * ensemble  (ensemble) int64 1 2 3 4 5 6 7 8 9 10 11\n",
       "Data variables:\n",
       "    precip    (ensemble, time, lat, lon) float32 nan nan nan nan ... nan nan nan\n",
       "Attributes:\n",
       "    Information:  Only contains the wet season [10,11,12,1,2,3],rainfall >= 1...\n",
       "    Time:         Only for the wet-season"
      ]
     },
     "execution_count": 8,
     "metadata": {},
     "output_type": "execute_result"
    }
   ],
   "source": [
    "access"
   ]
  },
  {
   "cell_type": "markdown",
   "metadata": {},
   "source": [
    "<font size = \"+1\" color = 'green'> Matching the Time Length of Both Datasets </font>"
   ]
  },
  {
   "cell_type": "code",
   "execution_count": 9,
   "metadata": {
    "ExecuteTime": {
     "end_time": "2020-02-12T00:53:38.231108Z",
     "start_time": "2020-02-12T00:53:35.561049Z"
    }
   },
   "outputs": [],
   "source": [
    "'''First, both of the files must be of the same length'''\n",
    "\n",
    "# Matching the two\n",
    "awap = awap.where(awap.time.isin(access.time.values), drop = True)\n",
    "\n",
    "access = access.where(access.time.isin(awap.time.values), drop = True)"
   ]
  },
  {
   "cell_type": "code",
   "execution_count": 10,
   "metadata": {
    "ExecuteTime": {
     "end_time": "2020-02-12T00:53:38.248906Z",
     "start_time": "2020-02-12T00:53:38.233735Z"
    }
   },
   "outputs": [],
   "source": [
    "rmm_access = rmm_access.where(rmm_access.time.isin(access.time.values), drop = True)\n",
    "rmm_obs = rmm_obs.where(rmm_obs.time.isin(access.time.values), drop = True)"
   ]
  },
  {
   "cell_type": "code",
   "execution_count": 11,
   "metadata": {
    "ExecuteTime": {
     "end_time": "2020-02-12T00:53:38.259032Z",
     "start_time": "2020-02-12T00:53:38.250732Z"
    }
   },
   "outputs": [
    {
     "data": {
      "text/plain": [
       "(4159, 4159)"
      ]
     },
     "execution_count": 11,
     "metadata": {},
     "output_type": "execute_result"
    }
   ],
   "source": [
    "len(rmm_obs.time.values), len(rmm_access.time.values)"
   ]
  },
  {
   "cell_type": "code",
   "execution_count": 12,
   "metadata": {
    "ExecuteTime": {
     "end_time": "2020-02-12T00:53:38.267901Z",
     "start_time": "2020-02-12T00:53:38.261506Z"
    }
   },
   "outputs": [
    {
     "data": {
      "text/plain": [
       "(4159, 4159)"
      ]
     },
     "execution_count": 12,
     "metadata": {},
     "output_type": "execute_result"
    }
   ],
   "source": [
    "len(access.time.values), len(awap.time.values)"
   ]
  },
  {
   "cell_type": "code",
   "execution_count": 13,
   "metadata": {
    "ExecuteTime": {
     "end_time": "2020-02-12T00:53:38.301815Z",
     "start_time": "2020-02-12T00:53:38.269281Z"
    }
   },
   "outputs": [
    {
     "data": {
      "text/html": [
       "<pre>&lt;xarray.Dataset&gt;\n",
       "Dimensions:   (ensemble: 11, lat: 49, lon: 149, time: 4159)\n",
       "Coordinates:\n",
       "  * lon       (lon) float32 113.75 114.0 114.25 114.5 ... 150.25 150.5 150.75\n",
       "  * time      (time) datetime64[ns] 1990-01-01 1990-01-02 ... 2012-12-31\n",
       "  * lat       (lat) float32 -23.0 -22.75 -22.5 -22.25 ... -11.5 -11.25 -11.0\n",
       "  * ensemble  (ensemble) int64 1 2 3 4 5 6 7 8 9 10 11\n",
       "Data variables:\n",
       "    precip    (ensemble, time, lat, lon) float32 nan nan nan nan ... nan nan nan\n",
       "Attributes:\n",
       "    Information:  Only contains the wet season [10,11,12,1,2,3],rainfall &gt;= 1...\n",
       "    Time:         Only for the wet-season</pre>"
      ],
      "text/plain": [
       "<xarray.Dataset>\n",
       "Dimensions:   (ensemble: 11, lat: 49, lon: 149, time: 4159)\n",
       "Coordinates:\n",
       "  * lon       (lon) float32 113.75 114.0 114.25 114.5 ... 150.25 150.5 150.75\n",
       "  * time      (time) datetime64[ns] 1990-01-01 1990-01-02 ... 2012-12-31\n",
       "  * lat       (lat) float32 -23.0 -22.75 -22.5 -22.25 ... -11.5 -11.25 -11.0\n",
       "  * ensemble  (ensemble) int64 1 2 3 4 5 6 7 8 9 10 11\n",
       "Data variables:\n",
       "    precip    (ensemble, time, lat, lon) float32 nan nan nan nan ... nan nan nan\n",
       "Attributes:\n",
       "    Information:  Only contains the wet season [10,11,12,1,2,3],rainfall >= 1...\n",
       "    Time:         Only for the wet-season"
      ]
     },
     "execution_count": 13,
     "metadata": {},
     "output_type": "execute_result"
    }
   ],
   "source": [
    "access"
   ]
  },
  {
   "cell_type": "code",
   "execution_count": 14,
   "metadata": {
    "ExecuteTime": {
     "end_time": "2020-02-12T00:53:38.321628Z",
     "start_time": "2020-02-12T00:53:38.303186Z"
    }
   },
   "outputs": [
    {
     "data": {
      "text/html": [
       "<pre>&lt;xarray.Dataset&gt;\n",
       "Dimensions:  (lat: 49, lon: 149, time: 4159)\n",
       "Coordinates:\n",
       "  * lon      (lon) float64 113.8 114.0 114.2 114.5 ... 150.0 150.2 150.5 150.8\n",
       "  * lat      (lat) float64 -23.0 -22.75 -22.5 -22.25 ... -11.5 -11.25 -11.0\n",
       "  * time     (time) datetime64[ns] 1990-01-01 1990-01-02 ... 2012-12-31\n",
       "Data variables:\n",
       "    precip   (time, lat, lon) float32 nan nan nan nan nan ... nan nan nan nan\n",
       "Attributes:\n",
       "    Information:  Only contains the wet season [10,11,12,1,2,3],rainfall &gt;= 1...</pre>"
      ],
      "text/plain": [
       "<xarray.Dataset>\n",
       "Dimensions:  (lat: 49, lon: 149, time: 4159)\n",
       "Coordinates:\n",
       "  * lon      (lon) float64 113.8 114.0 114.2 114.5 ... 150.0 150.2 150.5 150.8\n",
       "  * lat      (lat) float64 -23.0 -22.75 -22.5 -22.25 ... -11.5 -11.25 -11.0\n",
       "  * time     (time) datetime64[ns] 1990-01-01 1990-01-02 ... 2012-12-31\n",
       "Data variables:\n",
       "    precip   (time, lat, lon) float32 nan nan nan nan nan ... nan nan nan nan\n",
       "Attributes:\n",
       "    Information:  Only contains the wet season [10,11,12,1,2,3],rainfall >= 1..."
      ]
     },
     "execution_count": 14,
     "metadata": {},
     "output_type": "execute_result"
    }
   ],
   "source": [
    "awap"
   ]
  },
  {
   "cell_type": "markdown",
   "metadata": {},
   "source": [
    "# Calculation\n",
    "\n",
    "Splitting the data into the different phases of the MJO"
   ]
  },
  {
   "cell_type": "markdown",
   "metadata": {},
   "source": [
    "## Splitting"
   ]
  },
  {
   "cell_type": "markdown",
   "metadata": {},
   "source": [
    "<div class=\"alert alert-block alert-info\"> <font color = 'black'> Splitting AWAP </font></div>"
   ]
  },
  {
   "cell_type": "code",
   "execution_count": 15,
   "metadata": {
    "ExecuteTime": {
     "end_time": "2020-02-12T00:53:39.395741Z",
     "start_time": "2020-02-12T00:53:38.323742Z"
    }
   },
   "outputs": [],
   "source": [
    "subphase_calc = reload(subphase_calc)\n",
    "# Split AWAP into the subphases: enhanced, suppressed, transition and inactive.\n",
    "awap_split = subphase_calc.split_into_subphase(awap, rmm_obs)"
   ]
  },
  {
   "cell_type": "code",
   "execution_count": 16,
   "metadata": {
    "ExecuteTime": {
     "end_time": "2020-02-12T00:53:39.419756Z",
     "start_time": "2020-02-12T00:53:39.397937Z"
    }
   },
   "outputs": [
    {
     "data": {
      "text/html": [
       "<pre>&lt;xarray.Dataset&gt;\n",
       "Dimensions:  (lat: 49, lon: 149, phase: 4, time: 4159)\n",
       "Coordinates:\n",
       "  * lat      (lat) float64 -23.0 -22.75 -22.5 -22.25 ... -11.5 -11.25 -11.0\n",
       "  * time     (time) datetime64[ns] 1990-01-01 1990-01-02 ... 2012-12-31\n",
       "  * lon      (lon) float64 113.8 114.0 114.2 114.5 ... 150.0 150.2 150.5 150.8\n",
       "  * phase    (phase) object &#x27;enhanced&#x27; &#x27;suppressed&#x27; &#x27;transition&#x27; &#x27;inactive&#x27;\n",
       "Data variables:\n",
       "    precip   (phase, time, lat, lon) float32 nan nan nan nan ... nan nan nan nan\n",
       "Attributes:\n",
       "    Information:  Only contains the wet season [10,11,12,1,2,3],rainfall &gt;= 1...</pre>"
      ],
      "text/plain": [
       "<xarray.Dataset>\n",
       "Dimensions:  (lat: 49, lon: 149, phase: 4, time: 4159)\n",
       "Coordinates:\n",
       "  * lat      (lat) float64 -23.0 -22.75 -22.5 -22.25 ... -11.5 -11.25 -11.0\n",
       "  * time     (time) datetime64[ns] 1990-01-01 1990-01-02 ... 2012-12-31\n",
       "  * lon      (lon) float64 113.8 114.0 114.2 114.5 ... 150.0 150.2 150.5 150.8\n",
       "  * phase    (phase) object 'enhanced' 'suppressed' 'transition' 'inactive'\n",
       "Data variables:\n",
       "    precip   (phase, time, lat, lon) float32 nan nan nan nan ... nan nan nan nan\n",
       "Attributes:\n",
       "    Information:  Only contains the wet season [10,11,12,1,2,3],rainfall >= 1..."
      ]
     },
     "execution_count": 16,
     "metadata": {},
     "output_type": "execute_result"
    }
   ],
   "source": [
    "awap_split"
   ]
  },
  {
   "cell_type": "markdown",
   "metadata": {},
   "source": [
    "<div class=\"alert alert-block alert-info\"> <font color = 'black'> Splitting ACCESS </font></div>"
   ]
  },
  {
   "cell_type": "code",
   "execution_count": 17,
   "metadata": {
    "ExecuteTime": {
     "end_time": "2020-02-12T00:54:17.375574Z",
     "start_time": "2020-02-12T00:53:39.421118Z"
    }
   },
   "outputs": [
    {
     "name": "stdout",
     "output_type": "stream",
     "text": [
      "1 2 3 4 5 6 7 8 9 10 11 "
     ]
    }
   ],
   "source": [
    "af = reload(af)\n",
    "access_split = af.access_rmm_split(access,rmm_access)"
   ]
  },
  {
   "cell_type": "code",
   "execution_count": 18,
   "metadata": {
    "ExecuteTime": {
     "end_time": "2020-02-12T00:54:17.412867Z",
     "start_time": "2020-02-12T00:54:17.378238Z"
    }
   },
   "outputs": [
    {
     "data": {
      "text/html": [
       "<pre>&lt;xarray.Dataset&gt;\n",
       "Dimensions:   (ensemble: 11, lat: 49, lon: 149, phase: 4, time: 4159)\n",
       "Coordinates:\n",
       "  * lat       (lat) float32 -23.0 -22.75 -22.5 -22.25 ... -11.5 -11.25 -11.0\n",
       "  * phase     (phase) object &#x27;enhanced&#x27; &#x27;suppressed&#x27; &#x27;transition&#x27; &#x27;inactive&#x27;\n",
       "  * time      (time) datetime64[ns] 1990-01-01 1990-01-02 ... 2012-12-31\n",
       "  * lon       (lon) float32 113.75 114.0 114.25 114.5 ... 150.25 150.5 150.75\n",
       "  * ensemble  (ensemble) int64 1 2 3 4 5 6 7 8 9 10 11\n",
       "Data variables:\n",
       "    precip    (ensemble, phase, time, lat, lon) float32 nan nan nan ... nan nan\n",
       "Attributes:\n",
       "    Information:  Only contains the wet season [10,11,12,1,2,3],rainfall &gt;= 1...\n",
       "    Time:         Only for the wet-season</pre>"
      ],
      "text/plain": [
       "<xarray.Dataset>\n",
       "Dimensions:   (ensemble: 11, lat: 49, lon: 149, phase: 4, time: 4159)\n",
       "Coordinates:\n",
       "  * lat       (lat) float32 -23.0 -22.75 -22.5 -22.25 ... -11.5 -11.25 -11.0\n",
       "  * phase     (phase) object 'enhanced' 'suppressed' 'transition' 'inactive'\n",
       "  * time      (time) datetime64[ns] 1990-01-01 1990-01-02 ... 2012-12-31\n",
       "  * lon       (lon) float32 113.75 114.0 114.25 114.5 ... 150.25 150.5 150.75\n",
       "  * ensemble  (ensemble) int64 1 2 3 4 5 6 7 8 9 10 11\n",
       "Data variables:\n",
       "    precip    (ensemble, phase, time, lat, lon) float32 nan nan nan ... nan nan\n",
       "Attributes:\n",
       "    Information:  Only contains the wet season [10,11,12,1,2,3],rainfall >= 1...\n",
       "    Time:         Only for the wet-season"
      ]
     },
     "execution_count": 18,
     "metadata": {},
     "output_type": "execute_result"
    }
   ],
   "source": [
    "access_split"
   ]
  },
  {
   "cell_type": "markdown",
   "metadata": {},
   "source": [
    "## Extremes"
   ]
  },
  {
   "cell_type": "markdown",
   "metadata": {
    "ExecuteTime": {
     "end_time": "2020-01-23T04:03:11.731979Z",
     "start_time": "2020-01-23T04:03:11.722036Z"
    }
   },
   "source": [
    "<div class=\"alert alert-block alert-info\"> <center> <font color = 'black' size = \"+1.5\"> AWAP </font></center></div>\n"
   ]
  },
  {
   "cell_type": "code",
   "execution_count": 19,
   "metadata": {
    "ExecuteTime": {
     "end_time": "2020-02-12T00:54:24.037441Z",
     "start_time": "2020-02-12T00:54:17.414828Z"
    }
   },
   "outputs": [],
   "source": [
    "awap_extreme_90 = subphase_calc.unsplit_find_events_above_q(awap, 90)"
   ]
  },
  {
   "cell_type": "code",
   "execution_count": 20,
   "metadata": {
    "ExecuteTime": {
     "end_time": "2020-02-12T00:54:24.961405Z",
     "start_time": "2020-02-12T00:54:24.039049Z"
    }
   },
   "outputs": [],
   "source": [
    "subphase_calc = reload(subphase_calc)\n",
    "# Split AWAP into the subphases: enhanced, suppressed, transition and inactive.\n",
    "awap_split_extreme_90 = subphase_calc.split_into_subphase(awap_extreme_90, rmm_obs)"
   ]
  },
  {
   "cell_type": "code",
   "execution_count": 21,
   "metadata": {
    "ExecuteTime": {
     "end_time": "2020-02-12T00:54:24.986831Z",
     "start_time": "2020-02-12T00:54:24.964083Z"
    }
   },
   "outputs": [
    {
     "data": {
      "text/html": [
       "<pre>&lt;xarray.Dataset&gt;\n",
       "Dimensions:  (lat: 49, lon: 149, phase: 4, time: 3386)\n",
       "Coordinates:\n",
       "  * lat      (lat) float64 -23.0 -22.75 -22.5 -22.25 ... -11.5 -11.25 -11.0\n",
       "  * time     (time) datetime64[ns] 1990-01-02 1990-01-04 ... 2012-12-31\n",
       "  * lon      (lon) float64 113.8 114.0 114.2 114.5 ... 150.0 150.2 150.5 150.8\n",
       "  * phase    (phase) object &#x27;enhanced&#x27; &#x27;suppressed&#x27; &#x27;transition&#x27; &#x27;inactive&#x27;\n",
       "Data variables:\n",
       "    precip   (phase, time, lat, lon) float32 nan nan nan nan ... nan nan nan nan\n",
       "Attributes:\n",
       "    Information:  Only contains the wet season [10,11,12,1,2,3],rainfall &gt;= 1...</pre>"
      ],
      "text/plain": [
       "<xarray.Dataset>\n",
       "Dimensions:  (lat: 49, lon: 149, phase: 4, time: 3386)\n",
       "Coordinates:\n",
       "  * lat      (lat) float64 -23.0 -22.75 -22.5 -22.25 ... -11.5 -11.25 -11.0\n",
       "  * time     (time) datetime64[ns] 1990-01-02 1990-01-04 ... 2012-12-31\n",
       "  * lon      (lon) float64 113.8 114.0 114.2 114.5 ... 150.0 150.2 150.5 150.8\n",
       "  * phase    (phase) object 'enhanced' 'suppressed' 'transition' 'inactive'\n",
       "Data variables:\n",
       "    precip   (phase, time, lat, lon) float32 nan nan nan nan ... nan nan nan nan\n",
       "Attributes:\n",
       "    Information:  Only contains the wet season [10,11,12,1,2,3],rainfall >= 1..."
      ]
     },
     "execution_count": 21,
     "metadata": {},
     "output_type": "execute_result"
    }
   ],
   "source": [
    "awap_split_extreme_90"
   ]
  },
  {
   "cell_type": "markdown",
   "metadata": {
    "ExecuteTime": {
     "end_time": "2020-01-23T04:03:11.731979Z",
     "start_time": "2020-01-23T04:03:11.722036Z"
    }
   },
   "source": [
    "<div class=\"alert alert-block alert-info\"> <center> <font color = 'black' size = \"+1.5\"> ACCESS </font></center></div>\n"
   ]
  },
  {
   "cell_type": "code",
   "execution_count": 22,
   "metadata": {
    "ExecuteTime": {
     "end_time": "2020-02-12T00:55:41.177283Z",
     "start_time": "2020-02-12T00:54:24.988444Z"
    }
   },
   "outputs": [],
   "source": [
    "af = reload(af)\n",
    "access_extreme_90 = af.return_access_extremes(access, 90)"
   ]
  },
  {
   "cell_type": "code",
   "execution_count": 23,
   "metadata": {
    "ExecuteTime": {
     "end_time": "2020-02-12T00:56:11.234039Z",
     "start_time": "2020-02-12T00:55:41.183749Z"
    }
   },
   "outputs": [
    {
     "name": "stdout",
     "output_type": "stream",
     "text": [
      "1 2 3 4 5 6 7 8 9 10 11 "
     ]
    },
    {
     "ename": "MemoryError",
     "evalue": "Unable to allocate array with shape (11, 4, 4066, 49, 149) and data type float32",
     "output_type": "error",
     "traceback": [
      "\u001b[0;31m---------------------------------------------------------------------------\u001b[0m",
      "\u001b[0;31mMemoryError\u001b[0m                               Traceback (most recent call last)",
      "\u001b[0;32m<ipython-input-23-0bb7bdb08fa6>\u001b[0m in \u001b[0;36m<module>\u001b[0;34m\u001b[0m\n\u001b[0;32m----> 1\u001b[0;31m \u001b[0maccess_split_extreme_90\u001b[0m \u001b[0;34m=\u001b[0m \u001b[0maf\u001b[0m\u001b[0;34m.\u001b[0m\u001b[0maccess_rmm_split\u001b[0m\u001b[0;34m(\u001b[0m\u001b[0maccess_extreme_90\u001b[0m\u001b[0;34m,\u001b[0m\u001b[0mrmm_access\u001b[0m\u001b[0;34m)\u001b[0m\u001b[0;34m\u001b[0m\u001b[0;34m\u001b[0m\u001b[0m\n\u001b[0m",
      "\u001b[0;32m~/MJO/functions/access_functions.py\u001b[0m in \u001b[0;36maccess_rmm_split\u001b[0;34m(access, rmm_access)\u001b[0m\n\u001b[1;32m    162\u001b[0m         \u001b[0mprint\u001b[0m\u001b[0;34m(\u001b[0m\u001b[0mstr\u001b[0m\u001b[0;34m(\u001b[0m\u001b[0mensemble\u001b[0m\u001b[0;34m)\u001b[0m \u001b[0;34m+\u001b[0m \u001b[0;34m' '\u001b[0m\u001b[0;34m,\u001b[0m \u001b[0mend\u001b[0m \u001b[0;34m=\u001b[0m \u001b[0;34m''\u001b[0m\u001b[0;34m)\u001b[0m\u001b[0;34m\u001b[0m\u001b[0;34m\u001b[0m\u001b[0m\n\u001b[1;32m    163\u001b[0m \u001b[0;34m\u001b[0m\u001b[0m\n\u001b[0;32m--> 164\u001b[0;31m     \u001b[0maccess_split\u001b[0m \u001b[0;34m=\u001b[0m \u001b[0mxr\u001b[0m\u001b[0;34m.\u001b[0m\u001b[0mconcat\u001b[0m\u001b[0;34m(\u001b[0m\u001b[0mensemble_stor\u001b[0m\u001b[0;34m,\u001b[0m \u001b[0mpd\u001b[0m\u001b[0;34m.\u001b[0m\u001b[0mIndex\u001b[0m\u001b[0;34m(\u001b[0m\u001b[0mrmm_access\u001b[0m\u001b[0;34m.\u001b[0m\u001b[0mensemble\u001b[0m\u001b[0;34m.\u001b[0m\u001b[0mvalues\u001b[0m\u001b[0;34m,\u001b[0m \u001b[0mname\u001b[0m \u001b[0;34m=\u001b[0m \u001b[0;34m'ensemble'\u001b[0m\u001b[0;34m)\u001b[0m\u001b[0;34m)\u001b[0m\u001b[0;34m\u001b[0m\u001b[0;34m\u001b[0m\u001b[0m\n\u001b[0m\u001b[1;32m    165\u001b[0m \u001b[0;34m\u001b[0m\u001b[0m\n\u001b[1;32m    166\u001b[0m \u001b[0;34m\u001b[0m\u001b[0m\n",
      "\u001b[0;32m/g/data3/hh5/public/apps/miniconda3/envs/analysis3-19.10/lib/python3.6/site-packages/xarray/core/concat.py\u001b[0m in \u001b[0;36mconcat\u001b[0;34m(objs, dim, data_vars, coords, compat, positions, fill_value, join)\u001b[0m\n\u001b[1;32m    131\u001b[0m             \u001b[0;34m\"objects, got %s\"\u001b[0m \u001b[0;34m%\u001b[0m \u001b[0mtype\u001b[0m\u001b[0;34m(\u001b[0m\u001b[0mfirst_obj\u001b[0m\u001b[0;34m)\u001b[0m\u001b[0;34m\u001b[0m\u001b[0;34m\u001b[0m\u001b[0m\n\u001b[1;32m    132\u001b[0m         )\n\u001b[0;32m--> 133\u001b[0;31m     \u001b[0;32mreturn\u001b[0m \u001b[0mf\u001b[0m\u001b[0;34m(\u001b[0m\u001b[0mobjs\u001b[0m\u001b[0;34m,\u001b[0m \u001b[0mdim\u001b[0m\u001b[0;34m,\u001b[0m \u001b[0mdata_vars\u001b[0m\u001b[0;34m,\u001b[0m \u001b[0mcoords\u001b[0m\u001b[0;34m,\u001b[0m \u001b[0mcompat\u001b[0m\u001b[0;34m,\u001b[0m \u001b[0mpositions\u001b[0m\u001b[0;34m,\u001b[0m \u001b[0mfill_value\u001b[0m\u001b[0;34m,\u001b[0m \u001b[0mjoin\u001b[0m\u001b[0;34m)\u001b[0m\u001b[0;34m\u001b[0m\u001b[0;34m\u001b[0m\u001b[0m\n\u001b[0m\u001b[1;32m    134\u001b[0m \u001b[0;34m\u001b[0m\u001b[0m\n\u001b[1;32m    135\u001b[0m \u001b[0;34m\u001b[0m\u001b[0m\n",
      "\u001b[0;32m/g/data3/hh5/public/apps/miniconda3/envs/analysis3-19.10/lib/python3.6/site-packages/xarray/core/concat.py\u001b[0m in \u001b[0;36m_dataset_concat\u001b[0;34m(datasets, dim, data_vars, coords, compat, positions, fill_value, join)\u001b[0m\n\u001b[1;32m    376\u001b[0m             \u001b[0;32mexcept\u001b[0m \u001b[0mKeyError\u001b[0m\u001b[0;34m:\u001b[0m\u001b[0;34m\u001b[0m\u001b[0;34m\u001b[0m\u001b[0m\n\u001b[1;32m    377\u001b[0m                 \u001b[0;32mraise\u001b[0m \u001b[0mValueError\u001b[0m\u001b[0;34m(\u001b[0m\u001b[0;34m\"%r is not present in all datasets.\"\u001b[0m \u001b[0;34m%\u001b[0m \u001b[0mk\u001b[0m\u001b[0;34m)\u001b[0m\u001b[0;34m\u001b[0m\u001b[0;34m\u001b[0m\u001b[0m\n\u001b[0;32m--> 378\u001b[0;31m             \u001b[0mcombined\u001b[0m \u001b[0;34m=\u001b[0m \u001b[0mconcat_vars\u001b[0m\u001b[0;34m(\u001b[0m\u001b[0mvars\u001b[0m\u001b[0;34m,\u001b[0m \u001b[0mdim\u001b[0m\u001b[0;34m,\u001b[0m \u001b[0mpositions\u001b[0m\u001b[0;34m)\u001b[0m\u001b[0;34m\u001b[0m\u001b[0;34m\u001b[0m\u001b[0m\n\u001b[0m\u001b[1;32m    379\u001b[0m             \u001b[0;32massert\u001b[0m \u001b[0misinstance\u001b[0m\u001b[0;34m(\u001b[0m\u001b[0mcombined\u001b[0m\u001b[0;34m,\u001b[0m \u001b[0mVariable\u001b[0m\u001b[0;34m)\u001b[0m\u001b[0;34m\u001b[0m\u001b[0;34m\u001b[0m\u001b[0m\n\u001b[1;32m    380\u001b[0m             \u001b[0mresult_vars\u001b[0m\u001b[0;34m[\u001b[0m\u001b[0mk\u001b[0m\u001b[0;34m]\u001b[0m \u001b[0;34m=\u001b[0m \u001b[0mcombined\u001b[0m\u001b[0;34m\u001b[0m\u001b[0;34m\u001b[0m\u001b[0m\n",
      "\u001b[0;32m/g/data3/hh5/public/apps/miniconda3/envs/analysis3-19.10/lib/python3.6/site-packages/xarray/core/variable.py\u001b[0m in \u001b[0;36mconcat\u001b[0;34m(variables, dim, positions, shortcut)\u001b[0m\n\u001b[1;32m   2313\u001b[0m         \u001b[0;32mreturn\u001b[0m \u001b[0mIndexVariable\u001b[0m\u001b[0;34m.\u001b[0m\u001b[0mconcat\u001b[0m\u001b[0;34m(\u001b[0m\u001b[0mvariables\u001b[0m\u001b[0;34m,\u001b[0m \u001b[0mdim\u001b[0m\u001b[0;34m,\u001b[0m \u001b[0mpositions\u001b[0m\u001b[0;34m,\u001b[0m \u001b[0mshortcut\u001b[0m\u001b[0;34m)\u001b[0m\u001b[0;34m\u001b[0m\u001b[0;34m\u001b[0m\u001b[0m\n\u001b[1;32m   2314\u001b[0m     \u001b[0;32melse\u001b[0m\u001b[0;34m:\u001b[0m\u001b[0;34m\u001b[0m\u001b[0;34m\u001b[0m\u001b[0m\n\u001b[0;32m-> 2315\u001b[0;31m         \u001b[0;32mreturn\u001b[0m \u001b[0mVariable\u001b[0m\u001b[0;34m.\u001b[0m\u001b[0mconcat\u001b[0m\u001b[0;34m(\u001b[0m\u001b[0mvariables\u001b[0m\u001b[0;34m,\u001b[0m \u001b[0mdim\u001b[0m\u001b[0;34m,\u001b[0m \u001b[0mpositions\u001b[0m\u001b[0;34m,\u001b[0m \u001b[0mshortcut\u001b[0m\u001b[0;34m)\u001b[0m\u001b[0;34m\u001b[0m\u001b[0;34m\u001b[0m\u001b[0m\n\u001b[0m\u001b[1;32m   2316\u001b[0m \u001b[0;34m\u001b[0m\u001b[0m\n\u001b[1;32m   2317\u001b[0m \u001b[0;34m\u001b[0m\u001b[0m\n",
      "\u001b[0;32m/g/data3/hh5/public/apps/miniconda3/envs/analysis3-19.10/lib/python3.6/site-packages/xarray/core/variable.py\u001b[0m in \u001b[0;36mconcat\u001b[0;34m(cls, variables, dim, positions, shortcut)\u001b[0m\n\u001b[1;32m   1604\u001b[0m             \u001b[0maxis\u001b[0m \u001b[0;34m=\u001b[0m \u001b[0mfirst_var\u001b[0m\u001b[0;34m.\u001b[0m\u001b[0mget_axis_num\u001b[0m\u001b[0;34m(\u001b[0m\u001b[0mdim\u001b[0m\u001b[0;34m)\u001b[0m\u001b[0;34m\u001b[0m\u001b[0;34m\u001b[0m\u001b[0m\n\u001b[1;32m   1605\u001b[0m             \u001b[0mdims\u001b[0m \u001b[0;34m=\u001b[0m \u001b[0mfirst_var\u001b[0m\u001b[0;34m.\u001b[0m\u001b[0mdims\u001b[0m\u001b[0;34m\u001b[0m\u001b[0;34m\u001b[0m\u001b[0m\n\u001b[0;32m-> 1606\u001b[0;31m             \u001b[0mdata\u001b[0m \u001b[0;34m=\u001b[0m \u001b[0mduck_array_ops\u001b[0m\u001b[0;34m.\u001b[0m\u001b[0mconcatenate\u001b[0m\u001b[0;34m(\u001b[0m\u001b[0marrays\u001b[0m\u001b[0;34m,\u001b[0m \u001b[0maxis\u001b[0m\u001b[0;34m=\u001b[0m\u001b[0maxis\u001b[0m\u001b[0;34m)\u001b[0m\u001b[0;34m\u001b[0m\u001b[0;34m\u001b[0m\u001b[0m\n\u001b[0m\u001b[1;32m   1607\u001b[0m             \u001b[0;32mif\u001b[0m \u001b[0mpositions\u001b[0m \u001b[0;32mis\u001b[0m \u001b[0;32mnot\u001b[0m \u001b[0;32mNone\u001b[0m\u001b[0;34m:\u001b[0m\u001b[0;34m\u001b[0m\u001b[0;34m\u001b[0m\u001b[0m\n\u001b[1;32m   1608\u001b[0m                 \u001b[0;31m# TODO: deprecate this option -- we don't need it for groupby\u001b[0m\u001b[0;34m\u001b[0m\u001b[0;34m\u001b[0m\u001b[0;34m\u001b[0m\u001b[0m\n",
      "\u001b[0;32m/g/data3/hh5/public/apps/miniconda3/envs/analysis3-19.10/lib/python3.6/site-packages/xarray/core/duck_array_ops.py\u001b[0m in \u001b[0;36mconcatenate\u001b[0;34m(arrays, axis)\u001b[0m\n\u001b[1;32m    267\u001b[0m \u001b[0;32mdef\u001b[0m \u001b[0mconcatenate\u001b[0m\u001b[0;34m(\u001b[0m\u001b[0marrays\u001b[0m\u001b[0;34m,\u001b[0m \u001b[0maxis\u001b[0m\u001b[0;34m=\u001b[0m\u001b[0;36m0\u001b[0m\u001b[0;34m)\u001b[0m\u001b[0;34m:\u001b[0m\u001b[0;34m\u001b[0m\u001b[0;34m\u001b[0m\u001b[0m\n\u001b[1;32m    268\u001b[0m     \u001b[0;34m\"\"\"concatenate() with better dtype promotion rules.\"\"\"\u001b[0m\u001b[0;34m\u001b[0m\u001b[0;34m\u001b[0m\u001b[0m\n\u001b[0;32m--> 269\u001b[0;31m     \u001b[0;32mreturn\u001b[0m \u001b[0m_concatenate\u001b[0m\u001b[0;34m(\u001b[0m\u001b[0mas_shared_dtype\u001b[0m\u001b[0;34m(\u001b[0m\u001b[0marrays\u001b[0m\u001b[0;34m)\u001b[0m\u001b[0;34m,\u001b[0m \u001b[0maxis\u001b[0m\u001b[0;34m=\u001b[0m\u001b[0maxis\u001b[0m\u001b[0;34m)\u001b[0m\u001b[0;34m\u001b[0m\u001b[0;34m\u001b[0m\u001b[0m\n\u001b[0m\u001b[1;32m    270\u001b[0m \u001b[0;34m\u001b[0m\u001b[0m\n\u001b[1;32m    271\u001b[0m \u001b[0;34m\u001b[0m\u001b[0m\n",
      "\u001b[0;32m/g/data3/hh5/public/apps/miniconda3/envs/analysis3-19.10/lib/python3.6/site-packages/xarray/core/duck_array_ops.py\u001b[0m in \u001b[0;36mf\u001b[0;34m(*args, **kwargs)\u001b[0m\n\u001b[1;32m     45\u001b[0m             \u001b[0;32melse\u001b[0m\u001b[0;34m:\u001b[0m\u001b[0;34m\u001b[0m\u001b[0;34m\u001b[0m\u001b[0m\n\u001b[1;32m     46\u001b[0m                 \u001b[0mwrapped\u001b[0m \u001b[0;34m=\u001b[0m \u001b[0mgetattr\u001b[0m\u001b[0;34m(\u001b[0m\u001b[0meager_module\u001b[0m\u001b[0;34m,\u001b[0m \u001b[0mname\u001b[0m\u001b[0;34m)\u001b[0m\u001b[0;34m\u001b[0m\u001b[0;34m\u001b[0m\u001b[0m\n\u001b[0;32m---> 47\u001b[0;31m             \u001b[0;32mreturn\u001b[0m \u001b[0mwrapped\u001b[0m\u001b[0;34m(\u001b[0m\u001b[0;34m*\u001b[0m\u001b[0margs\u001b[0m\u001b[0;34m,\u001b[0m \u001b[0;34m**\u001b[0m\u001b[0mkwargs\u001b[0m\u001b[0;34m)\u001b[0m\u001b[0;34m\u001b[0m\u001b[0;34m\u001b[0m\u001b[0m\n\u001b[0m\u001b[1;32m     48\u001b[0m \u001b[0;34m\u001b[0m\u001b[0m\n\u001b[1;32m     49\u001b[0m     \u001b[0;32melse\u001b[0m\u001b[0;34m:\u001b[0m\u001b[0;34m\u001b[0m\u001b[0;34m\u001b[0m\u001b[0m\n",
      "\u001b[0;32m<__array_function__ internals>\u001b[0m in \u001b[0;36mconcatenate\u001b[0;34m(*args, **kwargs)\u001b[0m\n",
      "\u001b[0;31mMemoryError\u001b[0m: Unable to allocate array with shape (11, 4, 4066, 49, 149) and data type float32"
     ]
    }
   ],
   "source": [
    "access_split_extreme_90 = af.access_rmm_split(access_extreme_90,rmm_access)"
   ]
  },
  {
   "cell_type": "markdown",
   "metadata": {
    "ExecuteTime": {
     "end_time": "2020-01-23T04:03:11.731979Z",
     "start_time": "2020-01-23T04:03:11.722036Z"
    }
   },
   "source": [
    "<div class=\"alert alert-block alert-info\"> <center> <font color = 'black' size = \"+1.5\"> Verification </font></center></div>\n"
   ]
  },
  {
   "cell_type": "code",
   "execution_count": null,
   "metadata": {
    "ExecuteTime": {
     "end_time": "2020-02-12T00:56:11.242182Z",
     "start_time": "2020-02-12T00:50:49.431Z"
    }
   },
   "outputs": [],
   "source": [
    "(awap_extreme_90.sum(dim = 'time').precip/access_extreme_90 .sum(dim = 'time').mean(dim = 'ensemble').precip).plot()"
   ]
  },
  {
   "cell_type": "code",
   "execution_count": null,
   "metadata": {
    "ExecuteTime": {
     "end_time": "2020-02-12T00:56:11.243433Z",
     "start_time": "2020-02-12T00:50:49.434Z"
    }
   },
   "outputs": [],
   "source": [
    "awap_extreme_90.sum(dim = 'time').precip.plot()"
   ]
  },
  {
   "cell_type": "code",
   "execution_count": null,
   "metadata": {
    "ExecuteTime": {
     "end_time": "2020-02-12T00:56:11.244410Z",
     "start_time": "2020-02-12T00:50:49.438Z"
    }
   },
   "outputs": [],
   "source": [
    "access_extreme_90 .sum(dim = 'time').mean(dim = 'ensemble').precip.plot()"
   ]
  },
  {
   "cell_type": "markdown",
   "metadata": {},
   "source": [
    "# Indices"
   ]
  },
  {
   "cell_type": "markdown",
   "metadata": {
    "ExecuteTime": {
     "end_time": "2020-01-23T04:03:11.731979Z",
     "start_time": "2020-01-23T04:03:11.722036Z"
    }
   },
   "source": [
    "<div class=\"alert alert-block alert-info\"> <center> <font color = 'black' size = \"+1.5\"> Extremes </font></center></div>\n"
   ]
  },
  {
   "cell_type": "code",
   "execution_count": null,
   "metadata": {
    "ExecuteTime": {
     "end_time": "2020-02-12T00:56:11.245446Z",
     "start_time": "2020-02-12T00:50:49.443Z"
    }
   },
   "outputs": [],
   "source": [
    "access_extreme_count = access_split_extreme_90.groupby('time.month').count(dim = 'time').mean(dim = 'ensemble')\n",
    "\n",
    "awap_extreme_count = awap_split_extreme_90.groupby('time.month').count(dim = 'time')"
   ]
  },
  {
   "cell_type": "code",
   "execution_count": null,
   "metadata": {
    "ExecuteTime": {
     "end_time": "2020-02-12T00:56:11.246769Z",
     "start_time": "2020-02-12T00:50:49.445Z"
    }
   },
   "outputs": [],
   "source": [
    "extreme_test = access_split_extreme_90.groupby('time.month').count(dim = 'time')"
   ]
  },
  {
   "cell_type": "markdown",
   "metadata": {
    "ExecuteTime": {
     "end_time": "2020-01-23T04:03:11.731979Z",
     "start_time": "2020-01-23T04:03:11.722036Z"
    }
   },
   "source": [
    "<div class=\"alert alert-block alert-info\"> <center> <font color = 'black' size = \"+1.5\"> All events </font></center></div>\n"
   ]
  },
  {
   "cell_type": "code",
   "execution_count": 24,
   "metadata": {
    "ExecuteTime": {
     "end_time": "2020-02-12T01:14:39.839531Z",
     "start_time": "2020-02-12T01:14:38.409768Z"
    }
   },
   "outputs": [],
   "source": [
    "access_count_single = access_split.sel(ensemble = 1).groupby('time.month').count(dim = 'time')"
   ]
  },
  {
   "cell_type": "code",
   "execution_count": null,
   "metadata": {
    "ExecuteTime": {
     "start_time": "2020-02-12T01:14:38.811Z"
    }
   },
   "outputs": [],
   "source": [
    "access_count = access_split.groupby('time.month').count(dim = 'time').mean(dim = 'ensemble')\n",
    "\n",
    "awap_count = awap_split.groupby('time.month').count(dim = 'time')"
   ]
  },
  {
   "cell_type": "code",
   "execution_count": null,
   "metadata": {
    "ExecuteTime": {
     "start_time": "2020-02-12T01:14:39.194Z"
    }
   },
   "outputs": [],
   "source": [
    "access_count, awap_count"
   ]
  },
  {
   "cell_type": "code",
   "execution_count": null,
   "metadata": {
    "ExecuteTime": {
     "start_time": "2020-02-12T01:14:39.492Z"
    }
   },
   "outputs": [],
   "source": [
    "awap_all_count = awap_count.sum(dim = 'phase')\n",
    "awap_all_count['phase'] = ['all']\n",
    "\n",
    "access_all_count = access.groupby('time.month').count(dim = 'time').mean(dim = 'ensemble')\n",
    "access_all_count['phase'] = ['all']"
   ]
  },
  {
   "cell_type": "code",
   "execution_count": null,
   "metadata": {
    "ExecuteTime": {
     "start_time": "2020-02-12T01:14:39.729Z"
    }
   },
   "outputs": [],
   "source": [
    "awap_all_count = xr.concat([awap_all_count, awap_count], dim = 'phase')\n",
    "access_all_count= xr.concat([access_all_count, access_count], dim = 'phase')"
   ]
  },
  {
   "cell_type": "code",
   "execution_count": null,
   "metadata": {
    "ExecuteTime": {
     "start_time": "2020-02-12T01:14:40.503Z"
    }
   },
   "outputs": [],
   "source": [
    "access_all_count, awap_all_count"
   ]
  },
  {
   "cell_type": "markdown",
   "metadata": {
    "ExecuteTime": {
     "end_time": "2020-01-23T04:03:11.731979Z",
     "start_time": "2020-01-23T04:03:11.722036Z"
    }
   },
   "source": [
    "<div class=\"alert alert-block alert-info\"> <center> <font color = 'black' size = \"+1.5\"> Normalising </font></center></div>\n"
   ]
  },
  {
   "cell_type": "code",
   "execution_count": 1,
   "metadata": {
    "ExecuteTime": {
     "end_time": "2020-02-12T01:14:47.590182Z",
     "start_time": "2020-02-12T01:14:47.398417Z"
    },
    "scrolled": true
   },
   "outputs": [
    {
     "ename": "NameError",
     "evalue": "name 'rmm_obs' is not defined",
     "output_type": "error",
     "traceback": [
      "\u001b[0;31m---------------------------------------------------------------------------\u001b[0m",
      "\u001b[0;31mNameError\u001b[0m                                 Traceback (most recent call last)",
      "\u001b[0;32m<ipython-input-1-f5cd0d3dabc0>\u001b[0m in \u001b[0;36m<module>\u001b[0;34m\u001b[0m\n\u001b[0;32m----> 1\u001b[0;31m \u001b[0mrmm_obs\u001b[0m\u001b[0;34m\u001b[0m\u001b[0;34m\u001b[0m\u001b[0m\n\u001b[0m",
      "\u001b[0;31mNameError\u001b[0m: name 'rmm_obs' is not defined"
     ]
    }
   ],
   "source": [
    "rmm_obs"
   ]
  },
  {
   "cell_type": "code",
   "execution_count": null,
   "metadata": {
    "ExecuteTime": {
     "end_time": "2020-02-12T01:14:47.592815Z",
     "start_time": "2020-02-12T01:14:44.528Z"
    }
   },
   "outputs": [],
   "source": [
    "rmm_access"
   ]
  },
  {
   "cell_type": "code",
   "execution_count": null,
   "metadata": {
    "ExecuteTime": {
     "end_time": "2020-02-12T01:14:47.594307Z",
     "start_time": "2020-02-12T01:14:44.765Z"
    }
   },
   "outputs": [],
   "source": [
    "subphase_calc = reload(subphase_calc)\n",
    "rmm_count_month = subphase_calc.count_in_rmm_subphase_monthly(rmm_obs)\n",
    "\n",
    "awap_count_norm  = (awap_count.precip * 100/rmm_count_month.number).to_dataset(name = 'precip')\n",
    "\n",
    "awap_count_norm"
   ]
  },
  {
   "cell_type": "code",
   "execution_count": null,
   "metadata": {
    "ExecuteTime": {
     "end_time": "2020-02-12T01:14:47.595755Z",
     "start_time": "2020-02-12T01:14:44.955Z"
    }
   },
   "outputs": [],
   "source": [
    "subphase_calc = reload(subphase_calc)\n",
    "\n",
    "\n",
    "rmm_access_count_month_single = subphase_calc.count_in_rmm_subphase_monthly(rmm_access.sel(ensemble = 1))\n",
    "\n",
    "access_count_single_norm = (access_count_single.precip * 100 /rmm_access_count_month_single.number).to_dataset(name = 'precip')"
   ]
  },
  {
   "cell_type": "code",
   "execution_count": null,
   "metadata": {
    "ExecuteTime": {
     "end_time": "2020-02-12T00:56:11.260881Z",
     "start_time": "2020-02-12T00:50:49.480Z"
    }
   },
   "outputs": [],
   "source": [
    "access_count_single_norm"
   ]
  },
  {
   "cell_type": "code",
   "execution_count": null,
   "metadata": {
    "ExecuteTime": {
     "end_time": "2020-02-12T00:56:11.262203Z",
     "start_time": "2020-02-12T00:50:49.484Z"
    }
   },
   "outputs": [],
   "source": [
    "subphase_calc = reload(subphase_calc)\n",
    "\n",
    "ensemble_stor = []\n",
    "\n",
    "for ensemble in rmm_access.ensemble.values:\n",
    "    rmm_single = rmm_access.sel(ensemble = ensemble)\n",
    "    rmm_single_count =  subphase_calc.count_in_rmm_subphase_monthly(rmm_single)\n",
    "    \n",
    "    ensemble_stor.append(rmm_single_count)\n",
    "    \n",
    "rmm_access_count_month = xr.concat(ensemble_stor, dim = 'ensemble').mean(dim = 'ensemble')"
   ]
  },
  {
   "cell_type": "code",
   "execution_count": null,
   "metadata": {
    "ExecuteTime": {
     "end_time": "2020-02-12T00:56:11.263326Z",
     "start_time": "2020-02-12T00:50:49.488Z"
    }
   },
   "outputs": [],
   "source": [
    "access_count_norm = (access_count.precip * 100/rmm_access_count_month.number).to_dataset(name = 'precip')"
   ]
  },
  {
   "cell_type": "markdown",
   "metadata": {
    "ExecuteTime": {
     "end_time": "2020-01-23T04:03:11.731979Z",
     "start_time": "2020-01-23T04:03:11.722036Z"
    }
   },
   "source": [
    "<div class=\"alert alert-block alert-info\"> <center> <font color = 'black' size = \"+1.5\"> Plotting </font></center></div>\n"
   ]
  },
  {
   "cell_type": "code",
   "execution_count": null,
   "metadata": {
    "ExecuteTime": {
     "end_time": "2020-02-12T00:56:11.264566Z",
     "start_time": "2020-02-12T00:50:49.492Z"
    },
    "hide_input": true
   },
   "outputs": [],
   "source": [
    "import access_plot_functions as apf\n",
    "\n",
    "from scipy.stats import spearmanr\n",
    "\n",
    "phase = 'enhanced'\n",
    "d1 = awap_count_norm.sel(phase = phase, month  =1).precip\n",
    "d2 = access_count_norm.sel(phase = phase, month  =1).precip\n",
    "spearmanr(d1.values.flatten(), d2.values.flatten(), nan_policy = 'omit')\n",
    "\n",
    "fig = plt.figure(figsize = (20,5))\n",
    "\n",
    "start = 0\n",
    "end = 300\n",
    "\n",
    "\n",
    "p1 = d1.values.flatten()\n",
    "p2 = d2.values.flatten()\n",
    "\n",
    "\n",
    "id1 = np.isfinite(p1)\n",
    "p1 = p1[id1]\n",
    "\n",
    "p1 = np.array(p1)\n",
    "p1 = np.where(p1 == 0, np.nan,p1)\n",
    "\n",
    "\n",
    "id2 = np.isfinite(p2)\n",
    "p2 = p2[id2]\n",
    "p2 = np.array(p2)\n",
    "p2 = np.where(p2 == 0, np.nan,p2)\n",
    "\n",
    "\n",
    "r = spearmanr(p1, p2, nan_policy = 'omit')\n",
    "\n",
    "\n",
    "\n",
    "id1 = np.isfinite(p1)\n",
    "p1 = p1[id1]\n",
    "\n",
    "\n",
    "id2 = np.isfinite(p2)\n",
    "p2 = p2[id2]\n",
    "\n",
    "\n",
    "plt.plot(p1, label = 'awap')\n",
    "plt.plot(p2, label = 'access')\n",
    "\n",
    "\n",
    "plt.legend()\n",
    "\n",
    "print(r)"
   ]
  },
  {
   "cell_type": "code",
   "execution_count": null,
   "metadata": {
    "ExecuteTime": {
     "end_time": "2020-02-12T00:56:11.265809Z",
     "start_time": "2020-02-12T00:50:49.495Z"
    },
    "hide_input": true
   },
   "outputs": [],
   "source": [
    "import access_plot_functions as apf\n",
    "\n",
    "from scipy.stats import spearmanr\n",
    "\n",
    "phase = 'enhanced'\n",
    "d1 = awap_count.sel(phase = phase, month  =1).precip\n",
    "d2 = access_count.sel(phase = phase, month  =1).precip\n",
    "spearmanr(d1.values.flatten(), d2.values.flatten(), nan_policy = 'omit')\n",
    "\n",
    "fig = plt.figure(figsize = (20,5))\n",
    "\n",
    "start = 0\n",
    "end = 300\n",
    "\n",
    "\n",
    "p1 = d1.values.flatten()\n",
    "p2 = d2.values.flatten()\n",
    "\n",
    "\n",
    "id1 = np.isfinite(p1)\n",
    "p1 = p1[id1]\n",
    "\n",
    "p1 = np.array(p1)\n",
    "p1 = np.where(p1 == 0, np.nan,p1)\n",
    "\n",
    "\n",
    "id2 = np.isfinite(p2)\n",
    "p2 = p2[id2]\n",
    "p2 = np.array(p2)\n",
    "p2 = np.where(p2 == 0, np.nan,p2)\n",
    "\n",
    "\n",
    "r = spearmanr(p1, p2, nan_policy = 'omit')\n",
    "\n",
    "\n",
    "\n",
    "id1 = np.isfinite(p1)\n",
    "p1 = p1[id1]\n",
    "\n",
    "\n",
    "id2 = np.isfinite(p2)\n",
    "p2 = p2[id2]\n",
    "\n",
    "\n",
    "plt.plot(p1, label = 'awap')\n",
    "plt.plot(p2, label = 'access')\n",
    "\n",
    "\n",
    "plt.legend()\n",
    "\n",
    "print(r)"
   ]
  },
  {
   "cell_type": "code",
   "execution_count": null,
   "metadata": {
    "ExecuteTime": {
     "end_time": "2020-02-12T00:56:11.266974Z",
     "start_time": "2020-02-12T00:50:49.500Z"
    },
    "hide_input": true
   },
   "outputs": [],
   "source": [
    "fig = plt.figure()\n",
    "gs = gridspec.GridSpec(2,1, height_ratios = [0.2, 1])\n",
    "\n",
    "phase = 'inactive'\n",
    "month = 1\n",
    "\n",
    "comparison = access_count.precip/awap_count.precip\n",
    "\n",
    "vmax = 1.5\n",
    "vmin = 1/vmax\n",
    "comparison = comparison.fillna(1)\n",
    "comparison = comparison.where(comparison > vmin, vmin)\n",
    "comparison = comparison.where(comparison < vmax, vmax)\n",
    "comparison = comparison.where(comparison != 1, np.nan)\n",
    "l1 = []\n",
    "\n",
    "custom_RdBu, levels = apf.anomalie_cbar_1(vmax, l1)\n",
    "\n",
    "cmap = plt.cm.get_cmap('RdBu', 11)\n",
    "\n",
    "ax = fig.add_subplot(gs[1], projection = ccrs.PlateCarree())\n",
    "comp_plot = comparison.sel(phase = phase, month = month).plot(cmap = custom_RdBu, vmax = vmax, vmin = vmin,\n",
    "                                                 add_colorbar = False,\n",
    "                                                 norm = BoundaryNorm(levels, len(levels)-1))\n",
    "\n",
    "\n",
    "axes = plt.subplot(gs[0])\n",
    "\n",
    "tick_locations = levels[1:-1] # Not including the start and end points so I can add > and < symbols\n",
    "\n",
    "\n",
    "cbar = plt.colorbar(comp_plot, cax = axes, orientation = 'horizontal', extend = 'neither', ticks = tick_locations)\n",
    "\n",
    "tick_strings = np.round(tick_locations,2).astype(str)\n",
    "tick_strings[0] = '<' + tick_strings[0]\n",
    "tick_strings[-1] = '<' + tick_strings[-1] \n",
    "cbar.ax.set_xticklabels(tick_strings, fontsize = 10) \n",
    "cbar_title = ''\n",
    "cbar.ax.set_title(cbar_title,size = 15)\n",
    "    "
   ]
  },
  {
   "cell_type": "code",
   "execution_count": null,
   "metadata": {
    "ExecuteTime": {
     "end_time": "2020-02-12T00:56:11.268155Z",
     "start_time": "2020-02-12T00:50:49.502Z"
    },
    "hide_input": false
   },
   "outputs": [],
   "source": [
    "apf = reload(apf) \n",
    "apf.comparison_plot(awap_count_norm, access_count_single_norm, month = 1, plot_max = 90,  vmax = 5,\n",
    "                    rain_type = 'Number of Raindays',\n",
    "                   cbar1_title = 'Number of Raindays', cbar2_title = 'ACCESS/AWAP Ratio',\n",
    "                  )"
   ]
  },
  {
   "cell_type": "code",
   "execution_count": null,
   "metadata": {
    "ExecuteTime": {
     "end_time": "2020-02-12T00:56:11.269404Z",
     "start_time": "2020-02-12T00:50:49.505Z"
    }
   },
   "outputs": [],
   "source": [
    "# apf = reload(apf) \n",
    "# rain_type = 'Number of Raindays'\n",
    "\n",
    "# for month in [10,11,12,1,2,3]:\n",
    "\n",
    "#     apf.comparison_plot(awap_count, access_count, month = month, plot_max = 160,  vmax = 2,\n",
    "#                        rain_type = rain_type,\n",
    "#                        cbar1_title = rain_type , cbar2_title = 'ACCESS/AWAP Ratio',\n",
    "#                        save_directory = 'Plots/Rain Comparisons/maps/', save_fig = 1, dont_plot = 1)"
   ]
  },
  {
   "cell_type": "markdown",
   "metadata": {},
   "source": [
    "# Pattern Correlation Timeseries"
   ]
  },
  {
   "cell_type": "code",
   "execution_count": null,
   "metadata": {
    "ExecuteTime": {
     "end_time": "2020-02-12T00:56:11.270613Z",
     "start_time": "2020-02-12T00:50:49.512Z"
    }
   },
   "outputs": [],
   "source": [
    "af = reload(af)\n",
    "pattern_correlation = af.month_pattern_correlations(awap_extreme_count,access_extreme_count)"
   ]
  },
  {
   "cell_type": "code",
   "execution_count": null,
   "metadata": {
    "ExecuteTime": {
     "end_time": "2020-02-12T00:56:11.271715Z",
     "start_time": "2020-02-12T00:50:49.515Z"
    }
   },
   "outputs": [],
   "source": [
    "apf = reload(apf)\n",
    "\n",
    "title = 'Monthly Pattern Colleration\\nfor Number of Raindays'\n",
    "\n",
    "apf.timeseries_pattern_correlation_plot(pattern_correlation,title = title, custom  = 0, savefig = 0)"
   ]
  },
  {
   "cell_type": "code",
   "execution_count": null,
   "metadata": {},
   "outputs": [],
   "source": []
  }
 ],
 "metadata": {
  "kernelspec": {
   "display_name": "Python 3",
   "language": "python",
   "name": "python3"
  }
 },
 "nbformat": 4,
 "nbformat_minor": 2
}
