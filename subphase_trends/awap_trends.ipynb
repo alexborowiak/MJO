{
 "cells": [
  {
   "cell_type": "markdown",
   "metadata": {},
   "source": [
    "# Preamble"
   ]
  },
  {
   "cell_type": "code",
   "execution_count": 6,
   "metadata": {
    "ExecuteTime": {
     "end_time": "2020-03-06T06:27:24.877529Z",
     "start_time": "2020-03-06T06:27:24.857262Z"
    }
   },
   "outputs": [],
   "source": [
    "##############################\n",
    "\n",
    "import xarray as xr\n",
    "import numpy as np\n",
    "import pandas as pd\n",
    "import matplotlib.pyplot as plt\n",
    "import dask.array\n",
    "import cartopy.crs as ccrs\n",
    "import matplotlib.colors as colors\n",
    "import datetime as dt\n",
    "import warnings\n",
    "warnings.filterwarnings('ignore')\n",
    "import matplotlib.gridspec as gridspec\n",
    "\n",
    "\n",
    "import sys\n",
    "from importlib import reload\n",
    "sys.path.append('/home/563/ab2313/MJO/functions')\n",
    "import subphase_calc_functions as subphase_calc\n",
    "import phase_calc_functions as phase_calc\n",
    "import subphase_plot_functions as subphase_plot\n",
    "import trend_functions\n",
    "import trend_plot_functions as trend_plot\n",
    "import load_dataset as load"
   ]
  },
  {
   "cell_type": "markdown",
   "metadata": {},
   "source": [
    "# Readin"
   ]
  },
  {
   "cell_type": "code",
   "execution_count": 7,
   "metadata": {
    "ExecuteTime": {
     "end_time": "2020-03-06T06:27:29.774711Z",
     "start_time": "2020-03-06T06:27:29.120723Z"
    }
   },
   "outputs": [
    {
     "data": {
      "text/html": [
       "<pre>&lt;xarray.Dataset&gt;\n",
       "Dimensions:    (time: 16714)\n",
       "Coordinates:\n",
       "  * time       (time) datetime64[ns] 1974-06-01 1974-06-02 ... 2020-03-04\n",
       "Data variables:\n",
       "    RMM1       (time) float64 1.634 1.603 1.516 1.51 ... 0.8542 1.097 1.306 1.52\n",
       "    RMM2       (time) float64 1.203 1.015 1.086 1.036 ... -1.402 -1.363 -0.9508\n",
       "    phase      (time) int64 5 5 5 5 5 6 6 6 6 7 6 5 ... 7 7 8 8 1 2 4 4 3 3 3 4\n",
       "    amplitude  (time) float64 2.029 1.897 1.865 1.831 ... 1.498 1.78 1.887 1.793</pre>"
      ],
      "text/plain": [
       "<xarray.Dataset>\n",
       "Dimensions:    (time: 16714)\n",
       "Coordinates:\n",
       "  * time       (time) datetime64[ns] 1974-06-01 1974-06-02 ... 2020-03-04\n",
       "Data variables:\n",
       "    RMM1       (time) float64 1.634 1.603 1.516 1.51 ... 0.8542 1.097 1.306 1.52\n",
       "    RMM2       (time) float64 1.203 1.015 1.086 1.036 ... -1.402 -1.363 -0.9508\n",
       "    phase      (time) int64 5 5 5 5 5 6 6 6 6 7 6 5 ... 7 7 8 8 1 2 4 4 3 3 3 4\n",
       "    amplitude  (time) float64 2.029 1.897 1.865 1.831 ... 1.498 1.78 1.887 1.793"
      ]
     },
     "execution_count": 7,
     "metadata": {},
     "output_type": "execute_result"
    }
   ],
   "source": [
    "rmm = load.load_rmm()\n",
    "rmm"
   ]
  },
  {
   "cell_type": "code",
   "execution_count": 8,
   "metadata": {
    "ExecuteTime": {
     "end_time": "2020-03-06T06:28:23.710406Z",
     "start_time": "2020-03-06T06:27:42.256060Z"
    }
   },
   "outputs": [],
   "source": [
    "# This version of AWAP is just for the north, wet-season and for raindays\n",
    "awap = load.load_awap()"
   ]
  },
  {
   "cell_type": "markdown",
   "metadata": {},
   "source": [
    "# Calculations"
   ]
  },
  {
   "cell_type": "markdown",
   "metadata": {},
   "source": [
    "<div class=\"alert alert-block alert-info\"> <center> <font color = 'black' size = \"+1.5\"> Splitting </font></center></div>"
   ]
  },
  {
   "cell_type": "code",
   "execution_count": 9,
   "metadata": {
    "ExecuteTime": {
     "end_time": "2020-03-06T06:28:26.119718Z",
     "start_time": "2020-03-06T06:28:23.712181Z"
    }
   },
   "outputs": [],
   "source": [
    "subphase_calc = reload(subphase_calc)\n",
    "# Split AWAP into the subphases: enhanced, suppressed, transition and inactive.\n",
    "awap_split = subphase_calc.split_into_subphase(awap, rmm)"
   ]
  },
  {
   "cell_type": "markdown",
   "metadata": {},
   "source": [
    "<div class=\"alert alert-block alert-info\"> <center> <font color = 'black' size = \"+1.5\"> Above_q </font></center></div>"
   ]
  },
  {
   "cell_type": "code",
   "execution_count": 10,
   "metadata": {
    "ExecuteTime": {
     "end_time": "2020-03-06T06:28:42.398156Z",
     "start_time": "2020-03-06T06:28:26.123228Z"
    }
   },
   "outputs": [],
   "source": [
    "subphase_calc = reload(subphase_calc)\n",
    "# Both of the files have to be moved to be in the wet season, \n",
    "q = 90\n",
    "above_q = subphase_calc.find_events_above_q(awap.precip, awap_split.precip, q)"
   ]
  },
  {
   "cell_type": "code",
   "execution_count": 11,
   "metadata": {
    "ExecuteTime": {
     "end_time": "2020-03-06T06:28:42.422873Z",
     "start_time": "2020-03-06T06:28:42.400047Z"
    }
   },
   "outputs": [
    {
     "data": {
      "text/html": [
       "<pre>&lt;xarray.Dataset&gt;\n",
       "Dimensions:  (lat: 49, lon: 149, phase: 4, time: 6469)\n",
       "Coordinates:\n",
       "  * lat      (lat) float64 -23.0 -22.75 -22.5 -22.25 ... -11.5 -11.25 -11.0\n",
       "  * phase    (phase) object &#x27;enhanced&#x27; &#x27;suppressed&#x27; &#x27;transition&#x27; &#x27;inactive&#x27;\n",
       "  * lon      (lon) float64 113.8 114.0 114.2 114.5 ... 150.0 150.2 150.5 150.8\n",
       "  * time     (time) datetime64[ns] 1974-10-01 1974-10-02 ... 2017-03-31\n",
       "    month    (time) int64 10 10 10 10 10 10 10 10 10 10 ... 3 3 3 3 3 3 3 3 3 3\n",
       "Data variables:\n",
       "    precip   (phase, time, lat, lon) float32 nan nan nan nan ... nan nan nan nan</pre>"
      ],
      "text/plain": [
       "<xarray.Dataset>\n",
       "Dimensions:  (lat: 49, lon: 149, phase: 4, time: 6469)\n",
       "Coordinates:\n",
       "  * lat      (lat) float64 -23.0 -22.75 -22.5 -22.25 ... -11.5 -11.25 -11.0\n",
       "  * phase    (phase) object 'enhanced' 'suppressed' 'transition' 'inactive'\n",
       "  * lon      (lon) float64 113.8 114.0 114.2 114.5 ... 150.0 150.2 150.5 150.8\n",
       "  * time     (time) datetime64[ns] 1974-10-01 1974-10-02 ... 2017-03-31\n",
       "    month    (time) int64 10 10 10 10 10 10 10 10 10 10 ... 3 3 3 3 3 3 3 3 3 3\n",
       "Data variables:\n",
       "    precip   (phase, time, lat, lon) float32 nan nan nan nan ... nan nan nan nan"
      ]
     },
     "execution_count": 11,
     "metadata": {},
     "output_type": "execute_result"
    }
   ],
   "source": [
    "above_q"
   ]
  },
  {
   "cell_type": "markdown",
   "metadata": {},
   "source": [
    "<div class=\"alert alert-block alert-info\"> <center> <font color = 'black' size = \"+1.5\"> Wet-season Recalibrate </font></center></div>"
   ]
  },
  {
   "cell_type": "markdown",
   "metadata": {},
   "source": [
    "Making each year the data that is just for one wet season e.g moving the start of the wet-season to the next year"
   ]
  },
  {
   "cell_type": "code",
   "execution_count": 12,
   "metadata": {
    "ExecuteTime": {
     "end_time": "2020-03-06T06:28:46.146595Z",
     "start_time": "2020-03-06T06:28:42.424522Z"
    }
   },
   "outputs": [],
   "source": [
    "trend_function = reload(trend_functions)\n",
    "above_q_ws = trend_functions.wet_season_year(above_q)"
   ]
  },
  {
   "cell_type": "code",
   "execution_count": 13,
   "metadata": {
    "ExecuteTime": {
     "end_time": "2020-03-06T06:28:46.190270Z",
     "start_time": "2020-03-06T06:28:46.150023Z"
    }
   },
   "outputs": [
    {
     "data": {
      "text/html": [
       "<pre>&lt;xarray.Dataset&gt;\n",
       "Dimensions:  (lat: 49, lon: 149, phase: 4, time: 6469)\n",
       "Coordinates:\n",
       "  * time     (time) datetime64[ns] 1975-01-01 1975-01-02 ... 2018-12-31\n",
       "  * lat      (lat) float64 -23.0 -22.75 -22.5 -22.25 ... -11.5 -11.25 -11.0\n",
       "  * phase    (phase) object &#x27;enhanced&#x27; &#x27;suppressed&#x27; &#x27;transition&#x27; &#x27;inactive&#x27;\n",
       "  * lon      (lon) float64 113.8 114.0 114.2 114.5 ... 150.0 150.2 150.5 150.8\n",
       "Data variables:\n",
       "    precip   (phase, time, lat, lon) float32 nan nan nan nan ... nan nan nan nan</pre>"
      ],
      "text/plain": [
       "<xarray.Dataset>\n",
       "Dimensions:  (lat: 49, lon: 149, phase: 4, time: 6469)\n",
       "Coordinates:\n",
       "  * time     (time) datetime64[ns] 1975-01-01 1975-01-02 ... 2018-12-31\n",
       "  * lat      (lat) float64 -23.0 -22.75 -22.5 -22.25 ... -11.5 -11.25 -11.0\n",
       "  * phase    (phase) object 'enhanced' 'suppressed' 'transition' 'inactive'\n",
       "  * lon      (lon) float64 113.8 114.0 114.2 114.5 ... 150.0 150.2 150.5 150.8\n",
       "Data variables:\n",
       "    precip   (phase, time, lat, lon) float32 nan nan nan nan ... nan nan nan nan"
      ]
     },
     "execution_count": 13,
     "metadata": {},
     "output_type": "execute_result"
    }
   ],
   "source": [
    "above_q_ws"
   ]
  },
  {
   "cell_type": "code",
   "execution_count": 14,
   "metadata": {
    "ExecuteTime": {
     "end_time": "2020-03-06T06:28:47.004362Z",
     "start_time": "2020-03-06T06:28:46.194786Z"
    }
   },
   "outputs": [
    {
     "data": {
      "text/html": [
       "<pre>&lt;xarray.Dataset&gt;\n",
       "Dimensions:  (lat: 49, lon: 149, phase: 1, time: 6469)\n",
       "Coordinates:\n",
       "  * time     (time) datetime64[ns] 1975-01-01 1975-01-02 ... 2018-12-31\n",
       "  * lat      (lat) float64 -23.0 -22.75 -22.5 -22.25 ... -11.5 -11.25 -11.0\n",
       "  * lon      (lon) float64 113.8 114.0 114.2 114.5 ... 150.0 150.2 150.5 150.8\n",
       "  * phase    (phase) &lt;U3 &#x27;all&#x27;\n",
       "Data variables:\n",
       "    precip   (time, lat, lon) float32 0.0 0.0 0.0 0.0 0.0 ... 0.0 0.0 0.0 0.0</pre>"
      ],
      "text/plain": [
       "<xarray.Dataset>\n",
       "Dimensions:  (lat: 49, lon: 149, phase: 1, time: 6469)\n",
       "Coordinates:\n",
       "  * time     (time) datetime64[ns] 1975-01-01 1975-01-02 ... 2018-12-31\n",
       "  * lat      (lat) float64 -23.0 -22.75 -22.5 -22.25 ... -11.5 -11.25 -11.0\n",
       "  * lon      (lon) float64 113.8 114.0 114.2 114.5 ... 150.0 150.2 150.5 150.8\n",
       "  * phase    (phase) <U3 'all'\n",
       "Data variables:\n",
       "    precip   (time, lat, lon) float32 0.0 0.0 0.0 0.0 0.0 ... 0.0 0.0 0.0 0.0"
      ]
     },
     "execution_count": 14,
     "metadata": {},
     "output_type": "execute_result"
    }
   ],
   "source": [
    "all_phase = above_q_ws.sum(dim = 'phase')\n",
    "all_phase['phase'] = ['all']\n",
    "all_phase"
   ]
  },
  {
   "cell_type": "code",
   "execution_count": 15,
   "metadata": {
    "ExecuteTime": {
     "end_time": "2020-03-06T06:28:47.404059Z",
     "start_time": "2020-03-06T06:28:47.006792Z"
    }
   },
   "outputs": [],
   "source": [
    "above_q_ws_all = xr.concat([above_q_ws, all_phase], dim = 'phase')"
   ]
  },
  {
   "cell_type": "code",
   "execution_count": 16,
   "metadata": {
    "ExecuteTime": {
     "end_time": "2020-03-06T06:28:47.430467Z",
     "start_time": "2020-03-06T06:28:47.406659Z"
    }
   },
   "outputs": [
    {
     "data": {
      "text/html": [
       "<pre>&lt;xarray.Dataset&gt;\n",
       "Dimensions:  (lat: 49, lon: 149, phase: 5, time: 6469)\n",
       "Coordinates:\n",
       "  * lat      (lat) float64 -23.0 -22.75 -22.5 -22.25 ... -11.5 -11.25 -11.0\n",
       "  * time     (time) datetime64[ns] 1975-01-01 1975-01-02 ... 2018-12-31\n",
       "  * lon      (lon) float64 113.8 114.0 114.2 114.5 ... 150.0 150.2 150.5 150.8\n",
       "  * phase    (phase) object &#x27;enhanced&#x27; &#x27;suppressed&#x27; ... &#x27;inactive&#x27; &#x27;all&#x27;\n",
       "Data variables:\n",
       "    precip   (phase, time, lat, lon) float32 nan nan nan nan ... 0.0 0.0 0.0 0.0</pre>"
      ],
      "text/plain": [
       "<xarray.Dataset>\n",
       "Dimensions:  (lat: 49, lon: 149, phase: 5, time: 6469)\n",
       "Coordinates:\n",
       "  * lat      (lat) float64 -23.0 -22.75 -22.5 -22.25 ... -11.5 -11.25 -11.0\n",
       "  * time     (time) datetime64[ns] 1975-01-01 1975-01-02 ... 2018-12-31\n",
       "  * lon      (lon) float64 113.8 114.0 114.2 114.5 ... 150.0 150.2 150.5 150.8\n",
       "  * phase    (phase) object 'enhanced' 'suppressed' ... 'inactive' 'all'\n",
       "Data variables:\n",
       "    precip   (phase, time, lat, lon) float32 nan nan nan nan ... 0.0 0.0 0.0 0.0"
      ]
     },
     "execution_count": 16,
     "metadata": {},
     "output_type": "execute_result"
    }
   ],
   "source": [
    "above_q_ws_all"
   ]
  },
  {
   "cell_type": "markdown",
   "metadata": {},
   "source": [
    "<div class=\"alert alert-block alert-info\"> <center> <font color = 'black' size = \"+1.5\"> Count Calculation </font></center></div>"
   ]
  },
  {
   "cell_type": "code",
   "execution_count": 17,
   "metadata": {
    "ExecuteTime": {
     "end_time": "2020-03-06T06:28:47.889799Z",
     "start_time": "2020-03-06T06:28:47.432260Z"
    }
   },
   "outputs": [
    {
     "data": {
      "text/html": [
       "<pre>&lt;xarray.Dataset&gt;\n",
       "Dimensions:  (lat: 49, lon: 149, phase: 4, year: 43)\n",
       "Coordinates:\n",
       "  * year     (year) int64 1975 1976 1977 1978 1979 ... 2013 2014 2015 2016 2017\n",
       "  * lat      (lat) float64 -23.0 -22.75 -22.5 -22.25 ... -11.5 -11.25 -11.0\n",
       "  * lon      (lon) float64 113.8 114.0 114.2 114.5 ... 150.0 150.2 150.5 150.8\n",
       "  * phase    (phase) object &#x27;enhanced&#x27; &#x27;suppressed&#x27; &#x27;transition&#x27; &#x27;inactive&#x27;\n",
       "Data variables:\n",
       "    precip   (year, phase, lat, lon) int64 0 2 1 1 1 1 1 1 1 ... 0 0 0 0 0 0 0 0</pre>"
      ],
      "text/plain": [
       "<xarray.Dataset>\n",
       "Dimensions:  (lat: 49, lon: 149, phase: 4, year: 43)\n",
       "Coordinates:\n",
       "  * year     (year) int64 1975 1976 1977 1978 1979 ... 2013 2014 2015 2016 2017\n",
       "  * lat      (lat) float64 -23.0 -22.75 -22.5 -22.25 ... -11.5 -11.25 -11.0\n",
       "  * lon      (lon) float64 113.8 114.0 114.2 114.5 ... 150.0 150.2 150.5 150.8\n",
       "  * phase    (phase) object 'enhanced' 'suppressed' 'transition' 'inactive'\n",
       "Data variables:\n",
       "    precip   (year, phase, lat, lon) int64 0 2 1 1 1 1 1 1 1 ... 0 0 0 0 0 0 0 0"
      ]
     },
     "execution_count": 17,
     "metadata": {},
     "output_type": "execute_result"
    }
   ],
   "source": [
    "above_q_ws_count = above_q_ws.resample(time = 'y').count(dim = 'time')\n",
    "\n",
    "\n",
    "# The trend function that I created used year not time\n",
    "above_q_ws_count = above_q_ws_count.rename({'time':'year'})\n",
    "\n",
    "# Otherwise it contians month and day which are superflous\n",
    "above_q_ws_count['year'] = above_q_ws_count.year.dt.year.values\n",
    "\n",
    "#Getting rid of the incomplete start and end points\n",
    "above_q_ws_count = above_q_ws_count.sel(year = slice(1975,2017)) \n",
    "above_q_ws_count"
   ]
  },
  {
   "cell_type": "markdown",
   "metadata": {},
   "source": [
    "# Plotting"
   ]
  },
  {
   "cell_type": "markdown",
   "metadata": {},
   "source": [
    "<div class=\"alert alert-block alert-info\"> <center> <font color = 'black' size = \"+1.5\"> Trend Calculation </font></center></div>"
   ]
  },
  {
   "cell_type": "markdown",
   "metadata": {},
   "source": [
    "Non-Normalised"
   ]
  },
  {
   "cell_type": "code",
   "execution_count": 18,
   "metadata": {
    "ExecuteTime": {
     "end_time": "2020-03-06T06:30:30.614171Z",
     "start_time": "2020-03-06T06:28:47.891169Z"
    }
   },
   "outputs": [
    {
     "name": "stdout",
     "output_type": "stream",
     "text": [
      "data has been normalised\n",
      "trend has been calculated\n",
      "trend has been converted to percent\n",
      "significant points habe been found\n",
      "function is complete\n"
     ]
    }
   ],
   "source": [
    "trend_function = reload(trend_functions)\n",
    "trend_count, trend_count_sig,trend_count_percent, trend_count_percent_sig = \\\n",
    "            trend_function.return_alltrendinfo_custom(above_q_ws_count.precip, normalise = 0)"
   ]
  },
  {
   "cell_type": "code",
   "execution_count": 19,
   "metadata": {
    "ExecuteTime": {
     "end_time": "2020-03-06T06:30:31.500482Z",
     "start_time": "2020-03-06T06:30:30.616111Z"
    }
   },
   "outputs": [
    {
     "data": {
      "image/png": "[encoded data removed]",
      "text/plain": [
       "<Figure size 432x864 with 5 Axes>"
      ]
     },
     "metadata": {
      "needs_background": "light"
     },
     "output_type": "display_data"
    }
   ],
   "source": [
    "trend_plot = reload(trend_plot)\n",
    "trend_plot.trend_plots(trend_count_percent.trend,\n",
    "                        titlepiece = 'Events > 90th Percentile\\n', datasource = 'AWAP',\n",
    "                       colorbar_title = 'Percent Change Per Decade', \n",
    "                        vmax = 50)"
   ]
  },
  {
   "cell_type": "code",
   "execution_count": 20,
   "metadata": {
    "ExecuteTime": {
     "end_time": "2020-03-06T06:30:31.536220Z",
     "start_time": "2020-03-06T06:30:31.502322Z"
    }
   },
   "outputs": [
    {
     "ename": "AttributeError",
     "evalue": "module 'subphase_calc_functions' has no attribute 'load_rmm'",
     "output_type": "error",
     "traceback": [
      "\u001b[0;31m---------------------------------------------------------------------------\u001b[0m",
      "\u001b[0;31mAttributeError\u001b[0m                            Traceback (most recent call last)",
      "\u001b[0;32m<ipython-input-20-3713a69a9f04>\u001b[0m in \u001b[0;36m<module>\u001b[0;34m\u001b[0m\n\u001b[1;32m      1\u001b[0m \u001b[0mtrend_function\u001b[0m\u001b[0;34m=\u001b[0m \u001b[0mreload\u001b[0m\u001b[0;34m(\u001b[0m\u001b[0mtrend_functions\u001b[0m\u001b[0;34m)\u001b[0m\u001b[0;34m\u001b[0m\u001b[0;34m\u001b[0m\u001b[0m\n\u001b[1;32m      2\u001b[0m \u001b[0mtrend_count_norm\u001b[0m \u001b[0;34m,\u001b[0m \u001b[0mtrend_count_sig_norm\u001b[0m \u001b[0;34m,\u001b[0m\u001b[0mtrend_count_percent_norm\u001b[0m \u001b[0;34m,\u001b[0m \u001b[0mtrend_count_percent_sig_norm\u001b[0m  \u001b[0;34m=\u001b[0m\u001b[0;31m \u001b[0m\u001b[0;31m\\\u001b[0m\u001b[0;34m\u001b[0m\u001b[0;34m\u001b[0m\u001b[0m\n\u001b[0;32m----> 3\u001b[0;31m             \u001b[0mtrend_function\u001b[0m\u001b[0;34m.\u001b[0m\u001b[0mreturn_alltrendinfo_custom\u001b[0m\u001b[0;34m(\u001b[0m\u001b[0mabove_q_ws_count\u001b[0m\u001b[0;34m.\u001b[0m\u001b[0mprecip\u001b[0m\u001b[0;34m,\u001b[0m \u001b[0mnormalise\u001b[0m \u001b[0;34m=\u001b[0m \u001b[0;36m1\u001b[0m\u001b[0;34m)\u001b[0m\u001b[0;34m\u001b[0m\u001b[0;34m\u001b[0m\u001b[0m\n\u001b[0m",
      "\u001b[0;32m~/MJO/functions/trend_functions.py\u001b[0m in \u001b[0;36mreturn_alltrendinfo_custom\u001b[0;34m(data, normalise)\u001b[0m\n\u001b[1;32m    236\u001b[0m \u001b[0;34m\u001b[0m\u001b[0m\n\u001b[1;32m    237\u001b[0m     \u001b[0;32mif\u001b[0m \u001b[0mnormalise\u001b[0m\u001b[0;34m:\u001b[0m\u001b[0;34m\u001b[0m\u001b[0;34m\u001b[0m\u001b[0m\n\u001b[0;32m--> 238\u001b[0;31m         \u001b[0mrmm\u001b[0m \u001b[0;34m=\u001b[0m \u001b[0msubphase_calc\u001b[0m\u001b[0;34m.\u001b[0m\u001b[0mload_rmm\u001b[0m\u001b[0;34m(\u001b[0m\u001b[0;34m)\u001b[0m\u001b[0;34m\u001b[0m\u001b[0;34m\u001b[0m\u001b[0m\n\u001b[0m\u001b[1;32m    239\u001b[0m         \u001b[0msubphase_count\u001b[0m \u001b[0;34m=\u001b[0m \u001b[0mcount_in_rmm_subphsae\u001b[0m\u001b[0;34m(\u001b[0m\u001b[0mrmm\u001b[0m\u001b[0;34m)\u001b[0m\u001b[0;34m\u001b[0m\u001b[0;34m\u001b[0m\u001b[0m\n\u001b[1;32m    240\u001b[0m         \u001b[0mdata\u001b[0m \u001b[0;34m=\u001b[0m \u001b[0;34m(\u001b[0m\u001b[0mdata\u001b[0m\u001b[0;34m/\u001b[0m\u001b[0msubphase_count\u001b[0m\u001b[0;34m.\u001b[0m\u001b[0mnumber\u001b[0m\u001b[0;34m)\u001b[0m\u001b[0;34m\u001b[0m\u001b[0;34m\u001b[0m\u001b[0m\n",
      "\u001b[0;31mAttributeError\u001b[0m: module 'subphase_calc_functions' has no attribute 'load_rmm'"
     ]
    }
   ],
   "source": [
    "trend_function= reload(trend_functions)\n",
    "trend_count_norm , trend_count_sig_norm ,trend_count_percent_norm , trend_count_percent_sig_norm  = \\\n",
    "            trend_function.return_alltrendinfo_custom(above_q_ws_count.precip, normalise = 1)"
   ]
  },
  {
   "cell_type": "code",
   "execution_count": null,
   "metadata": {
    "ExecuteTime": {
     "end_time": "2020-03-06T06:30:31.537863Z",
     "start_time": "2020-03-06T06:27:46.388Z"
    }
   },
   "outputs": [],
   "source": [
    "trend_count_percent_sig_norm"
   ]
  },
  {
   "cell_type": "code",
   "execution_count": null,
   "metadata": {
    "ExecuteTime": {
     "end_time": "2020-03-06T06:30:31.539114Z",
     "start_time": "2020-03-06T06:27:46.392Z"
    }
   },
   "outputs": [],
   "source": [
    "trend_plot = reload(trend_plot)\n",
    "trend_plot.trend_plots(trend_count_percent_norm.trend,\n",
    "                        titlepiece = 'Events > 90th Percentile\\n', datasource = 'AWAP',\n",
    "                       colorbar_title = 'Percent Change Per Decade', \n",
    "                        vmax = 50)"
   ]
  },
  {
   "cell_type": "markdown",
   "metadata": {},
   "source": [
    "# Number of Days in Each Phase"
   ]
  },
  {
   "cell_type": "code",
   "execution_count": null,
   "metadata": {
    "ExecuteTime": {
     "end_time": "2020-03-06T06:30:31.540368Z",
     "start_time": "2020-03-06T06:27:46.395Z"
    }
   },
   "outputs": [],
   "source": [
    "trend_functions = reload(trend_functions)\n",
    "subphase_count = trend_functions.count_in_rmm_subphsae(rmm)"
   ]
  },
  {
   "cell_type": "code",
   "execution_count": null,
   "metadata": {
    "ExecuteTime": {
     "end_time": "2020-03-06T06:30:31.541577Z",
     "start_time": "2020-03-06T06:27:46.399Z"
    }
   },
   "outputs": [],
   "source": [
    "subphase_count"
   ]
  },
  {
   "cell_type": "code",
   "execution_count": null,
   "metadata": {
    "ExecuteTime": {
     "end_time": "2020-03-06T06:30:31.542501Z",
     "start_time": "2020-03-06T06:27:46.403Z"
    }
   },
   "outputs": [],
   "source": [
    "fig = plt.figure(figsize = (10,10))\n",
    "gs = gridspec.GridSpec(2,2)\n",
    "\n",
    "\n",
    "for i,phase in enumerate(subphase_count.phase.values):\n",
    "    data = subphase_count.sel(phase = phase)\n",
    "    ax = fig.add_subplot(gs[i])\n",
    "    ax.plot(data.number)\n",
    "    ax.set_title(phase)"
   ]
  }
 ],
 "metadata": {
  "kernelspec": {
   "display_name": "Python 3",
   "language": "python",
   "name": "python3"
  },
  "language_info": {
   "codemirror_mode": {
    "name": "ipython",
    "version": 3
   },
   "file_extension": ".py",
   "mimetype": "text/x-python",
   "name": "python",
   "nbconvert_exporter": "python",
   "pygments_lexer": "ipython3",
   "version": "3.7.6"
  }
 },
 "nbformat": 4,
 "nbformat_minor": 2
}
