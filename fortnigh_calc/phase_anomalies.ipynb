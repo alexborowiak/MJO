{
 "cells": [
  {
   "cell_type": "markdown",
   "metadata": {},
   "source": [
    "# Preamble"
   ]
  },
  {
   "cell_type": "code",
   "execution_count": 1,
   "metadata": {
    "ExecuteTime": {
     "end_time": "2020-03-13T01:15:42.004163Z",
     "start_time": "2020-03-13T01:15:32.981397Z"
    }
   },
   "outputs": [],
   "source": [
    "import xarray as xr\n",
    "import numpy as np\n",
    "import pandas as pd\n",
    "import matplotlib.pyplot as plt\n",
    "import dask.array\n",
    "import cartopy.crs as ccrs\n",
    "import pickle\n",
    "import matplotlib.colors as colors\n",
    "import datetime as dt\n",
    "import pickle\n",
    "from matplotlib.colors import BoundaryNorm\n",
    "import glob\n",
    "import calendar\n",
    "import warnings\n",
    "warnings.filterwarnings('ignore')\n",
    "import dask\n",
    "import matplotlib.gridspec as gridspec"
   ]
  },
  {
   "cell_type": "code",
   "execution_count": 2,
   "metadata": {
    "ExecuteTime": {
     "end_time": "2020-03-13T01:15:42.744396Z",
     "start_time": "2020-03-13T01:15:42.009527Z"
    }
   },
   "outputs": [],
   "source": [
    "import sys\n",
    "from importlib import reload\n",
    "sys.path.append('/home/563/ab2313/MJO/functions')\n",
    "\n",
    "import phase_calc_functions as phase_calc\n",
    "import phase_plot_functions as phase_plot\n",
    "import subphase_calc_functions as subphase_calc\n",
    "import access_functions as af\n",
    "import access_plot_functions as apf\n",
    "import load_dataset as load\n",
    "\n",
    "import phase_fortnight_calc as phase_for\n",
    "import phase_weekly as phase_w"
   ]
  },
  {
   "cell_type": "code",
   "execution_count": 3,
   "metadata": {
    "ExecuteTime": {
     "end_time": "2020-03-13T01:15:42.752137Z",
     "start_time": "2020-03-13T01:15:42.748296Z"
    }
   },
   "outputs": [],
   "source": [
    "savedir = 'pattern_correlation/phase/'"
   ]
  },
  {
   "cell_type": "code",
   "execution_count": null,
   "metadata": {
    "ExecuteTime": {
     "start_time": "2020-03-13T01:15:32.991Z"
    }
   },
   "outputs": [],
   "source": [
    "load = reload(load)\n",
    "awap, access, rmm_obs, rmm_access = load.load_accessifies_variables()"
   ]
  },
  {
   "cell_type": "code",
   "execution_count": null,
   "metadata": {
    "ExecuteTime": {
     "start_time": "2020-03-13T01:15:32.997Z"
    }
   },
   "outputs": [],
   "source": [
    "rmm_obs = rmm_obs.drop(['RMM1','RMM2'])"
   ]
  },
  {
   "cell_type": "code",
   "execution_count": null,
   "metadata": {
    "ExecuteTime": {
     "start_time": "2020-03-13T01:15:33.002Z"
    }
   },
   "outputs": [],
   "source": [
    "awap_split = phase_calc.split_into_1to8(awap, rmm_obs)"
   ]
  },
  {
   "cell_type": "markdown",
   "metadata": {},
   "source": [
    "# Count"
   ]
  },
  {
   "cell_type": "markdown",
   "metadata": {
    "heading_collapsed": true
   },
   "source": [
    "## AWAP"
   ]
  },
  {
   "cell_type": "code",
   "execution_count": null,
   "metadata": {
    "ExecuteTime": {
     "start_time": "2020-03-13T01:15:33.011Z"
    },
    "hidden": true
   },
   "outputs": [],
   "source": [
    "phase_w = reload(phase_w)\n",
    "count_perc, count_anom = phase_w.count_anomalies_phase_fortnight(awap_split, awap, rmm_obs)"
   ]
  },
  {
   "cell_type": "code",
   "execution_count": null,
   "metadata": {
    "ExecuteTime": {
     "start_time": "2020-03-13T01:15:33.016Z"
    },
    "hidden": true
   },
   "outputs": [],
   "source": [
    "phase_plot = reload(phase_plot)\n",
    "month = 1\n",
    "\n",
    "\n",
    "phase_plot.values_plots(count_perc.sel(month = 'early', week = '2').precip, cbar_num_steps = 11,\n",
    "             title = calendar.month_name[month] + ' Percent of Days as Raindays for Phases of the MJO (AWAP) ', cbar_title = 'Percent',\n",
    "                       savefig = 0,  savedir = savedir)"
   ]
  },
  {
   "cell_type": "code",
   "execution_count": null,
   "metadata": {
    "ExecuteTime": {
     "start_time": "2020-03-13T01:15:33.019Z"
    },
    "hidden": true
   },
   "outputs": [],
   "source": [
    "phase_plot = reload(phase_plot)\n",
    "step = 0.05\n",
    "end = 1.5\n",
    "week = '2'\n",
    "month = 'early'\n",
    "# l1 = np.arange(1 + step, end + step, step)\n",
    "l1 = []\n",
    "\n",
    "phase_plot.anomalies_plots(count_anom.sel(month = month, week = week).precip, vmax = 2.1, l1 = l1,           \n",
    "             title = ' Rainday Percent Compared to Climatology for Phases of the MJO (AWAP' + ','\n",
    "                           + month + ',' + week + ')', \n",
    "                           cbar_title = 'Anomaly',\n",
    "                       savefig = 0, savedir = savedir)"
   ]
  },
  {
   "cell_type": "markdown",
   "metadata": {},
   "source": [
    "## ACCESS"
   ]
  },
  {
   "cell_type": "code",
   "execution_count": null,
   "metadata": {
    "ExecuteTime": {
     "start_time": "2020-03-13T01:15:33.022Z"
    }
   },
   "outputs": [],
   "source": [
    "phase_w = reload(phase_w)\n",
    "access_count_raw, access_count_anom, count_stor, anom_stor\\\n",
    "        = phase_w.ensemble_func_all(access, rmm_access, phase_w.count_anomalies_phase_week)"
   ]
  },
  {
   "cell_type": "markdown",
   "metadata": {},
   "source": [
    "## Pattern Correlation"
   ]
  },
  {
   "cell_type": "code",
   "execution_count": null,
   "metadata": {
    "ExecuteTime": {
     "start_time": "2020-03-13T01:15:33.026Z"
    }
   },
   "outputs": [],
   "source": [
    "import access_plot_functions as apf"
   ]
  },
  {
   "cell_type": "code",
   "execution_count": null,
   "metadata": {
    "ExecuteTime": {
     "start_time": "2020-03-13T01:15:33.033Z"
    },
    "scrolled": true
   },
   "outputs": [],
   "source": [
    "apf = reload(apf)\n",
    "\n",
    "week = '4'\n",
    "month = 'late'\n",
    "save_name = f'Count_{week}_month'\n",
    "apf.comparison_plot_phases(count_perc.sel(month = month, week = week), \n",
    "                           access_count_raw.sel(month = month, week = week),\n",
    "                          plot_max = 100, vmax = 3.2,figsize = (20,25), \n",
    "                           rain_type = f'Percent of Days as Rainday\\n({save_name})',\n",
    "                           cbar1_title = 'Percent', cbar2_title = 'ACCESS-S/AWAP',\n",
    "                          savefig = 1, savedir = savedir, save_name = save_name)"
   ]
  },
  {
   "cell_type": "code",
   "execution_count": null,
   "metadata": {
    "ExecuteTime": {
     "start_time": "2020-03-13T01:15:33.042Z"
    }
   },
   "outputs": [],
   "source": [
    "week = '4'\n",
    "month = 'late'\n",
    "save_name = f'Count_{week}_{month}_anomaly'\n",
    "apf = reload(apf)\n",
    "apf.anom_plot_phases(count_anom.sel(month = month, week = week),\n",
    "                           access_count_anom.sel(month = month, week = week) ,\n",
    "                     rain_type = f'Percent of Days as Raindays Anomaly\\n({save_name})', vmax = 3\n",
    "                    ,figsize = (14,25), cbar_title = 'Conditional Probability',\n",
    "                    savefig = 1, savedir = savedir, save_name = save_name)"
   ]
  },
  {
   "cell_type": "markdown",
   "metadata": {},
   "source": [
    "## Timeseries"
   ]
  },
  {
   "cell_type": "code",
   "execution_count": null,
   "metadata": {},
   "outputs": [],
   "source": []
  },
  {
   "cell_type": "markdown",
   "metadata": {
    "heading_collapsed": true
   },
   "source": [
    "# Rainfall Per Day"
   ]
  },
  {
   "cell_type": "code",
   "execution_count": null,
   "metadata": {
    "ExecuteTime": {
     "start_time": "2020-03-13T01:15:33.050Z"
    },
    "hidden": true
   },
   "outputs": [],
   "source": [
    "phase_w = reload(phase_w)\n",
    "mean_raw, mean_anom = phase_w.mean_anomalies_phase_week(awap_split, awap, rmm_obs)"
   ]
  },
  {
   "cell_type": "code",
   "execution_count": null,
   "metadata": {
    "ExecuteTime": {
     "start_time": "2020-03-13T01:15:33.056Z"
    },
    "hidden": true
   },
   "outputs": [],
   "source": [
    "access_int_raw, access_int_anom, int_stor, int_anom_stor\\\n",
    "        = phase_w.ensemble_func_all(access, rmm_access, phase_w.mean_anomalies_phase_week)"
   ]
  },
  {
   "cell_type": "code",
   "execution_count": null,
   "metadata": {
    "ExecuteTime": {
     "start_time": "2020-03-13T01:15:33.066Z"
    },
    "hidden": true
   },
   "outputs": [],
   "source": [
    "apf = reload(apf)\n",
    "\n",
    "week = '4'\n",
    "month = 'late'\n",
    "save_name = f'Int_{week}_month'\n",
    "apf.comparison_plot_phases(mean_raw.sel(month = month, week = week), \n",
    "                           access_int_raw.sel(month = month, week = week),\n",
    "                          plot_max = 20, vmax = 3.2,figsize = (20,25), \n",
    "                           rain_type = f'Average Rainfall Intensity\\n({save_name})',\n",
    "                           cbar1_title = '(mm)', cbar2_title = 'ACCESS-S/AWAP',\n",
    "                          savefig = 1, savedir = savedir, save_name = save_name)"
   ]
  },
  {
   "cell_type": "code",
   "execution_count": null,
   "metadata": {
    "ExecuteTime": {
     "start_time": "2020-03-13T01:15:33.073Z"
    },
    "hidden": true
   },
   "outputs": [],
   "source": [
    "week = '4'\n",
    "month = 'late'\n",
    "save_name = f'Int_{week}_{month}_anomaly'\n",
    "apf = reload(apf)\n",
    "apf.anom_plot_phases(mean_anom.sel(month = month, week = week),\n",
    "                           access_int_anom.sel(month = month, week = week) ,\n",
    "                     rain_type = f'Rainfall Intensity Anomlies\\n({save_name})', vmax = 3\n",
    "                    ,figsize = (14,25), cbar_title = 'Intensity Ratio',\n",
    "                    savefig = 1, savedir = savedir, save_name = save_name)"
   ]
  }
 ],
 "metadata": {
  "kernelspec": {
   "display_name": "Python 3",
   "language": "python",
   "name": "python3"
  },
  "language_info": {
   "codemirror_mode": {
    "name": "ipython",
    "version": 3
   },
   "file_extension": ".py",
   "mimetype": "text/x-python",
   "name": "python",
   "nbconvert_exporter": "python",
   "pygments_lexer": "ipython3",
   "version": "3.6.7"
  }
 },
 "nbformat": 4,
 "nbformat_minor": 2
}
